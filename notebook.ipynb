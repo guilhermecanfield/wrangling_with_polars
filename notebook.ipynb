{
 "cells": [
  {
   "cell_type": "code",
   "execution_count": 54,
   "metadata": {},
   "outputs": [
    {
     "data": {
      "text/plain": [
       "polars.config.Config"
      ]
     },
     "execution_count": 54,
     "metadata": {},
     "output_type": "execute_result"
    }
   ],
   "source": [
    "import polars as pl\n",
    "import pandas as pd\n",
    "\n",
    "# Configura o número máximo de colunas e linhas exibidas\n",
    "pl.Config.set_tbl_cols(100)  # Máximo de colunas a exibir\n",
    "pl.Config.set_tbl_rows(100)  # Máximo de linhas a exibir"
   ]
  },
  {
   "cell_type": "code",
   "execution_count": 323,
   "metadata": {},
   "outputs": [],
   "source": [
    "df = pl.read_csv('data/Big_Japan_vs_China_Technology.csv')\n",
    "orders = pl.read_csv('data/olist_orders_dataset.csv')\n",
    "customers = pl.read_csv('data/olist_customers_dataset.csv')"
   ]
  },
  {
   "cell_type": "markdown",
   "metadata": {},
   "source": [
    "### Descriptive Statistics"
   ]
  },
  {
   "cell_type": "code",
   "execution_count": 229,
   "metadata": {},
   "outputs": [
    {
     "data": {
      "text/html": [
       "<div><style>\n",
       ".dataframe > thead > tr,\n",
       ".dataframe > tbody > tr {\n",
       "  text-align: right;\n",
       "  white-space: pre-wrap;\n",
       "}\n",
       "</style>\n",
       "<small>shape: (12, 17)</small><table border=\"1\" class=\"dataframe\"><thead><tr><th>statistic</th><th>Country</th><th>Year</th><th>Tech Sector</th><th>Market Share (%)</th><th>R&amp;D Investment (in USD)</th><th>Number of Patents Filed (Annual)</th><th>Number of Tech Companies</th><th>Tech Exports (in USD)</th><th>Number of Startups</th><th>Venture Capital Funding (in USD)</th><th>Global Innovation Ranking</th><th>Internet Penetration (%)</th><th>5G Network Coverage (%)</th><th>University Research Collaborations</th><th>Top Tech Products Exported</th><th>Number of Tech Workers</th></tr><tr><td>str</td><td>str</td><td>f64</td><td>str</td><td>f64</td><td>f64</td><td>f64</td><td>f64</td><td>f64</td><td>f64</td><td>f64</td><td>f64</td><td>f64</td><td>f64</td><td>f64</td><td>str</td><td>f64</td></tr></thead><tbody><tr><td>&quot;count&quot;</td><td>&quot;1000&quot;</td><td>1000.0</td><td>&quot;1000&quot;</td><td>1000.0</td><td>1000.0</td><td>1000.0</td><td>1000.0</td><td>1000.0</td><td>1000.0</td><td>1000.0</td><td>1000.0</td><td>1000.0</td><td>1000.0</td><td>1000.0</td><td>&quot;1000&quot;</td><td>1000.0</td></tr><tr><td>&quot;null_count&quot;</td><td>&quot;0&quot;</td><td>0.0</td><td>&quot;0&quot;</td><td>0.0</td><td>0.0</td><td>0.0</td><td>0.0</td><td>0.0</td><td>0.0</td><td>0.0</td><td>0.0</td><td>0.0</td><td>0.0</td><td>0.0</td><td>&quot;0&quot;</td><td>0.0</td></tr><tr><td>&quot;mean&quot;</td><td>null</td><td>2011.497</td><td>null</td><td>27.439221</td><td>5.0346e10</td><td>5094.686</td><td>1011.133</td><td>9.9053e10</td><td>257.524</td><td>2.4672e10</td><td>10.003</td><td>69.739498</td><td>49.970784</td><td>99.084</td><td>null</td><td>496483.411</td></tr><tr><td>&quot;std&quot;</td><td>null</td><td>6.991486</td><td>null</td><td>12.808159</td><td>2.8297e10</td><td>2846.164392</td><td>563.223321</td><td>5.9212e10</td><td>143.525939</td><td>1.4693e10</td><td>5.533318</td><td>17.071675</td><td>23.012153</td><td>55.374319</td><td>null</td><td>290405.281594</td></tr><tr><td>&quot;min&quot;</td><td>&quot;China&quot;</td><td>2000.0</td><td>&quot;AI&quot;</td><td>5.033959</td><td>1.0566e9</td><td>119.0</td><td>52.0</td><td>1.0727e9</td><td>11.0</td><td>3.6814e7</td><td>1.0</td><td>40.07913</td><td>10.043427</td><td>1.0</td><td>&quot;5G Equipment&quot;</td><td>2422.0</td></tr><tr><td>&quot;25%&quot;</td><td>null</td><td>2005.0</td><td>null</td><td>16.337719</td><td>2.5622e10</td><td>2791.0</td><td>503.0</td><td>4.6057e10</td><td>131.0</td><td>1.1956e10</td><td>5.0</td><td>54.8854</td><td>29.81836</td><td>53.0</td><td>null</td><td>249029.0</td></tr><tr><td>&quot;50%&quot;</td><td>null</td><td>2012.0</td><td>null</td><td>27.116438</td><td>5.0247e10</td><td>5025.0</td><td>999.0</td><td>9.6844e10</td><td>258.0</td><td>2.4557e10</td><td>10.0</td><td>70.306725</td><td>51.178204</td><td>100.0</td><td>null</td><td>506264.0</td></tr><tr><td>&quot;75%&quot;</td><td>null</td><td>2017.0</td><td>null</td><td>38.454411</td><td>7.4913e10</td><td>7561.0</td><td>1493.0</td><td>1.5203e11</td><td>382.0</td><td>3.7102e10</td><td>15.0</td><td>84.39628</td><td>69.704929</td><td>147.0</td><td>null</td><td>737750.0</td></tr><tr><td>&quot;90%&quot;</td><td>null</td><td>2021.0</td><td>null</td><td>45.01812</td><td>9.0434e10</td><td>9068.0</td><td>1790.0</td><td>1.8280e11</td><td>459.0</td><td>4.5290e10</td><td>18.0</td><td>93.649471</td><td>81.345722</td><td>175.0</td><td>null</td><td>900889.0</td></tr><tr><td>&quot;99%&quot;</td><td>null</td><td>2023.0</td><td>null</td><td>49.414074</td><td>9.9247e10</td><td>9906.0</td><td>1983.0</td><td>1.9835e11</td><td>495.0</td><td>4.9483e10</td><td>19.0</td><td>99.385657</td><td>89.264837</td><td>197.0</td><td>null</td><td>982137.0</td></tr><tr><td>&quot;99.9%&quot;</td><td>null</td><td>2023.0</td><td>null</td><td>49.946957</td><td>9.9959e10</td><td>9987.0</td><td>1995.0</td><td>1.9961e11</td><td>498.0</td><td>4.9813e10</td><td>19.0</td><td>99.893561</td><td>89.887811</td><td>199.0</td><td>null</td><td>996791.0</td></tr><tr><td>&quot;max&quot;</td><td>&quot;Japan&quot;</td><td>2023.0</td><td>&quot;Telecommunications&quot;</td><td>49.955344</td><td>9.9975e10</td><td>9989.0</td><td>1999.0</td><td>1.9973e11</td><td>499.0</td><td>4.9917e10</td><td>19.0</td><td>99.935228</td><td>89.90458</td><td>199.0</td><td>&quot;Semiconductors&quot;</td><td>996999.0</td></tr></tbody></table></div>"
      ],
      "text/plain": [
       "shape: (12, 17)\n",
       "┌─────┬─────┬─────┬─────┬─────┬─────┬─────┬─────┬─────┬─────┬─────┬─────┬─────┬─────┬─────┬─────┬─────┐\n",
       "│ sta ┆ Cou ┆ Yea ┆ Tec ┆ Mar ┆ R&D ┆ Num ┆ Num ┆ Tec ┆ Num ┆ Ven ┆ Glo ┆ Int ┆ 5G  ┆ Uni ┆ Top ┆ Num │\n",
       "│ tis ┆ ntr ┆ r   ┆ h   ┆ ket ┆ Inv ┆ ber ┆ ber ┆ h   ┆ ber ┆ tur ┆ bal ┆ ern ┆ Net ┆ ver ┆ Tec ┆ ber │\n",
       "│ tic ┆ y   ┆ --- ┆ Sec ┆ Sha ┆ est ┆ of  ┆ of  ┆ Exp ┆ of  ┆ e   ┆ Inn ┆ et  ┆ wor ┆ sit ┆ h   ┆ of  │\n",
       "│ --- ┆ --- ┆ f64 ┆ tor ┆ re  ┆ men ┆ Pat ┆ Tec ┆ ort ┆ Sta ┆ Cap ┆ ova ┆ Pen ┆ k   ┆ y   ┆ Pro ┆ Tec │\n",
       "│ str ┆ str ┆     ┆ --- ┆ (%) ┆ t   ┆ ent ┆ h   ┆ s   ┆ rtu ┆ ita ┆ tio ┆ etr ┆ Cov ┆ Res ┆ duc ┆ h   │\n",
       "│     ┆     ┆     ┆ str ┆ --- ┆ (in ┆ s   ┆ Com ┆ (in ┆ ps  ┆ l   ┆ n   ┆ ati ┆ era ┆ ear ┆ ts  ┆ Wor │\n",
       "│     ┆     ┆     ┆     ┆ f64 ┆ USD ┆ Fil ┆ pan ┆ USD ┆ --- ┆ Fun ┆ Ran ┆ on  ┆ ge  ┆ ch  ┆ Exp ┆ ker │\n",
       "│     ┆     ┆     ┆     ┆     ┆ )   ┆ ed  ┆ ies ┆ )   ┆ f64 ┆ din ┆ kin ┆ (%) ┆ (%) ┆ Col ┆ ort ┆ s   │\n",
       "│     ┆     ┆     ┆     ┆     ┆ --- ┆ (An ┆ --- ┆ --- ┆     ┆ g   ┆ g   ┆ --- ┆ --- ┆ lab ┆ ed  ┆ --- │\n",
       "│     ┆     ┆     ┆     ┆     ┆ f64 ┆ nua ┆ f64 ┆ f64 ┆     ┆ (in ┆ --- ┆ f64 ┆ f64 ┆ ora ┆ --- ┆ f64 │\n",
       "│     ┆     ┆     ┆     ┆     ┆     ┆ …   ┆     ┆     ┆     ┆ US… ┆ f64 ┆     ┆     ┆ t…  ┆ str ┆     │\n",
       "│     ┆     ┆     ┆     ┆     ┆     ┆ --- ┆     ┆     ┆     ┆ --- ┆     ┆     ┆     ┆ --- ┆     ┆     │\n",
       "│     ┆     ┆     ┆     ┆     ┆     ┆ f64 ┆     ┆     ┆     ┆ f64 ┆     ┆     ┆     ┆ f64 ┆     ┆     │\n",
       "╞═════╪═════╪═════╪═════╪═════╪═════╪═════╪═════╪═════╪═════╪═════╪═════╪═════╪═════╪═════╪═════╪═════╡\n",
       "│ cou ┆ 100 ┆ 100 ┆ 100 ┆ 100 ┆ 100 ┆ 100 ┆ 100 ┆ 100 ┆ 100 ┆ 100 ┆ 100 ┆ 100 ┆ 100 ┆ 100 ┆ 100 ┆ 100 │\n",
       "│ nt  ┆ 0   ┆ 0.0 ┆ 0   ┆ 0.0 ┆ 0.0 ┆ 0.0 ┆ 0.0 ┆ 0.0 ┆ 0.0 ┆ 0.0 ┆ 0.0 ┆ 0.0 ┆ 0.0 ┆ 0.0 ┆ 0   ┆ 0.0 │\n",
       "│ nul ┆ 0   ┆ 0.0 ┆ 0   ┆ 0.0 ┆ 0.0 ┆ 0.0 ┆ 0.0 ┆ 0.0 ┆ 0.0 ┆ 0.0 ┆ 0.0 ┆ 0.0 ┆ 0.0 ┆ 0.0 ┆ 0   ┆ 0.0 │\n",
       "│ l_c ┆     ┆     ┆     ┆     ┆     ┆     ┆     ┆     ┆     ┆     ┆     ┆     ┆     ┆     ┆     ┆     │\n",
       "│ oun ┆     ┆     ┆     ┆     ┆     ┆     ┆     ┆     ┆     ┆     ┆     ┆     ┆     ┆     ┆     ┆     │\n",
       "│ t   ┆     ┆     ┆     ┆     ┆     ┆     ┆     ┆     ┆     ┆     ┆     ┆     ┆     ┆     ┆     ┆     │\n",
       "│ mea ┆ nul ┆ 201 ┆ nul ┆ 27. ┆ 5.0 ┆ 509 ┆ 101 ┆ 9.9 ┆ 257 ┆ 2.4 ┆ 10. ┆ 69. ┆ 49. ┆ 99. ┆ nul ┆ 496 │\n",
       "│ n   ┆ l   ┆ 1.4 ┆ l   ┆ 439 ┆ 346 ┆ 4.6 ┆ 1.1 ┆ 053 ┆ .52 ┆ 672 ┆ 003 ┆ 739 ┆ 970 ┆ 084 ┆ l   ┆ 483 │\n",
       "│     ┆     ┆ 97  ┆     ┆ 221 ┆ e10 ┆ 86  ┆ 33  ┆ e10 ┆ 4   ┆ e10 ┆     ┆ 498 ┆ 784 ┆     ┆     ┆ .41 │\n",
       "│     ┆     ┆     ┆     ┆     ┆     ┆     ┆     ┆     ┆     ┆     ┆     ┆     ┆     ┆     ┆     ┆ 1   │\n",
       "│ std ┆ nul ┆ 6.9 ┆ nul ┆ 12. ┆ 2.8 ┆ 284 ┆ 563 ┆ 5.9 ┆ 143 ┆ 1.4 ┆ 5.5 ┆ 17. ┆ 23. ┆ 55. ┆ nul ┆ 290 │\n",
       "│     ┆ l   ┆ 914 ┆ l   ┆ 808 ┆ 297 ┆ 6.1 ┆ .22 ┆ 212 ┆ .52 ┆ 693 ┆ 333 ┆ 071 ┆ 012 ┆ 374 ┆ l   ┆ 405 │\n",
       "│     ┆     ┆ 86  ┆     ┆ 159 ┆ e10 ┆ 643 ┆ 332 ┆ e10 ┆ 593 ┆ e10 ┆ 18  ┆ 675 ┆ 153 ┆ 319 ┆     ┆ .28 │\n",
       "│     ┆     ┆     ┆     ┆     ┆     ┆ 92  ┆ 1   ┆     ┆ 9   ┆     ┆     ┆     ┆     ┆     ┆     ┆ 159 │\n",
       "│     ┆     ┆     ┆     ┆     ┆     ┆     ┆     ┆     ┆     ┆     ┆     ┆     ┆     ┆     ┆     ┆ 4   │\n",
       "│ min ┆ Chi ┆ 200 ┆ AI  ┆ 5.0 ┆ 1.0 ┆ 119 ┆ 52. ┆ 1.0 ┆ 11. ┆ 3.6 ┆ 1.0 ┆ 40. ┆ 10. ┆ 1.0 ┆ 5G  ┆ 242 │\n",
       "│     ┆ na  ┆ 0.0 ┆     ┆ 339 ┆ 566 ┆ .0  ┆ 0   ┆ 727 ┆ 0   ┆ 814 ┆     ┆ 079 ┆ 043 ┆     ┆ Equ ┆ 2.0 │\n",
       "│     ┆     ┆     ┆     ┆ 59  ┆ e9  ┆     ┆     ┆ e9  ┆     ┆ e7  ┆     ┆ 13  ┆ 427 ┆     ┆ ipm ┆     │\n",
       "│     ┆     ┆     ┆     ┆     ┆     ┆     ┆     ┆     ┆     ┆     ┆     ┆     ┆     ┆     ┆ ent ┆     │\n",
       "│ 25% ┆ nul ┆ 200 ┆ nul ┆ 16. ┆ 2.5 ┆ 279 ┆ 503 ┆ 4.6 ┆ 131 ┆ 1.1 ┆ 5.0 ┆ 54. ┆ 29. ┆ 53. ┆ nul ┆ 249 │\n",
       "│     ┆ l   ┆ 5.0 ┆ l   ┆ 337 ┆ 622 ┆ 1.0 ┆ .0  ┆ 057 ┆ .0  ┆ 956 ┆     ┆ 885 ┆ 818 ┆ 0   ┆ l   ┆ 029 │\n",
       "│     ┆     ┆     ┆     ┆ 719 ┆ e10 ┆     ┆     ┆ e10 ┆     ┆ e10 ┆     ┆ 4   ┆ 36  ┆     ┆     ┆ .0  │\n",
       "│ 50% ┆ nul ┆ 201 ┆ nul ┆ 27. ┆ 5.0 ┆ 502 ┆ 999 ┆ 9.6 ┆ 258 ┆ 2.4 ┆ 10. ┆ 70. ┆ 51. ┆ 100 ┆ nul ┆ 506 │\n",
       "│     ┆ l   ┆ 2.0 ┆ l   ┆ 116 ┆ 247 ┆ 5.0 ┆ .0  ┆ 844 ┆ .0  ┆ 557 ┆ 0   ┆ 306 ┆ 178 ┆ .0  ┆ l   ┆ 264 │\n",
       "│     ┆     ┆     ┆     ┆ 438 ┆ e10 ┆     ┆     ┆ e10 ┆     ┆ e10 ┆     ┆ 725 ┆ 204 ┆     ┆     ┆ .0  │\n",
       "│ 75% ┆ nul ┆ 201 ┆ nul ┆ 38. ┆ 7.4 ┆ 756 ┆ 149 ┆ 1.5 ┆ 382 ┆ 3.7 ┆ 15. ┆ 84. ┆ 69. ┆ 147 ┆ nul ┆ 737 │\n",
       "│     ┆ l   ┆ 7.0 ┆ l   ┆ 454 ┆ 913 ┆ 1.0 ┆ 3.0 ┆ 203 ┆ .0  ┆ 102 ┆ 0   ┆ 396 ┆ 704 ┆ .0  ┆ l   ┆ 750 │\n",
       "│     ┆     ┆     ┆     ┆ 411 ┆ e10 ┆     ┆     ┆ e11 ┆     ┆ e10 ┆     ┆ 28  ┆ 929 ┆     ┆     ┆ .0  │\n",
       "│ 90% ┆ nul ┆ 202 ┆ nul ┆ 45. ┆ 9.0 ┆ 906 ┆ 179 ┆ 1.8 ┆ 459 ┆ 4.5 ┆ 18. ┆ 93. ┆ 81. ┆ 175 ┆ nul ┆ 900 │\n",
       "│     ┆ l   ┆ 1.0 ┆ l   ┆ 018 ┆ 434 ┆ 8.0 ┆ 0.0 ┆ 280 ┆ .0  ┆ 290 ┆ 0   ┆ 649 ┆ 345 ┆ .0  ┆ l   ┆ 889 │\n",
       "│     ┆     ┆     ┆     ┆ 12  ┆ e10 ┆     ┆     ┆ e11 ┆     ┆ e10 ┆     ┆ 471 ┆ 722 ┆     ┆     ┆ .0  │\n",
       "│ 99% ┆ nul ┆ 202 ┆ nul ┆ 49. ┆ 9.9 ┆ 990 ┆ 198 ┆ 1.9 ┆ 495 ┆ 4.9 ┆ 19. ┆ 99. ┆ 89. ┆ 197 ┆ nul ┆ 982 │\n",
       "│     ┆ l   ┆ 3.0 ┆ l   ┆ 414 ┆ 247 ┆ 6.0 ┆ 3.0 ┆ 835 ┆ .0  ┆ 483 ┆ 0   ┆ 385 ┆ 264 ┆ .0  ┆ l   ┆ 137 │\n",
       "│     ┆     ┆     ┆     ┆ 074 ┆ e10 ┆     ┆     ┆ e11 ┆     ┆ e10 ┆     ┆ 657 ┆ 837 ┆     ┆     ┆ .0  │\n",
       "│ 99. ┆ nul ┆ 202 ┆ nul ┆ 49. ┆ 9.9 ┆ 998 ┆ 199 ┆ 1.9 ┆ 498 ┆ 4.9 ┆ 19. ┆ 99. ┆ 89. ┆ 199 ┆ nul ┆ 996 │\n",
       "│ 9%  ┆ l   ┆ 3.0 ┆ l   ┆ 946 ┆ 959 ┆ 7.0 ┆ 5.0 ┆ 961 ┆ .0  ┆ 813 ┆ 0   ┆ 893 ┆ 887 ┆ .0  ┆ l   ┆ 791 │\n",
       "│     ┆     ┆     ┆     ┆ 957 ┆ e10 ┆     ┆     ┆ e11 ┆     ┆ e10 ┆     ┆ 561 ┆ 811 ┆     ┆     ┆ .0  │\n",
       "│ max ┆ Jap ┆ 202 ┆ Tel ┆ 49. ┆ 9.9 ┆ 998 ┆ 199 ┆ 1.9 ┆ 499 ┆ 4.9 ┆ 19. ┆ 99. ┆ 89. ┆ 199 ┆ Sem ┆ 996 │\n",
       "│     ┆ an  ┆ 3.0 ┆ eco ┆ 955 ┆ 975 ┆ 9.0 ┆ 9.0 ┆ 973 ┆ .0  ┆ 917 ┆ 0   ┆ 935 ┆ 904 ┆ .0  ┆ ico ┆ 999 │\n",
       "│     ┆     ┆     ┆ mmu ┆ 344 ┆ e10 ┆     ┆     ┆ e11 ┆     ┆ e10 ┆     ┆ 228 ┆ 58  ┆     ┆ ndu ┆ .0  │\n",
       "│     ┆     ┆     ┆ nic ┆     ┆     ┆     ┆     ┆     ┆     ┆     ┆     ┆     ┆     ┆     ┆ cto ┆     │\n",
       "│     ┆     ┆     ┆ ati ┆     ┆     ┆     ┆     ┆     ┆     ┆     ┆     ┆     ┆     ┆     ┆ rs  ┆     │\n",
       "│     ┆     ┆     ┆ ons ┆     ┆     ┆     ┆     ┆     ┆     ┆     ┆     ┆     ┆     ┆     ┆     ┆     │\n",
       "└─────┴─────┴─────┴─────┴─────┴─────┴─────┴─────┴─────┴─────┴─────┴─────┴─────┴─────┴─────┴─────┴─────┘"
      ]
     },
     "execution_count": 229,
     "metadata": {},
     "output_type": "execute_result"
    }
   ],
   "source": [
    "df.describe(percentiles=[.25, .50, .75, .90, .99, .999])"
   ]
  },
  {
   "cell_type": "markdown",
   "metadata": {},
   "source": [
    "### Select and Filtering"
   ]
  },
  {
   "cell_type": "code",
   "execution_count": 230,
   "metadata": {},
   "outputs": [
    {
     "data": {
      "text/html": [
       "<div><style>\n",
       ".dataframe > thead > tr,\n",
       ".dataframe > tbody > tr {\n",
       "  text-align: right;\n",
       "  white-space: pre-wrap;\n",
       "}\n",
       "</style>\n",
       "<small>shape: (5, 1)</small><table border=\"1\" class=\"dataframe\"><thead><tr><th>Worker per Startups</th></tr><tr><td>f64</td></tr></thead><tbody><tr><td>3742.295181</td></tr><tr><td>1990.451613</td></tr><tr><td>123.67184</td></tr><tr><td>1014.590909</td></tr><tr><td>1412.87689</td></tr></tbody></table></div>"
      ],
      "text/plain": [
       "shape: (5, 1)\n",
       "┌─────────────────────┐\n",
       "│ Worker per Startups │\n",
       "│ ---                 │\n",
       "│ f64                 │\n",
       "╞═════════════════════╡\n",
       "│ 3742.295181         │\n",
       "│ 1990.451613         │\n",
       "│ 123.67184           │\n",
       "│ 1014.590909         │\n",
       "│ 1412.87689          │\n",
       "└─────────────────────┘"
      ]
     },
     "execution_count": 230,
     "metadata": {},
     "output_type": "execute_result"
    }
   ],
   "source": [
    "df.select(\n",
    "    (pl.col(\"Number of Tech Workers\") / pl.col(\"Number of Startups\")).alias('Worker per Startups')\n",
    ").head()"
   ]
  },
  {
   "cell_type": "code",
   "execution_count": 231,
   "metadata": {},
   "outputs": [
    {
     "data": {
      "text/html": [
       "<div><style>\n",
       ".dataframe > thead > tr,\n",
       ".dataframe > tbody > tr {\n",
       "  text-align: right;\n",
       "  white-space: pre-wrap;\n",
       "}\n",
       "</style>\n",
       "<small>shape: (5, 17)</small><table border=\"1\" class=\"dataframe\"><thead><tr><th>Country</th><th>Year</th><th>Tech Sector</th><th>Market Share (%)</th><th>R&amp;D Investment (in USD)</th><th>Number of Patents Filed (Annual)</th><th>Number of Tech Companies</th><th>Tech Exports (in USD)</th><th>Number of Startups</th><th>Venture Capital Funding (in USD)</th><th>Global Innovation Ranking</th><th>Internet Penetration (%)</th><th>5G Network Coverage (%)</th><th>University Research Collaborations</th><th>Top Tech Products Exported</th><th>Number of Tech Workers</th><th>Worker per Startups</th></tr><tr><td>str</td><td>i64</td><td>str</td><td>f64</td><td>f64</td><td>i64</td><td>i64</td><td>f64</td><td>i64</td><td>f64</td><td>i64</td><td>f64</td><td>f64</td><td>i64</td><td>str</td><td>i64</td><td>f64</td></tr></thead><tbody><tr><td>&quot;China&quot;</td><td>2001</td><td>&quot;Software&quot;</td><td>22.279014</td><td>8.3772e10</td><td>1415</td><td>878</td><td>3.5032e10</td><td>166</td><td>4.5027e10</td><td>11</td><td>57.088673</td><td>82.240272</td><td>50</td><td>&quot;Robots&quot;</td><td>621221</td><td>3742.295181</td></tr><tr><td>&quot;Japan&quot;</td><td>2011</td><td>&quot;Semiconductor&quot;</td><td>31.899013</td><td>3.5511e10</td><td>7899</td><td>364</td><td>3.7142e10</td><td>217</td><td>1.1474e10</td><td>14</td><td>78.17209</td><td>48.552982</td><td>134</td><td>&quot;5G Equipment&quot;</td><td>431928</td><td>1990.451613</td></tr><tr><td>&quot;Japan&quot;</td><td>2009</td><td>&quot;Robotics&quot;</td><td>33.574466</td><td>8.4809e10</td><td>3749</td><td>425</td><td>1.5704e11</td><td>451</td><td>5.4989e9</td><td>14</td><td>55.810668</td><td>66.495286</td><td>58</td><td>&quot;Semiconductors&quot;</td><td>55776</td><td>123.67184</td></tr><tr><td>&quot;Japan&quot;</td><td>2019</td><td>&quot;Cloud Computing&quot;</td><td>24.904248</td><td>2.2678e10</td><td>3841</td><td>62</td><td>1.0313e11</td><td>264</td><td>2.1863e10</td><td>10</td><td>78.553714</td><td>28.807251</td><td>150</td><td>&quot;Robots&quot;</td><td>267852</td><td>1014.590909</td></tr><tr><td>&quot;China&quot;</td><td>2002</td><td>&quot;Robotics&quot;</td><td>46.975827</td><td>3.4537e10</td><td>1704</td><td>458</td><td>1.1121e11</td><td>463</td><td>4.0983e10</td><td>10</td><td>70.427548</td><td>38.746268</td><td>74</td><td>&quot;AI Chips&quot;</td><td>654162</td><td>1412.87689</td></tr></tbody></table></div>"
      ],
      "text/plain": [
       "shape: (5, 17)\n",
       "┌─────┬─────┬─────┬─────┬─────┬─────┬─────┬─────┬─────┬─────┬─────┬─────┬─────┬─────┬─────┬─────┬─────┐\n",
       "│ Cou ┆ Yea ┆ Tec ┆ Mar ┆ R&D ┆ Num ┆ Num ┆ Tec ┆ Num ┆ Ven ┆ Glo ┆ Int ┆ 5G  ┆ Uni ┆ Top ┆ Num ┆ Wor │\n",
       "│ ntr ┆ r   ┆ h   ┆ ket ┆ Inv ┆ ber ┆ ber ┆ h   ┆ ber ┆ tur ┆ bal ┆ ern ┆ Net ┆ ver ┆ Tec ┆ ber ┆ ker │\n",
       "│ y   ┆ --- ┆ Sec ┆ Sha ┆ est ┆ of  ┆ of  ┆ Exp ┆ of  ┆ e   ┆ Inn ┆ et  ┆ wor ┆ sit ┆ h   ┆ of  ┆ per │\n",
       "│ --- ┆ i64 ┆ tor ┆ re  ┆ men ┆ Pat ┆ Tec ┆ ort ┆ Sta ┆ Cap ┆ ova ┆ Pen ┆ k   ┆ y   ┆ Pro ┆ Tec ┆ Sta │\n",
       "│ str ┆     ┆ --- ┆ (%) ┆ t   ┆ ent ┆ h   ┆ s   ┆ rtu ┆ ita ┆ tio ┆ etr ┆ Cov ┆ Res ┆ duc ┆ h   ┆ rtu │\n",
       "│     ┆     ┆ str ┆ --- ┆ (in ┆ s   ┆ Com ┆ (in ┆ ps  ┆ l   ┆ n   ┆ ati ┆ era ┆ ear ┆ ts  ┆ Wor ┆ ps  │\n",
       "│     ┆     ┆     ┆ f64 ┆ USD ┆ Fil ┆ pan ┆ USD ┆ --- ┆ Fun ┆ Ran ┆ on  ┆ ge  ┆ ch  ┆ Exp ┆ ker ┆ --- │\n",
       "│     ┆     ┆     ┆     ┆ )   ┆ ed  ┆ ies ┆ )   ┆ i64 ┆ din ┆ kin ┆ (%) ┆ (%) ┆ Col ┆ ort ┆ s   ┆ f64 │\n",
       "│     ┆     ┆     ┆     ┆ --- ┆ (An ┆ --- ┆ --- ┆     ┆ g   ┆ g   ┆ --- ┆ --- ┆ lab ┆ ed  ┆ --- ┆     │\n",
       "│     ┆     ┆     ┆     ┆ f64 ┆ nua ┆ i64 ┆ f64 ┆     ┆ (in ┆ --- ┆ f64 ┆ f64 ┆ ora ┆ --- ┆ i64 ┆     │\n",
       "│     ┆     ┆     ┆     ┆     ┆ …   ┆     ┆     ┆     ┆ US… ┆ i64 ┆     ┆     ┆ t…  ┆ str ┆     ┆     │\n",
       "│     ┆     ┆     ┆     ┆     ┆ --- ┆     ┆     ┆     ┆ --- ┆     ┆     ┆     ┆ --- ┆     ┆     ┆     │\n",
       "│     ┆     ┆     ┆     ┆     ┆ i64 ┆     ┆     ┆     ┆ f64 ┆     ┆     ┆     ┆ i64 ┆     ┆     ┆     │\n",
       "╞═════╪═════╪═════╪═════╪═════╪═════╪═════╪═════╪═════╪═════╪═════╪═════╪═════╪═════╪═════╪═════╪═════╡\n",
       "│ Chi ┆ 200 ┆ Sof ┆ 22. ┆ 8.3 ┆ 141 ┆ 878 ┆ 3.5 ┆ 166 ┆ 4.5 ┆ 11  ┆ 57. ┆ 82. ┆ 50  ┆ Rob ┆ 621 ┆ 374 │\n",
       "│ na  ┆ 1   ┆ twa ┆ 279 ┆ 772 ┆ 5   ┆     ┆ 032 ┆     ┆ 027 ┆     ┆ 088 ┆ 240 ┆     ┆ ots ┆ 221 ┆ 2.2 │\n",
       "│     ┆     ┆ re  ┆ 014 ┆ e10 ┆     ┆     ┆ e10 ┆     ┆ e10 ┆     ┆ 673 ┆ 272 ┆     ┆     ┆     ┆ 951 │\n",
       "│     ┆     ┆     ┆     ┆     ┆     ┆     ┆     ┆     ┆     ┆     ┆     ┆     ┆     ┆     ┆     ┆ 81  │\n",
       "│ Jap ┆ 201 ┆ Sem ┆ 31. ┆ 3.5 ┆ 789 ┆ 364 ┆ 3.7 ┆ 217 ┆ 1.1 ┆ 14  ┆ 78. ┆ 48. ┆ 134 ┆ 5G  ┆ 431 ┆ 199 │\n",
       "│ an  ┆ 1   ┆ ico ┆ 899 ┆ 511 ┆ 9   ┆     ┆ 142 ┆     ┆ 474 ┆     ┆ 172 ┆ 552 ┆     ┆ Equ ┆ 928 ┆ 0.4 │\n",
       "│     ┆     ┆ ndu ┆ 013 ┆ e10 ┆     ┆     ┆ e10 ┆     ┆ e10 ┆     ┆ 09  ┆ 982 ┆     ┆ ipm ┆     ┆ 516 │\n",
       "│     ┆     ┆ cto ┆     ┆     ┆     ┆     ┆     ┆     ┆     ┆     ┆     ┆     ┆     ┆ ent ┆     ┆ 13  │\n",
       "│     ┆     ┆ r   ┆     ┆     ┆     ┆     ┆     ┆     ┆     ┆     ┆     ┆     ┆     ┆     ┆     ┆     │\n",
       "│ Jap ┆ 200 ┆ Rob ┆ 33. ┆ 8.4 ┆ 374 ┆ 425 ┆ 1.5 ┆ 451 ┆ 5.4 ┆ 14  ┆ 55. ┆ 66. ┆ 58  ┆ Sem ┆ 557 ┆ 123 │\n",
       "│ an  ┆ 9   ┆ oti ┆ 574 ┆ 809 ┆ 9   ┆     ┆ 704 ┆     ┆ 989 ┆     ┆ 810 ┆ 495 ┆     ┆ ico ┆ 76  ┆ .67 │\n",
       "│     ┆     ┆ cs  ┆ 466 ┆ e10 ┆     ┆     ┆ e11 ┆     ┆ e9  ┆     ┆ 668 ┆ 286 ┆     ┆ ndu ┆     ┆ 184 │\n",
       "│     ┆     ┆     ┆     ┆     ┆     ┆     ┆     ┆     ┆     ┆     ┆     ┆     ┆     ┆ cto ┆     ┆     │\n",
       "│     ┆     ┆     ┆     ┆     ┆     ┆     ┆     ┆     ┆     ┆     ┆     ┆     ┆     ┆ rs  ┆     ┆     │\n",
       "│ Jap ┆ 201 ┆ Clo ┆ 24. ┆ 2.2 ┆ 384 ┆ 62  ┆ 1.0 ┆ 264 ┆ 2.1 ┆ 10  ┆ 78. ┆ 28. ┆ 150 ┆ Rob ┆ 267 ┆ 101 │\n",
       "│ an  ┆ 9   ┆ ud  ┆ 904 ┆ 678 ┆ 1   ┆     ┆ 313 ┆     ┆ 863 ┆     ┆ 553 ┆ 807 ┆     ┆ ots ┆ 852 ┆ 4.5 │\n",
       "│     ┆     ┆ Com ┆ 248 ┆ e10 ┆     ┆     ┆ e11 ┆     ┆ e10 ┆     ┆ 714 ┆ 251 ┆     ┆     ┆     ┆ 909 │\n",
       "│     ┆     ┆ put ┆     ┆     ┆     ┆     ┆     ┆     ┆     ┆     ┆     ┆     ┆     ┆     ┆     ┆ 09  │\n",
       "│     ┆     ┆ ing ┆     ┆     ┆     ┆     ┆     ┆     ┆     ┆     ┆     ┆     ┆     ┆     ┆     ┆     │\n",
       "│ Chi ┆ 200 ┆ Rob ┆ 46. ┆ 3.4 ┆ 170 ┆ 458 ┆ 1.1 ┆ 463 ┆ 4.0 ┆ 10  ┆ 70. ┆ 38. ┆ 74  ┆ AI  ┆ 654 ┆ 141 │\n",
       "│ na  ┆ 2   ┆ oti ┆ 975 ┆ 537 ┆ 4   ┆     ┆ 121 ┆     ┆ 983 ┆     ┆ 427 ┆ 746 ┆     ┆ Chi ┆ 162 ┆ 2.8 │\n",
       "│     ┆     ┆ cs  ┆ 827 ┆ e10 ┆     ┆     ┆ e11 ┆     ┆ e10 ┆     ┆ 548 ┆ 268 ┆     ┆ ps  ┆     ┆ 768 │\n",
       "│     ┆     ┆     ┆     ┆     ┆     ┆     ┆     ┆     ┆     ┆     ┆     ┆     ┆     ┆     ┆     ┆ 9   │\n",
       "└─────┴─────┴─────┴─────┴─────┴─────┴─────┴─────┴─────┴─────┴─────┴─────┴─────┴─────┴─────┴─────┴─────┘"
      ]
     },
     "execution_count": 231,
     "metadata": {},
     "output_type": "execute_result"
    }
   ],
   "source": [
    "df.with_columns(\n",
    "    (pl.col(\"Number of Tech Workers\") / pl.col(\"Number of Startups\")).alias('Worker per Startups')\n",
    ").head()"
   ]
  },
  {
   "cell_type": "code",
   "execution_count": 232,
   "metadata": {},
   "outputs": [
    {
     "data": {
      "text/html": [
       "<div><style>\n",
       ".dataframe > thead > tr,\n",
       ".dataframe > tbody > tr {\n",
       "  text-align: right;\n",
       "  white-space: pre-wrap;\n",
       "}\n",
       "</style>\n",
       "<small>shape: (5, 16)</small><table border=\"1\" class=\"dataframe\"><thead><tr><th>Country</th><th>Year</th><th>Tech Sector</th><th>Market Share (%)</th><th>R&amp;D Investment (in USD)</th><th>Number of Patents Filed (Annual)</th><th>Number of Tech Companies</th><th>Tech Exports (in USD)</th><th>Number of Startups</th><th>Venture Capital Funding (in USD)</th><th>Global Innovation Ranking</th><th>Internet Penetration (%)</th><th>5G Network Coverage (%)</th><th>University Research Collaborations</th><th>Top Tech Products Exported</th><th>Number of Tech Workers</th></tr><tr><td>str</td><td>i64</td><td>str</td><td>f64</td><td>f64</td><td>i64</td><td>i64</td><td>f64</td><td>i64</td><td>f64</td><td>i64</td><td>f64</td><td>f64</td><td>i64</td><td>str</td><td>i64</td></tr></thead><tbody><tr><td>&quot;China&quot;</td><td>2000</td><td>&quot;Semiconductor&quot;</td><td>20.643543</td><td>6.4430e10</td><td>3716</td><td>258</td><td>9.7469e10</td><td>278</td><td>2.1224e10</td><td>13</td><td>94.990195</td><td>61.304379</td><td>2</td><td>&quot;AI Chips&quot;</td><td>710891</td></tr><tr><td>&quot;Japan&quot;</td><td>2000</td><td>&quot;Software&quot;</td><td>23.026863</td><td>4.7351e10</td><td>4254</td><td>809</td><td>1.0045e11</td><td>46</td><td>3.1663e10</td><td>18</td><td>97.080531</td><td>67.23992</td><td>105</td><td>&quot;Semiconductors&quot;</td><td>691894</td></tr><tr><td>&quot;China&quot;</td><td>2000</td><td>&quot;Cloud Computing&quot;</td><td>12.190056</td><td>1.9224e10</td><td>5829</td><td>908</td><td>1.0625e11</td><td>319</td><td>8.2178e9</td><td>5</td><td>95.65142</td><td>23.736133</td><td>108</td><td>&quot;Semiconductors&quot;</td><td>435546</td></tr><tr><td>&quot;China&quot;</td><td>2000</td><td>&quot;Software&quot;</td><td>13.345944</td><td>6.4322e10</td><td>9897</td><td>1290</td><td>3.0158e10</td><td>210</td><td>4.6965e10</td><td>1</td><td>43.153865</td><td>54.781755</td><td>108</td><td>&quot;Semiconductors&quot;</td><td>123930</td></tr><tr><td>&quot;Japan&quot;</td><td>2000</td><td>&quot;Semiconductor&quot;</td><td>25.116358</td><td>2.5824e10</td><td>6369</td><td>1849</td><td>3.3180e10</td><td>190</td><td>3.1265e10</td><td>16</td><td>93.166782</td><td>14.023185</td><td>99</td><td>&quot;Cloud Servers&quot;</td><td>594929</td></tr></tbody></table></div>"
      ],
      "text/plain": [
       "shape: (5, 16)\n",
       "┌─────┬─────┬─────┬─────┬─────┬─────┬─────┬─────┬─────┬─────┬─────┬─────┬─────┬─────┬─────┬────────┐\n",
       "│ Cou ┆ Yea ┆ Tec ┆ Mar ┆ R&D ┆ Num ┆ Num ┆ Tec ┆ Num ┆ Ven ┆ Glo ┆ Int ┆ 5G  ┆ Uni ┆ Top ┆ Number │\n",
       "│ ntr ┆ r   ┆ h   ┆ ket ┆ Inv ┆ ber ┆ ber ┆ h   ┆ ber ┆ tur ┆ bal ┆ ern ┆ Net ┆ ver ┆ Tec ┆ of     │\n",
       "│ y   ┆ --- ┆ Sec ┆ Sha ┆ est ┆ of  ┆ of  ┆ Exp ┆ of  ┆ e   ┆ Inn ┆ et  ┆ wor ┆ sit ┆ h   ┆ Tech   │\n",
       "│ --- ┆ i64 ┆ tor ┆ re  ┆ men ┆ Pat ┆ Tec ┆ ort ┆ Sta ┆ Cap ┆ ova ┆ Pen ┆ k   ┆ y   ┆ Pro ┆ Worker │\n",
       "│ str ┆     ┆ --- ┆ (%) ┆ t   ┆ ent ┆ h   ┆ s   ┆ rtu ┆ ita ┆ tio ┆ etr ┆ Cov ┆ Res ┆ duc ┆ s      │\n",
       "│     ┆     ┆ str ┆ --- ┆ (in ┆ s   ┆ Com ┆ (in ┆ ps  ┆ l   ┆ n   ┆ ati ┆ era ┆ ear ┆ ts  ┆ ---    │\n",
       "│     ┆     ┆     ┆ f64 ┆ USD ┆ Fil ┆ pan ┆ USD ┆ --- ┆ Fun ┆ Ran ┆ on  ┆ ge  ┆ ch  ┆ Exp ┆ i64    │\n",
       "│     ┆     ┆     ┆     ┆ )   ┆ ed  ┆ ies ┆ )   ┆ i64 ┆ din ┆ kin ┆ (%) ┆ (%) ┆ Col ┆ ort ┆        │\n",
       "│     ┆     ┆     ┆     ┆ --- ┆ (An ┆ --- ┆ --- ┆     ┆ g   ┆ g   ┆ --- ┆ --- ┆ lab ┆ ed  ┆        │\n",
       "│     ┆     ┆     ┆     ┆ f64 ┆ nua ┆ i64 ┆ f64 ┆     ┆ (in ┆ --- ┆ f64 ┆ f64 ┆ ora ┆ --- ┆        │\n",
       "│     ┆     ┆     ┆     ┆     ┆ …   ┆     ┆     ┆     ┆ US… ┆ i64 ┆     ┆     ┆ t…  ┆ str ┆        │\n",
       "│     ┆     ┆     ┆     ┆     ┆ --- ┆     ┆     ┆     ┆ --- ┆     ┆     ┆     ┆ --- ┆     ┆        │\n",
       "│     ┆     ┆     ┆     ┆     ┆ i64 ┆     ┆     ┆     ┆ f64 ┆     ┆     ┆     ┆ i64 ┆     ┆        │\n",
       "╞═════╪═════╪═════╪═════╪═════╪═════╪═════╪═════╪═════╪═════╪═════╪═════╪═════╪═════╪═════╪════════╡\n",
       "│ Chi ┆ 200 ┆ Sem ┆ 20. ┆ 6.4 ┆ 371 ┆ 258 ┆ 9.7 ┆ 278 ┆ 2.1 ┆ 13  ┆ 94. ┆ 61. ┆ 2   ┆ AI  ┆ 710891 │\n",
       "│ na  ┆ 0   ┆ ico ┆ 643 ┆ 430 ┆ 6   ┆     ┆ 469 ┆     ┆ 224 ┆     ┆ 990 ┆ 304 ┆     ┆ Chi ┆        │\n",
       "│     ┆     ┆ ndu ┆ 543 ┆ e10 ┆     ┆     ┆ e10 ┆     ┆ e10 ┆     ┆ 195 ┆ 379 ┆     ┆ ps  ┆        │\n",
       "│     ┆     ┆ cto ┆     ┆     ┆     ┆     ┆     ┆     ┆     ┆     ┆     ┆     ┆     ┆     ┆        │\n",
       "│     ┆     ┆ r   ┆     ┆     ┆     ┆     ┆     ┆     ┆     ┆     ┆     ┆     ┆     ┆     ┆        │\n",
       "│ Jap ┆ 200 ┆ Sof ┆ 23. ┆ 4.7 ┆ 425 ┆ 809 ┆ 1.0 ┆ 46  ┆ 3.1 ┆ 18  ┆ 97. ┆ 67. ┆ 105 ┆ Sem ┆ 691894 │\n",
       "│ an  ┆ 0   ┆ twa ┆ 026 ┆ 351 ┆ 4   ┆     ┆ 045 ┆     ┆ 663 ┆     ┆ 080 ┆ 239 ┆     ┆ ico ┆        │\n",
       "│     ┆     ┆ re  ┆ 863 ┆ e10 ┆     ┆     ┆ e11 ┆     ┆ e10 ┆     ┆ 531 ┆ 92  ┆     ┆ ndu ┆        │\n",
       "│     ┆     ┆     ┆     ┆     ┆     ┆     ┆     ┆     ┆     ┆     ┆     ┆     ┆     ┆ cto ┆        │\n",
       "│     ┆     ┆     ┆     ┆     ┆     ┆     ┆     ┆     ┆     ┆     ┆     ┆     ┆     ┆ rs  ┆        │\n",
       "│ Chi ┆ 200 ┆ Clo ┆ 12. ┆ 1.9 ┆ 582 ┆ 908 ┆ 1.0 ┆ 319 ┆ 8.2 ┆ 5   ┆ 95. ┆ 23. ┆ 108 ┆ Sem ┆ 435546 │\n",
       "│ na  ┆ 0   ┆ ud  ┆ 190 ┆ 224 ┆ 9   ┆     ┆ 625 ┆     ┆ 178 ┆     ┆ 651 ┆ 736 ┆     ┆ ico ┆        │\n",
       "│     ┆     ┆ Com ┆ 056 ┆ e10 ┆     ┆     ┆ e11 ┆     ┆ e9  ┆     ┆ 42  ┆ 133 ┆     ┆ ndu ┆        │\n",
       "│     ┆     ┆ put ┆     ┆     ┆     ┆     ┆     ┆     ┆     ┆     ┆     ┆     ┆     ┆ cto ┆        │\n",
       "│     ┆     ┆ ing ┆     ┆     ┆     ┆     ┆     ┆     ┆     ┆     ┆     ┆     ┆     ┆ rs  ┆        │\n",
       "│ Chi ┆ 200 ┆ Sof ┆ 13. ┆ 6.4 ┆ 989 ┆ 129 ┆ 3.0 ┆ 210 ┆ 4.6 ┆ 1   ┆ 43. ┆ 54. ┆ 108 ┆ Sem ┆ 123930 │\n",
       "│ na  ┆ 0   ┆ twa ┆ 345 ┆ 322 ┆ 7   ┆ 0   ┆ 158 ┆     ┆ 965 ┆     ┆ 153 ┆ 781 ┆     ┆ ico ┆        │\n",
       "│     ┆     ┆ re  ┆ 944 ┆ e10 ┆     ┆     ┆ e10 ┆     ┆ e10 ┆     ┆ 865 ┆ 755 ┆     ┆ ndu ┆        │\n",
       "│     ┆     ┆     ┆     ┆     ┆     ┆     ┆     ┆     ┆     ┆     ┆     ┆     ┆     ┆ cto ┆        │\n",
       "│     ┆     ┆     ┆     ┆     ┆     ┆     ┆     ┆     ┆     ┆     ┆     ┆     ┆     ┆ rs  ┆        │\n",
       "│ Jap ┆ 200 ┆ Sem ┆ 25. ┆ 2.5 ┆ 636 ┆ 184 ┆ 3.3 ┆ 190 ┆ 3.1 ┆ 16  ┆ 93. ┆ 14. ┆ 99  ┆ Clo ┆ 594929 │\n",
       "│ an  ┆ 0   ┆ ico ┆ 116 ┆ 824 ┆ 9   ┆ 9   ┆ 180 ┆     ┆ 265 ┆     ┆ 166 ┆ 023 ┆     ┆ ud  ┆        │\n",
       "│     ┆     ┆ ndu ┆ 358 ┆ e10 ┆     ┆     ┆ e10 ┆     ┆ e10 ┆     ┆ 782 ┆ 185 ┆     ┆ Ser ┆        │\n",
       "│     ┆     ┆ cto ┆     ┆     ┆     ┆     ┆     ┆     ┆     ┆     ┆     ┆     ┆     ┆ ver ┆        │\n",
       "│     ┆     ┆ r   ┆     ┆     ┆     ┆     ┆     ┆     ┆     ┆     ┆     ┆     ┆     ┆ s   ┆        │\n",
       "└─────┴─────┴─────┴─────┴─────┴─────┴─────┴─────┴─────┴─────┴─────┴─────┴─────┴─────┴─────┴────────┘"
      ]
     },
     "execution_count": 232,
     "metadata": {},
     "output_type": "execute_result"
    }
   ],
   "source": [
    "df.filter(\n",
    "    pl.col('Year') == 2000\n",
    ").head()"
   ]
  },
  {
   "cell_type": "code",
   "execution_count": 233,
   "metadata": {},
   "outputs": [
    {
     "data": {
      "text/html": [
       "<div><style>\n",
       ".dataframe > thead > tr,\n",
       ".dataframe > tbody > tr {\n",
       "  text-align: right;\n",
       "  white-space: pre-wrap;\n",
       "}\n",
       "</style>\n",
       "<small>shape: (5, 13)</small><table border=\"1\" class=\"dataframe\"><thead><tr><th>Market Share (%)</th><th>R&amp;D Investment (in USD)</th><th>Number of Patents Filed (Annual)</th><th>Number of Tech Companies</th><th>Tech Exports (in USD)</th><th>Number of Startups</th><th>Venture Capital Funding (in USD)</th><th>Global Innovation Ranking</th><th>Internet Penetration (%)</th><th>5G Network Coverage (%)</th><th>University Research Collaborations</th><th>Top Tech Products Exported</th><th>Number of Tech Workers</th></tr><tr><td>f64</td><td>f64</td><td>i64</td><td>i64</td><td>f64</td><td>i64</td><td>f64</td><td>i64</td><td>f64</td><td>f64</td><td>i64</td><td>str</td><td>i64</td></tr></thead><tbody><tr><td>22.279014</td><td>8.3772e10</td><td>1415</td><td>878</td><td>3.5032e10</td><td>166</td><td>4.5027e10</td><td>11</td><td>57.088673</td><td>82.240272</td><td>50</td><td>&quot;Robots&quot;</td><td>621221</td></tr><tr><td>31.899013</td><td>3.5511e10</td><td>7899</td><td>364</td><td>3.7142e10</td><td>217</td><td>1.1474e10</td><td>14</td><td>78.17209</td><td>48.552982</td><td>134</td><td>&quot;5G Equipment&quot;</td><td>431928</td></tr><tr><td>33.574466</td><td>8.4809e10</td><td>3749</td><td>425</td><td>1.5704e11</td><td>451</td><td>5.4989e9</td><td>14</td><td>55.810668</td><td>66.495286</td><td>58</td><td>&quot;Semiconductors&quot;</td><td>55776</td></tr><tr><td>24.904248</td><td>2.2678e10</td><td>3841</td><td>62</td><td>1.0313e11</td><td>264</td><td>2.1863e10</td><td>10</td><td>78.553714</td><td>28.807251</td><td>150</td><td>&quot;Robots&quot;</td><td>267852</td></tr><tr><td>46.975827</td><td>3.4537e10</td><td>1704</td><td>458</td><td>1.1121e11</td><td>463</td><td>4.0983e10</td><td>10</td><td>70.427548</td><td>38.746268</td><td>74</td><td>&quot;AI Chips&quot;</td><td>654162</td></tr></tbody></table></div>"
      ],
      "text/plain": [
       "shape: (5, 13)\n",
       "┌─────┬─────┬─────┬────────┬───────┬───────┬───────┬───────┬───────┬───────┬───────┬───────┬───────┐\n",
       "│ Mar ┆ R&D ┆ Num ┆ Number ┆ Tech  ┆ Numbe ┆ Ventu ┆ Globa ┆ Inter ┆ 5G    ┆ Unive ┆ Top   ┆ Numbe │\n",
       "│ ket ┆ Inv ┆ ber ┆ of     ┆ Expor ┆ r of  ┆ re    ┆ l Inn ┆ net   ┆ Netwo ┆ rsity ┆ Tech  ┆ r of  │\n",
       "│ Sha ┆ est ┆ of  ┆ Tech   ┆ ts    ┆ Start ┆ Capit ┆ ovati ┆ Penet ┆ rk    ┆ Resea ┆ Produ ┆ Tech  │\n",
       "│ re  ┆ men ┆ Pat ┆ Compan ┆ (in   ┆ ups   ┆ al    ┆ on    ┆ ratio ┆ Cover ┆ rch   ┆ cts   ┆ Worke │\n",
       "│ (%) ┆ t   ┆ ent ┆ ies    ┆ USD)  ┆ ---   ┆ Fundi ┆ Ranki ┆ n (%) ┆ age   ┆ Colla ┆ Expor ┆ rs    │\n",
       "│ --- ┆ (in ┆ s   ┆ ---    ┆ ---   ┆ i64   ┆ ng    ┆ ng    ┆ ---   ┆ (%)   ┆ borat ┆ ted   ┆ ---   │\n",
       "│ f64 ┆ USD ┆ Fil ┆ i64    ┆ f64   ┆       ┆ (in   ┆ ---   ┆ f64   ┆ ---   ┆ …     ┆ ---   ┆ i64   │\n",
       "│     ┆ )   ┆ ed  ┆        ┆       ┆       ┆ US…   ┆ i64   ┆       ┆ f64   ┆ ---   ┆ str   ┆       │\n",
       "│     ┆ --- ┆ (An ┆        ┆       ┆       ┆ ---   ┆       ┆       ┆       ┆ i64   ┆       ┆       │\n",
       "│     ┆ f64 ┆ nua ┆        ┆       ┆       ┆ f64   ┆       ┆       ┆       ┆       ┆       ┆       │\n",
       "│     ┆     ┆ …   ┆        ┆       ┆       ┆       ┆       ┆       ┆       ┆       ┆       ┆       │\n",
       "│     ┆     ┆ --- ┆        ┆       ┆       ┆       ┆       ┆       ┆       ┆       ┆       ┆       │\n",
       "│     ┆     ┆ i64 ┆        ┆       ┆       ┆       ┆       ┆       ┆       ┆       ┆       ┆       │\n",
       "╞═════╪═════╪═════╪════════╪═══════╪═══════╪═══════╪═══════╪═══════╪═══════╪═══════╪═══════╪═══════╡\n",
       "│ 22. ┆ 8.3 ┆ 141 ┆ 878    ┆ 3.503 ┆ 166   ┆ 4.502 ┆ 11    ┆ 57.08 ┆ 82.24 ┆ 50    ┆ Robot ┆ 62122 │\n",
       "│ 279 ┆ 772 ┆ 5   ┆        ┆ 2e10  ┆       ┆ 7e10  ┆       ┆ 8673  ┆ 0272  ┆       ┆ s     ┆ 1     │\n",
       "│ 014 ┆ e10 ┆     ┆        ┆       ┆       ┆       ┆       ┆       ┆       ┆       ┆       ┆       │\n",
       "│ 31. ┆ 3.5 ┆ 789 ┆ 364    ┆ 3.714 ┆ 217   ┆ 1.147 ┆ 14    ┆ 78.17 ┆ 48.55 ┆ 134   ┆ 5G    ┆ 43192 │\n",
       "│ 899 ┆ 511 ┆ 9   ┆        ┆ 2e10  ┆       ┆ 4e10  ┆       ┆ 209   ┆ 2982  ┆       ┆ Equip ┆ 8     │\n",
       "│ 013 ┆ e10 ┆     ┆        ┆       ┆       ┆       ┆       ┆       ┆       ┆       ┆ ment  ┆       │\n",
       "│ 33. ┆ 8.4 ┆ 374 ┆ 425    ┆ 1.570 ┆ 451   ┆ 5.498 ┆ 14    ┆ 55.81 ┆ 66.49 ┆ 58    ┆ Semic ┆ 55776 │\n",
       "│ 574 ┆ 809 ┆ 9   ┆        ┆ 4e11  ┆       ┆ 9e9   ┆       ┆ 0668  ┆ 5286  ┆       ┆ onduc ┆       │\n",
       "│ 466 ┆ e10 ┆     ┆        ┆       ┆       ┆       ┆       ┆       ┆       ┆       ┆ tors  ┆       │\n",
       "│ 24. ┆ 2.2 ┆ 384 ┆ 62     ┆ 1.031 ┆ 264   ┆ 2.186 ┆ 10    ┆ 78.55 ┆ 28.80 ┆ 150   ┆ Robot ┆ 26785 │\n",
       "│ 904 ┆ 678 ┆ 1   ┆        ┆ 3e11  ┆       ┆ 3e10  ┆       ┆ 3714  ┆ 7251  ┆       ┆ s     ┆ 2     │\n",
       "│ 248 ┆ e10 ┆     ┆        ┆       ┆       ┆       ┆       ┆       ┆       ┆       ┆       ┆       │\n",
       "│ 46. ┆ 3.4 ┆ 170 ┆ 458    ┆ 1.112 ┆ 463   ┆ 4.098 ┆ 10    ┆ 70.42 ┆ 38.74 ┆ 74    ┆ AI    ┆ 65416 │\n",
       "│ 975 ┆ 537 ┆ 4   ┆        ┆ 1e11  ┆       ┆ 3e10  ┆       ┆ 7548  ┆ 6268  ┆       ┆ Chips ┆ 2     │\n",
       "│ 827 ┆ e10 ┆     ┆        ┆       ┆       ┆       ┆       ┆       ┆       ┆       ┆       ┆       │\n",
       "└─────┴─────┴─────┴────────┴───────┴───────┴───────┴───────┴───────┴───────┴───────┴───────┴───────┘"
      ]
     },
     "execution_count": 233,
     "metadata": {},
     "output_type": "execute_result"
    }
   ],
   "source": [
    "df.select(\n",
    "    pl.all().exclude([\"Country\", \"Year\", \"Tech Sector\"])\n",
    "    ).head()"
   ]
  },
  {
   "cell_type": "code",
   "execution_count": 234,
   "metadata": {},
   "outputs": [
    {
     "data": {
      "text/html": [
       "<div><style>\n",
       ".dataframe > thead > tr,\n",
       ".dataframe > tbody > tr {\n",
       "  text-align: right;\n",
       "  white-space: pre-wrap;\n",
       "}\n",
       "</style>\n",
       "<small>shape: (5, 13)</small><table border=\"1\" class=\"dataframe\"><thead><tr><th>Year</th><th>Market Share (%)</th><th>R&amp;D Investment (in USD)</th><th>Number of Patents Filed (Annual)</th><th>Number of Tech Companies</th><th>Tech Exports (in USD)</th><th>Number of Startups</th><th>Venture Capital Funding (in USD)</th><th>Global Innovation Ranking</th><th>Internet Penetration (%)</th><th>5G Network Coverage (%)</th><th>University Research Collaborations</th><th>Number of Tech Workers</th></tr><tr><td>i64</td><td>f64</td><td>f64</td><td>i64</td><td>i64</td><td>f64</td><td>i64</td><td>f64</td><td>i64</td><td>f64</td><td>f64</td><td>i64</td><td>i64</td></tr></thead><tbody><tr><td>2001</td><td>22.279014</td><td>8.3772e10</td><td>1415</td><td>878</td><td>3.5032e10</td><td>166</td><td>4.5027e10</td><td>11</td><td>57.088673</td><td>82.240272</td><td>50</td><td>621221</td></tr><tr><td>2011</td><td>31.899013</td><td>3.5511e10</td><td>7899</td><td>364</td><td>3.7142e10</td><td>217</td><td>1.1474e10</td><td>14</td><td>78.17209</td><td>48.552982</td><td>134</td><td>431928</td></tr><tr><td>2009</td><td>33.574466</td><td>8.4809e10</td><td>3749</td><td>425</td><td>1.5704e11</td><td>451</td><td>5.4989e9</td><td>14</td><td>55.810668</td><td>66.495286</td><td>58</td><td>55776</td></tr><tr><td>2019</td><td>24.904248</td><td>2.2678e10</td><td>3841</td><td>62</td><td>1.0313e11</td><td>264</td><td>2.1863e10</td><td>10</td><td>78.553714</td><td>28.807251</td><td>150</td><td>267852</td></tr><tr><td>2002</td><td>46.975827</td><td>3.4537e10</td><td>1704</td><td>458</td><td>1.1121e11</td><td>463</td><td>4.0983e10</td><td>10</td><td>70.427548</td><td>38.746268</td><td>74</td><td>654162</td></tr></tbody></table></div>"
      ],
      "text/plain": [
       "shape: (5, 13)\n",
       "┌─────┬─────┬─────┬────────┬───────┬───────┬───────┬───────┬───────┬───────┬───────┬───────┬───────┐\n",
       "│ Yea ┆ Mar ┆ R&D ┆ Number ┆ Numbe ┆ Tech  ┆ Numbe ┆ Ventu ┆ Globa ┆ Inter ┆ 5G    ┆ Unive ┆ Numbe │\n",
       "│ r   ┆ ket ┆ Inv ┆ of Pat ┆ r of  ┆ Expor ┆ r of  ┆ re    ┆ l Inn ┆ net   ┆ Netwo ┆ rsity ┆ r of  │\n",
       "│ --- ┆ Sha ┆ est ┆ ents   ┆ Tech  ┆ ts    ┆ Start ┆ Capit ┆ ovati ┆ Penet ┆ rk    ┆ Resea ┆ Tech  │\n",
       "│ i64 ┆ re  ┆ men ┆ Filed  ┆ Compa ┆ (in   ┆ ups   ┆ al    ┆ on    ┆ ratio ┆ Cover ┆ rch   ┆ Worke │\n",
       "│     ┆ (%) ┆ t   ┆ (Annua ┆ nies  ┆ USD)  ┆ ---   ┆ Fundi ┆ Ranki ┆ n (%) ┆ age   ┆ Colla ┆ rs    │\n",
       "│     ┆ --- ┆ (in ┆ …      ┆ ---   ┆ ---   ┆ i64   ┆ ng    ┆ ng    ┆ ---   ┆ (%)   ┆ borat ┆ ---   │\n",
       "│     ┆ f64 ┆ USD ┆ ---    ┆ i64   ┆ f64   ┆       ┆ (in   ┆ ---   ┆ f64   ┆ ---   ┆ …     ┆ i64   │\n",
       "│     ┆     ┆ )   ┆ i64    ┆       ┆       ┆       ┆ US…   ┆ i64   ┆       ┆ f64   ┆ ---   ┆       │\n",
       "│     ┆     ┆ --- ┆        ┆       ┆       ┆       ┆ ---   ┆       ┆       ┆       ┆ i64   ┆       │\n",
       "│     ┆     ┆ f64 ┆        ┆       ┆       ┆       ┆ f64   ┆       ┆       ┆       ┆       ┆       │\n",
       "╞═════╪═════╪═════╪════════╪═══════╪═══════╪═══════╪═══════╪═══════╪═══════╪═══════╪═══════╪═══════╡\n",
       "│ 200 ┆ 22. ┆ 8.3 ┆ 1415   ┆ 878   ┆ 3.503 ┆ 166   ┆ 4.502 ┆ 11    ┆ 57.08 ┆ 82.24 ┆ 50    ┆ 62122 │\n",
       "│ 1   ┆ 279 ┆ 772 ┆        ┆       ┆ 2e10  ┆       ┆ 7e10  ┆       ┆ 8673  ┆ 0272  ┆       ┆ 1     │\n",
       "│     ┆ 014 ┆ e10 ┆        ┆       ┆       ┆       ┆       ┆       ┆       ┆       ┆       ┆       │\n",
       "│ 201 ┆ 31. ┆ 3.5 ┆ 7899   ┆ 364   ┆ 3.714 ┆ 217   ┆ 1.147 ┆ 14    ┆ 78.17 ┆ 48.55 ┆ 134   ┆ 43192 │\n",
       "│ 1   ┆ 899 ┆ 511 ┆        ┆       ┆ 2e10  ┆       ┆ 4e10  ┆       ┆ 209   ┆ 2982  ┆       ┆ 8     │\n",
       "│     ┆ 013 ┆ e10 ┆        ┆       ┆       ┆       ┆       ┆       ┆       ┆       ┆       ┆       │\n",
       "│ 200 ┆ 33. ┆ 8.4 ┆ 3749   ┆ 425   ┆ 1.570 ┆ 451   ┆ 5.498 ┆ 14    ┆ 55.81 ┆ 66.49 ┆ 58    ┆ 55776 │\n",
       "│ 9   ┆ 574 ┆ 809 ┆        ┆       ┆ 4e11  ┆       ┆ 9e9   ┆       ┆ 0668  ┆ 5286  ┆       ┆       │\n",
       "│     ┆ 466 ┆ e10 ┆        ┆       ┆       ┆       ┆       ┆       ┆       ┆       ┆       ┆       │\n",
       "│ 201 ┆ 24. ┆ 2.2 ┆ 3841   ┆ 62    ┆ 1.031 ┆ 264   ┆ 2.186 ┆ 10    ┆ 78.55 ┆ 28.80 ┆ 150   ┆ 26785 │\n",
       "│ 9   ┆ 904 ┆ 678 ┆        ┆       ┆ 3e11  ┆       ┆ 3e10  ┆       ┆ 3714  ┆ 7251  ┆       ┆ 2     │\n",
       "│     ┆ 248 ┆ e10 ┆        ┆       ┆       ┆       ┆       ┆       ┆       ┆       ┆       ┆       │\n",
       "│ 200 ┆ 46. ┆ 3.4 ┆ 1704   ┆ 458   ┆ 1.112 ┆ 463   ┆ 4.098 ┆ 10    ┆ 70.42 ┆ 38.74 ┆ 74    ┆ 65416 │\n",
       "│ 2   ┆ 975 ┆ 537 ┆        ┆       ┆ 1e11  ┆       ┆ 3e10  ┆       ┆ 7548  ┆ 6268  ┆       ┆ 2     │\n",
       "│     ┆ 827 ┆ e10 ┆        ┆       ┆       ┆       ┆       ┆       ┆       ┆       ┆       ┆       │\n",
       "└─────┴─────┴─────┴────────┴───────┴───────┴───────┴───────┴───────┴───────┴───────┴───────┴───────┘"
      ]
     },
     "execution_count": 234,
     "metadata": {},
     "output_type": "execute_result"
    }
   ],
   "source": [
    "df.select(\n",
    "    pl.col(pl.Int64, pl.Float64)\n",
    ").head()"
   ]
  },
  {
   "cell_type": "code",
   "execution_count": 235,
   "metadata": {},
   "outputs": [
    {
     "data": {
      "text/html": [
       "<div><style>\n",
       ".dataframe > thead > tr,\n",
       ".dataframe > tbody > tr {\n",
       "  text-align: right;\n",
       "  white-space: pre-wrap;\n",
       "}\n",
       "</style>\n",
       "<small>shape: (5, 3)</small><table border=\"1\" class=\"dataframe\"><thead><tr><th>Country</th><th>Year</th><th>Tech Sector</th></tr><tr><td>str</td><td>i64</td><td>str</td></tr></thead><tbody><tr><td>&quot;China&quot;</td><td>2001</td><td>&quot;Software&quot;</td></tr><tr><td>&quot;Japan&quot;</td><td>2011</td><td>&quot;Semiconductor&quot;</td></tr><tr><td>&quot;Japan&quot;</td><td>2009</td><td>&quot;Robotics&quot;</td></tr><tr><td>&quot;Japan&quot;</td><td>2019</td><td>&quot;Cloud Computing&quot;</td></tr><tr><td>&quot;China&quot;</td><td>2002</td><td>&quot;Robotics&quot;</td></tr></tbody></table></div>"
      ],
      "text/plain": [
       "shape: (5, 3)\n",
       "┌─────────┬──────┬─────────────────┐\n",
       "│ Country ┆ Year ┆ Tech Sector     │\n",
       "│ ---     ┆ ---  ┆ ---             │\n",
       "│ str     ┆ i64  ┆ str             │\n",
       "╞═════════╪══════╪═════════════════╡\n",
       "│ China   ┆ 2001 ┆ Software        │\n",
       "│ Japan   ┆ 2011 ┆ Semiconductor   │\n",
       "│ Japan   ┆ 2009 ┆ Robotics        │\n",
       "│ Japan   ┆ 2019 ┆ Cloud Computing │\n",
       "│ China   ┆ 2002 ┆ Robotics        │\n",
       "└─────────┴──────┴─────────────────┘"
      ]
     },
     "execution_count": 235,
     "metadata": {},
     "output_type": "execute_result"
    }
   ],
   "source": [
    "df.select(\n",
    "    [\"Country\", \"Year\", \"Tech Sector\"]\n",
    ").head()"
   ]
  },
  {
   "cell_type": "code",
   "execution_count": 236,
   "metadata": {},
   "outputs": [
    {
     "data": {
      "text/html": [
       "<div><style>\n",
       ".dataframe > thead > tr,\n",
       ".dataframe > tbody > tr {\n",
       "  text-align: right;\n",
       "  white-space: pre-wrap;\n",
       "}\n",
       "</style>\n",
       "<small>shape: (5, 3)</small><table border=\"1\" class=\"dataframe\"><thead><tr><th>Country</th><th>Year</th><th>Tech Sector</th></tr><tr><td>str</td><td>i64</td><td>str</td></tr></thead><tbody><tr><td>&quot;China&quot;</td><td>2001</td><td>&quot;Software&quot;</td></tr><tr><td>&quot;Japan&quot;</td><td>2011</td><td>&quot;Semiconductor&quot;</td></tr><tr><td>&quot;Japan&quot;</td><td>2009</td><td>&quot;Robotics&quot;</td></tr><tr><td>&quot;Japan&quot;</td><td>2019</td><td>&quot;Cloud Computing&quot;</td></tr><tr><td>&quot;China&quot;</td><td>2002</td><td>&quot;Robotics&quot;</td></tr></tbody></table></div>"
      ],
      "text/plain": [
       "shape: (5, 3)\n",
       "┌─────────┬──────┬─────────────────┐\n",
       "│ Country ┆ Year ┆ Tech Sector     │\n",
       "│ ---     ┆ ---  ┆ ---             │\n",
       "│ str     ┆ i64  ┆ str             │\n",
       "╞═════════╪══════╪═════════════════╡\n",
       "│ China   ┆ 2001 ┆ Software        │\n",
       "│ Japan   ┆ 2011 ┆ Semiconductor   │\n",
       "│ Japan   ┆ 2009 ┆ Robotics        │\n",
       "│ Japan   ┆ 2019 ┆ Cloud Computing │\n",
       "│ China   ┆ 2002 ┆ Robotics        │\n",
       "└─────────┴──────┴─────────────────┘"
      ]
     },
     "execution_count": 236,
     "metadata": {},
     "output_type": "execute_result"
    }
   ],
   "source": [
    "df.select(\n",
    "    pl.col(\"Country\", \"Year\", \"Tech Sector\")\n",
    ").head()"
   ]
  },
  {
   "cell_type": "markdown",
   "metadata": {},
   "source": [
    "### Group Methods"
   ]
  },
  {
   "cell_type": "code",
   "execution_count": 237,
   "metadata": {},
   "outputs": [
    {
     "data": {
      "text/html": [
       "<div><style>\n",
       ".dataframe > thead > tr,\n",
       ".dataframe > tbody > tr {\n",
       "  text-align: right;\n",
       "  white-space: pre-wrap;\n",
       "}\n",
       "</style>\n",
       "<small>shape: (5, 4)</small><table border=\"1\" class=\"dataframe\"><thead><tr><th>Country</th><th>Year</th><th>len</th><th>R&amp;D Investment (in USD)</th></tr><tr><td>str</td><td>i64</td><td>u32</td><td>f64</td></tr></thead><tbody><tr><td>&quot;China&quot;</td><td>2000</td><td>4</td><td>3.0497e11</td></tr><tr><td>&quot;Japan&quot;</td><td>2013</td><td>2</td><td>3.9883e10</td></tr><tr><td>&quot;Japan&quot;</td><td>2000</td><td>1</td><td>4.9307e10</td></tr><tr><td>&quot;Japan&quot;</td><td>2001</td><td>4</td><td>1.8518e11</td></tr><tr><td>&quot;China&quot;</td><td>2010</td><td>3</td><td>1.7573e11</td></tr></tbody></table></div>"
      ],
      "text/plain": [
       "shape: (5, 4)\n",
       "┌─────────┬──────┬─────┬─────────────────────────┐\n",
       "│ Country ┆ Year ┆ len ┆ R&D Investment (in USD) │\n",
       "│ ---     ┆ ---  ┆ --- ┆ ---                     │\n",
       "│ str     ┆ i64  ┆ u32 ┆ f64                     │\n",
       "╞═════════╪══════╪═════╪═════════════════════════╡\n",
       "│ China   ┆ 2000 ┆ 4   ┆ 3.0497e11               │\n",
       "│ Japan   ┆ 2013 ┆ 2   ┆ 3.9883e10               │\n",
       "│ Japan   ┆ 2000 ┆ 1   ┆ 4.9307e10               │\n",
       "│ Japan   ┆ 2001 ┆ 4   ┆ 1.8518e11               │\n",
       "│ China   ┆ 2010 ┆ 3   ┆ 1.7573e11               │\n",
       "└─────────┴──────┴─────┴─────────────────────────┘"
      ]
     },
     "execution_count": 237,
     "metadata": {},
     "output_type": "execute_result"
    }
   ],
   "source": [
    "df.filter(\n",
    "    (pl.col(\"Tech Sector\") == \"AI\")\n",
    ").group_by(['Country', 'Year']).agg(\n",
    "    pl.len(),\n",
    "    pl.col('R&D Investment (in USD)').sum()\n",
    ").head()"
   ]
  },
  {
   "cell_type": "code",
   "execution_count": 238,
   "metadata": {},
   "outputs": [
    {
     "data": {
      "text/html": [
       "<div><style>\n",
       ".dataframe > thead > tr,\n",
       ".dataframe > tbody > tr {\n",
       "  text-align: right;\n",
       "  white-space: pre-wrap;\n",
       "}\n",
       "</style>\n",
       "<small>shape: (5, 16)</small><table border=\"1\" class=\"dataframe\"><thead><tr><th>Country</th><th>Year</th><th>Tech Sector</th><th>Market Share (%)</th><th>R&amp;D Investment (in USD)</th><th>Number of Patents Filed (Annual)</th><th>Number of Tech Companies</th><th>Tech Exports (in USD)</th><th>Number of Startups</th><th>Venture Capital Funding (in USD)</th><th>Global Innovation Ranking</th><th>Internet Penetration (%)</th><th>5G Network Coverage (%)</th><th>University Research Collaborations</th><th>Top Tech Products Exported</th><th>Number of Tech Workers</th></tr><tr><td>str</td><td>i64</td><td>str</td><td>f64</td><td>f64</td><td>i64</td><td>i64</td><td>f64</td><td>i64</td><td>f64</td><td>i64</td><td>f64</td><td>f64</td><td>i64</td><td>str</td><td>i64</td></tr></thead><tbody><tr><td>&quot;China&quot;</td><td>2003</td><td>null</td><td>147.327101</td><td>2.5377e11</td><td>38119</td><td>3648</td><td>4.2466e11</td><td>1510</td><td>1.3892e11</td><td>57</td><td>304.323429</td><td>242.928459</td><td>437</td><td>null</td><td>2005965</td></tr><tr><td>&quot;Japan&quot;</td><td>2012</td><td>null</td><td>75.999764</td><td>1.5351e11</td><td>8063</td><td>1813</td><td>3.0534e11</td><td>842</td><td>3.5132e10</td><td>24</td><td>142.654476</td><td>42.234203</td><td>189</td><td>null</td><td>773983</td></tr><tr><td>&quot;Japan&quot;</td><td>2007</td><td>null</td><td>38.007527</td><td>1.4617e11</td><td>15704</td><td>1467</td><td>1.7853e11</td><td>375</td><td>1.5733e10</td><td>16</td><td>137.981776</td><td>56.076602</td><td>171</td><td>null</td><td>1915678</td></tr><tr><td>&quot;Japan&quot;</td><td>2006</td><td>null</td><td>144.115197</td><td>3.2666e11</td><td>18293</td><td>3568</td><td>6.1365e11</td><td>1716</td><td>1.2085e11</td><td>19</td><td>366.42278</td><td>267.439658</td><td>560</td><td>null</td><td>2942275</td></tr><tr><td>&quot;China&quot;</td><td>2007</td><td>null</td><td>67.487681</td><td>9.7522e10</td><td>15141</td><td>2106</td><td>3.8967e11</td><td>378</td><td>5.8878e10</td><td>39</td><td>130.800032</td><td>231.144309</td><td>309</td><td>null</td><td>2150958</td></tr></tbody></table></div>"
      ],
      "text/plain": [
       "shape: (5, 16)\n",
       "┌─────┬─────┬─────┬─────┬─────┬─────┬─────┬─────┬─────┬─────┬─────┬─────┬─────┬─────┬─────┬────────┐\n",
       "│ Cou ┆ Yea ┆ Tec ┆ Mar ┆ R&D ┆ Num ┆ Num ┆ Tec ┆ Num ┆ Ven ┆ Glo ┆ Int ┆ 5G  ┆ Uni ┆ Top ┆ Number │\n",
       "│ ntr ┆ r   ┆ h   ┆ ket ┆ Inv ┆ ber ┆ ber ┆ h   ┆ ber ┆ tur ┆ bal ┆ ern ┆ Net ┆ ver ┆ Tec ┆ of     │\n",
       "│ y   ┆ --- ┆ Sec ┆ Sha ┆ est ┆ of  ┆ of  ┆ Exp ┆ of  ┆ e   ┆ Inn ┆ et  ┆ wor ┆ sit ┆ h   ┆ Tech   │\n",
       "│ --- ┆ i64 ┆ tor ┆ re  ┆ men ┆ Pat ┆ Tec ┆ ort ┆ Sta ┆ Cap ┆ ova ┆ Pen ┆ k   ┆ y   ┆ Pro ┆ Worker │\n",
       "│ str ┆     ┆ --- ┆ (%) ┆ t   ┆ ent ┆ h   ┆ s   ┆ rtu ┆ ita ┆ tio ┆ etr ┆ Cov ┆ Res ┆ duc ┆ s      │\n",
       "│     ┆     ┆ str ┆ --- ┆ (in ┆ s   ┆ Com ┆ (in ┆ ps  ┆ l   ┆ n   ┆ ati ┆ era ┆ ear ┆ ts  ┆ ---    │\n",
       "│     ┆     ┆     ┆ f64 ┆ USD ┆ Fil ┆ pan ┆ USD ┆ --- ┆ Fun ┆ Ran ┆ on  ┆ ge  ┆ ch  ┆ Exp ┆ i64    │\n",
       "│     ┆     ┆     ┆     ┆ )   ┆ ed  ┆ ies ┆ )   ┆ i64 ┆ din ┆ kin ┆ (%) ┆ (%) ┆ Col ┆ ort ┆        │\n",
       "│     ┆     ┆     ┆     ┆ --- ┆ (An ┆ --- ┆ --- ┆     ┆ g   ┆ g   ┆ --- ┆ --- ┆ lab ┆ ed  ┆        │\n",
       "│     ┆     ┆     ┆     ┆ f64 ┆ nua ┆ i64 ┆ f64 ┆     ┆ (in ┆ --- ┆ f64 ┆ f64 ┆ ora ┆ --- ┆        │\n",
       "│     ┆     ┆     ┆     ┆     ┆ …   ┆     ┆     ┆     ┆ US… ┆ i64 ┆     ┆     ┆ t…  ┆ str ┆        │\n",
       "│     ┆     ┆     ┆     ┆     ┆ --- ┆     ┆     ┆     ┆ --- ┆     ┆     ┆     ┆ --- ┆     ┆        │\n",
       "│     ┆     ┆     ┆     ┆     ┆ i64 ┆     ┆     ┆     ┆ f64 ┆     ┆     ┆     ┆ i64 ┆     ┆        │\n",
       "╞═════╪═════╪═════╪═════╪═════╪═════╪═════╪═════╪═════╪═════╪═════╪═════╪═════╪═════╪═════╪════════╡\n",
       "│ Chi ┆ 200 ┆ nul ┆ 147 ┆ 2.5 ┆ 381 ┆ 364 ┆ 4.2 ┆ 151 ┆ 1.3 ┆ 57  ┆ 304 ┆ 242 ┆ 437 ┆ nul ┆ 200596 │\n",
       "│ na  ┆ 3   ┆ l   ┆ .32 ┆ 377 ┆ 19  ┆ 8   ┆ 466 ┆ 0   ┆ 892 ┆     ┆ .32 ┆ .92 ┆     ┆ l   ┆ 5      │\n",
       "│     ┆     ┆     ┆ 710 ┆ e11 ┆     ┆     ┆ e11 ┆     ┆ e11 ┆     ┆ 342 ┆ 845 ┆     ┆     ┆        │\n",
       "│     ┆     ┆     ┆ 1   ┆     ┆     ┆     ┆     ┆     ┆     ┆     ┆ 9   ┆ 9   ┆     ┆     ┆        │\n",
       "│ Jap ┆ 201 ┆ nul ┆ 75. ┆ 1.5 ┆ 806 ┆ 181 ┆ 3.0 ┆ 842 ┆ 3.5 ┆ 24  ┆ 142 ┆ 42. ┆ 189 ┆ nul ┆ 773983 │\n",
       "│ an  ┆ 2   ┆ l   ┆ 999 ┆ 351 ┆ 3   ┆ 3   ┆ 534 ┆     ┆ 132 ┆     ┆ .65 ┆ 234 ┆     ┆ l   ┆        │\n",
       "│     ┆     ┆     ┆ 764 ┆ e11 ┆     ┆     ┆ e11 ┆     ┆ e10 ┆     ┆ 447 ┆ 203 ┆     ┆     ┆        │\n",
       "│     ┆     ┆     ┆     ┆     ┆     ┆     ┆     ┆     ┆     ┆     ┆ 6   ┆     ┆     ┆     ┆        │\n",
       "│ Jap ┆ 200 ┆ nul ┆ 38. ┆ 1.4 ┆ 157 ┆ 146 ┆ 1.7 ┆ 375 ┆ 1.5 ┆ 16  ┆ 137 ┆ 56. ┆ 171 ┆ nul ┆ 191567 │\n",
       "│ an  ┆ 7   ┆ l   ┆ 007 ┆ 617 ┆ 04  ┆ 7   ┆ 853 ┆     ┆ 733 ┆     ┆ .98 ┆ 076 ┆     ┆ l   ┆ 8      │\n",
       "│     ┆     ┆     ┆ 527 ┆ e11 ┆     ┆     ┆ e11 ┆     ┆ e10 ┆     ┆ 177 ┆ 602 ┆     ┆     ┆        │\n",
       "│     ┆     ┆     ┆     ┆     ┆     ┆     ┆     ┆     ┆     ┆     ┆ 6   ┆     ┆     ┆     ┆        │\n",
       "│ Jap ┆ 200 ┆ nul ┆ 144 ┆ 3.2 ┆ 182 ┆ 356 ┆ 6.1 ┆ 171 ┆ 1.2 ┆ 19  ┆ 366 ┆ 267 ┆ 560 ┆ nul ┆ 294227 │\n",
       "│ an  ┆ 6   ┆ l   ┆ .11 ┆ 666 ┆ 93  ┆ 8   ┆ 365 ┆ 6   ┆ 085 ┆     ┆ .42 ┆ .43 ┆     ┆ l   ┆ 5      │\n",
       "│     ┆     ┆     ┆ 519 ┆ e11 ┆     ┆     ┆ e11 ┆     ┆ e11 ┆     ┆ 278 ┆ 965 ┆     ┆     ┆        │\n",
       "│     ┆     ┆     ┆ 7   ┆     ┆     ┆     ┆     ┆     ┆     ┆     ┆     ┆ 8   ┆     ┆     ┆        │\n",
       "│ Chi ┆ 200 ┆ nul ┆ 67. ┆ 9.7 ┆ 151 ┆ 210 ┆ 3.8 ┆ 378 ┆ 5.8 ┆ 39  ┆ 130 ┆ 231 ┆ 309 ┆ nul ┆ 215095 │\n",
       "│ na  ┆ 7   ┆ l   ┆ 487 ┆ 522 ┆ 41  ┆ 6   ┆ 967 ┆     ┆ 878 ┆     ┆ .80 ┆ .14 ┆     ┆ l   ┆ 8      │\n",
       "│     ┆     ┆     ┆ 681 ┆ e10 ┆     ┆     ┆ e11 ┆     ┆ e10 ┆     ┆ 003 ┆ 430 ┆     ┆     ┆        │\n",
       "│     ┆     ┆     ┆     ┆     ┆     ┆     ┆     ┆     ┆     ┆     ┆ 2   ┆ 9   ┆     ┆     ┆        │\n",
       "└─────┴─────┴─────┴─────┴─────┴─────┴─────┴─────┴─────┴─────┴─────┴─────┴─────┴─────┴─────┴────────┘"
      ]
     },
     "execution_count": 238,
     "metadata": {},
     "output_type": "execute_result"
    }
   ],
   "source": [
    "df.filter(\n",
    "    (pl.col(\"Tech Sector\") == \"AI\")\n",
    ").group_by(['Country', 'Year']).agg(\n",
    "    pl.all().sum(),\n",
    ").head()"
   ]
  },
  {
   "cell_type": "code",
   "execution_count": 239,
   "metadata": {},
   "outputs": [
    {
     "data": {
      "text/html": [
       "<div><style>\n",
       ".dataframe > thead > tr,\n",
       ".dataframe > tbody > tr {\n",
       "  text-align: right;\n",
       "  white-space: pre-wrap;\n",
       "}\n",
       "</style>\n",
       "<small>shape: (2, 2)</small><table border=\"1\" class=\"dataframe\"><thead><tr><th>Country</th><th>R&amp;D Investment (in USD)</th></tr><tr><td>str</td><td>f64</td></tr></thead><tbody><tr><td>&quot;China&quot;</td><td>4.8391e7</td></tr><tr><td>&quot;Japan&quot;</td><td>5.1251e7</td></tr></tbody></table></div>"
      ],
      "text/plain": [
       "shape: (2, 2)\n",
       "┌─────────┬─────────────────────────┐\n",
       "│ Country ┆ R&D Investment (in USD) │\n",
       "│ ---     ┆ ---                     │\n",
       "│ str     ┆ f64                     │\n",
       "╞═════════╪═════════════════════════╡\n",
       "│ China   ┆ 4.8391e7                │\n",
       "│ Japan   ┆ 5.1251e7                │\n",
       "└─────────┴─────────────────────────┘"
      ]
     },
     "execution_count": 239,
     "metadata": {},
     "output_type": "execute_result"
    }
   ],
   "source": [
    "df.group_by('Country').agg(\n",
    "    pl.col('R&D Investment (in USD)').sum() / pl.col('Number of Tech Companies').sum()\n",
    ")"
   ]
  },
  {
   "cell_type": "markdown",
   "metadata": {},
   "source": [
    "### Count Values Methods"
   ]
  },
  {
   "cell_type": "code",
   "execution_count": 240,
   "metadata": {},
   "outputs": [
    {
     "data": {
      "text/html": [
       "<div><style>\n",
       ".dataframe > thead > tr,\n",
       ".dataframe > tbody > tr {\n",
       "  text-align: right;\n",
       "  white-space: pre-wrap;\n",
       "}\n",
       "</style>\n",
       "<small>shape: (7,)</small><table border=\"1\" class=\"dataframe\"><thead><tr><th>Tech Sector</th></tr><tr><td>str</td></tr></thead><tbody><tr><td>&quot;AI&quot;</td></tr><tr><td>&quot;Biotechnology&quot;</td></tr><tr><td>&quot;Telecommunications&quot;</td></tr><tr><td>&quot;Robotics&quot;</td></tr><tr><td>&quot;Software&quot;</td></tr><tr><td>&quot;Semiconductor&quot;</td></tr><tr><td>&quot;Cloud Computing&quot;</td></tr></tbody></table></div>"
      ],
      "text/plain": [
       "shape: (7,)\n",
       "Series: 'Tech Sector' [str]\n",
       "[\n",
       "\t\"AI\"\n",
       "\t\"Biotechnology\"\n",
       "\t\"Telecommunications\"\n",
       "\t\"Robotics\"\n",
       "\t\"Software\"\n",
       "\t\"Semiconductor\"\n",
       "\t\"Cloud Computing\"\n",
       "]"
      ]
     },
     "execution_count": 240,
     "metadata": {},
     "output_type": "execute_result"
    }
   ],
   "source": [
    "df['Tech Sector'].unique()"
   ]
  },
  {
   "cell_type": "code",
   "execution_count": 241,
   "metadata": {},
   "outputs": [
    {
     "data": {
      "text/plain": [
       "7"
      ]
     },
     "execution_count": 241,
     "metadata": {},
     "output_type": "execute_result"
    }
   ],
   "source": [
    "df['Tech Sector'].n_unique()"
   ]
  },
  {
   "cell_type": "code",
   "execution_count": 242,
   "metadata": {},
   "outputs": [
    {
     "data": {
      "text/html": [
       "<div><style>\n",
       ".dataframe > thead > tr,\n",
       ".dataframe > tbody > tr {\n",
       "  text-align: right;\n",
       "  white-space: pre-wrap;\n",
       "}\n",
       "</style>\n",
       "<small>shape: (7,)</small><table border=\"1\" class=\"dataframe\"><thead><tr><th>Tech Sector</th></tr><tr><td>u32</td></tr></thead><tbody><tr><td>144</td></tr><tr><td>144</td></tr><tr><td>155</td></tr><tr><td>141</td></tr><tr><td>133</td></tr><tr><td>144</td></tr><tr><td>139</td></tr></tbody></table></div>"
      ],
      "text/plain": [
       "shape: (7,)\n",
       "Series: 'Tech Sector' [u32]\n",
       "[\n",
       "\t144\n",
       "\t144\n",
       "\t155\n",
       "\t141\n",
       "\t133\n",
       "\t144\n",
       "\t139\n",
       "]"
      ]
     },
     "execution_count": 242,
     "metadata": {},
     "output_type": "execute_result"
    }
   ],
   "source": [
    "df['Tech Sector'].unique_counts()"
   ]
  },
  {
   "cell_type": "code",
   "execution_count": 325,
   "metadata": {},
   "outputs": [
    {
     "data": {
      "text/html": [
       "<div><style>\n",
       ".dataframe > thead > tr,\n",
       ".dataframe > tbody > tr {\n",
       "  text-align: right;\n",
       "  white-space: pre-wrap;\n",
       "}\n",
       "</style>\n",
       "<small>shape: (7, 2)</small><table border=\"1\" class=\"dataframe\"><thead><tr><th>Tech Sector</th><th>count</th></tr><tr><td>str</td><td>u32</td></tr></thead><tbody><tr><td>&quot;Robotics&quot;</td><td>155</td></tr><tr><td>&quot;Cloud Computing&quot;</td><td>141</td></tr><tr><td>&quot;Software&quot;</td><td>144</td></tr><tr><td>&quot;Semiconductor&quot;</td><td>144</td></tr><tr><td>&quot;AI&quot;</td><td>133</td></tr><tr><td>&quot;Telecommunications&quot;</td><td>139</td></tr><tr><td>&quot;Biotechnology&quot;</td><td>144</td></tr></tbody></table></div>"
      ],
      "text/plain": [
       "shape: (7, 2)\n",
       "┌────────────────────┬───────┐\n",
       "│ Tech Sector        ┆ count │\n",
       "│ ---                ┆ ---   │\n",
       "│ str                ┆ u32   │\n",
       "╞════════════════════╪═══════╡\n",
       "│ Robotics           ┆ 155   │\n",
       "│ Cloud Computing    ┆ 141   │\n",
       "│ Software           ┆ 144   │\n",
       "│ Semiconductor      ┆ 144   │\n",
       "│ AI                 ┆ 133   │\n",
       "│ Telecommunications ┆ 139   │\n",
       "│ Biotechnology      ┆ 144   │\n",
       "└────────────────────┴───────┘"
      ]
     },
     "execution_count": 325,
     "metadata": {},
     "output_type": "execute_result"
    }
   ],
   "source": [
    "df['Tech Sector'].value_counts()"
   ]
  },
  {
   "cell_type": "code",
   "execution_count": 327,
   "metadata": {},
   "outputs": [
    {
     "data": {
      "text/html": [
       "<div><style>\n",
       ".dataframe > thead > tr,\n",
       ".dataframe > tbody > tr {\n",
       "  text-align: right;\n",
       "  white-space: pre-wrap;\n",
       "}\n",
       "</style>\n",
       "<small>shape: (7, 2)</small><table border=\"1\" class=\"dataframe\"><thead><tr><th>Tech Sector</th><th>count</th></tr><tr><td>str</td><td>u32</td></tr></thead><tbody><tr><td>&quot;Robotics&quot;</td><td>155</td></tr><tr><td>&quot;Software&quot;</td><td>144</td></tr><tr><td>&quot;Semiconductor&quot;</td><td>144</td></tr><tr><td>&quot;Biotechnology&quot;</td><td>144</td></tr><tr><td>&quot;Cloud Computing&quot;</td><td>141</td></tr><tr><td>&quot;Telecommunications&quot;</td><td>139</td></tr><tr><td>&quot;AI&quot;</td><td>133</td></tr></tbody></table></div>"
      ],
      "text/plain": [
       "shape: (7, 2)\n",
       "┌────────────────────┬───────┐\n",
       "│ Tech Sector        ┆ count │\n",
       "│ ---                ┆ ---   │\n",
       "│ str                ┆ u32   │\n",
       "╞════════════════════╪═══════╡\n",
       "│ Robotics           ┆ 155   │\n",
       "│ Software           ┆ 144   │\n",
       "│ Semiconductor      ┆ 144   │\n",
       "│ Biotechnology      ┆ 144   │\n",
       "│ Cloud Computing    ┆ 141   │\n",
       "│ Telecommunications ┆ 139   │\n",
       "│ AI                 ┆ 133   │\n",
       "└────────────────────┴───────┘"
      ]
     },
     "execution_count": 327,
     "metadata": {},
     "output_type": "execute_result"
    }
   ],
   "source": [
    "df.select(pl.col('Tech Sector').value_counts(sort=True)).unnest('Tech Sector')"
   ]
  },
  {
   "cell_type": "code",
   "execution_count": 244,
   "metadata": {},
   "outputs": [
    {
     "data": {
      "text/html": [
       "<div><style>\n",
       ".dataframe > thead > tr,\n",
       ".dataframe > tbody > tr {\n",
       "  text-align: right;\n",
       "  white-space: pre-wrap;\n",
       "}\n",
       "</style>\n",
       "<small>shape: (2, 3)</small><table border=\"1\" class=\"dataframe\"><thead><tr><th>Country</th><th>proportion</th><th>count</th></tr><tr><td>str</td><td>f64</td><td>u32</td></tr></thead><tbody><tr><td>&quot;Japan&quot;</td><td>0.503</td><td>503</td></tr><tr><td>&quot;China&quot;</td><td>0.497</td><td>497</td></tr></tbody></table></div>"
      ],
      "text/plain": [
       "shape: (2, 3)\n",
       "┌─────────┬────────────┬───────┐\n",
       "│ Country ┆ proportion ┆ count │\n",
       "│ ---     ┆ ---        ┆ ---   │\n",
       "│ str     ┆ f64        ┆ u32   │\n",
       "╞═════════╪════════════╪═══════╡\n",
       "│ Japan   ┆ 0.503      ┆ 503   │\n",
       "│ China   ┆ 0.497      ┆ 497   │\n",
       "└─────────┴────────────┴───────┘"
      ]
     },
     "execution_count": 244,
     "metadata": {},
     "output_type": "execute_result"
    }
   ],
   "source": [
    "df['Country'].value_counts(normalize=True).join(df['Country'].value_counts(), on=\"Country\")"
   ]
  },
  {
   "cell_type": "markdown",
   "metadata": {},
   "source": [
    "### Conditional with ``Then, When, Otherwise``"
   ]
  },
  {
   "cell_type": "code",
   "execution_count": 245,
   "metadata": {},
   "outputs": [
    {
     "data": {
      "text/html": [
       "<div><style>\n",
       ".dataframe > thead > tr,\n",
       ".dataframe > tbody > tr {\n",
       "  text-align: right;\n",
       "  white-space: pre-wrap;\n",
       "}\n",
       "</style>\n",
       "<small>shape: (5, 3)</small><table border=\"1\" class=\"dataframe\"><thead><tr><th>median_ms</th><th>Market Share (%)</th><th>conditional</th></tr><tr><td>f64</td><td>f64</td><td>str</td></tr></thead><tbody><tr><td>27.111042</td><td>22.279014</td><td>&quot;lower_then_median&quot;</td></tr><tr><td>27.111042</td><td>31.899013</td><td>&quot;higher_then_median&quot;</td></tr><tr><td>27.111042</td><td>33.574466</td><td>&quot;higher_then_median&quot;</td></tr><tr><td>27.111042</td><td>24.904248</td><td>&quot;lower_then_median&quot;</td></tr><tr><td>27.111042</td><td>46.975827</td><td>&quot;higher_then_median&quot;</td></tr></tbody></table></div>"
      ],
      "text/plain": [
       "shape: (5, 3)\n",
       "┌───────────┬──────────────────┬────────────────────┐\n",
       "│ median_ms ┆ Market Share (%) ┆ conditional        │\n",
       "│ ---       ┆ ---              ┆ ---                │\n",
       "│ f64       ┆ f64              ┆ str                │\n",
       "╞═══════════╪══════════════════╪════════════════════╡\n",
       "│ 27.111042 ┆ 22.279014        ┆ lower_then_median  │\n",
       "│ 27.111042 ┆ 31.899013        ┆ higher_then_median │\n",
       "│ 27.111042 ┆ 33.574466        ┆ higher_then_median │\n",
       "│ 27.111042 ┆ 24.904248        ┆ lower_then_median  │\n",
       "│ 27.111042 ┆ 46.975827        ┆ higher_then_median │\n",
       "└───────────┴──────────────────┴────────────────────┘"
      ]
     },
     "execution_count": 245,
     "metadata": {},
     "output_type": "execute_result"
    }
   ],
   "source": [
    "df.select(\n",
    "    pl.col(\"Market Share (%)\").median().alias(\"median_ms\"),\n",
    "    pl.col(\"Market Share (%)\"),\n",
    "    pl.when(pl.col(\"Market Share (%)\") > pl.col(\"Market Share (%)\").median())\n",
    "    .then(pl.lit(\"higher_then_median\"))\n",
    "    .otherwise(pl.lit(\"lower_then_median\"))\n",
    "    .alias(\"conditional\")\n",
    ").head()"
   ]
  },
  {
   "cell_type": "markdown",
   "metadata": {},
   "source": [
    "### CS Methods"
   ]
  },
  {
   "cell_type": "code",
   "execution_count": 246,
   "metadata": {},
   "outputs": [
    {
     "data": {
      "text/html": [
       "<div><style>\n",
       ".dataframe > thead > tr,\n",
       ".dataframe > tbody > tr {\n",
       "  text-align: right;\n",
       "  white-space: pre-wrap;\n",
       "}\n",
       "</style>\n",
       "<small>shape: (5, 13)</small><table border=\"1\" class=\"dataframe\"><thead><tr><th>Year</th><th>Number of Patents Filed (Annual)</th><th>Number of Tech Companies</th><th>Number of Startups</th><th>Global Innovation Ranking</th><th>University Research Collaborations</th><th>Number of Tech Workers</th><th>Market Share (%)</th><th>R&amp;D Investment (in USD)</th><th>Tech Exports (in USD)</th><th>Venture Capital Funding (in USD)</th><th>Internet Penetration (%)</th><th>5G Network Coverage (%)</th></tr><tr><td>i64</td><td>i64</td><td>i64</td><td>i64</td><td>i64</td><td>i64</td><td>i64</td><td>f64</td><td>f64</td><td>f64</td><td>f64</td><td>f64</td><td>f64</td></tr></thead><tbody><tr><td>2001</td><td>1415</td><td>878</td><td>166</td><td>11</td><td>50</td><td>621221</td><td>22.279014</td><td>8.3772e10</td><td>3.5032e10</td><td>4.5027e10</td><td>57.088673</td><td>82.240272</td></tr><tr><td>2011</td><td>7899</td><td>364</td><td>217</td><td>14</td><td>134</td><td>431928</td><td>31.899013</td><td>3.5511e10</td><td>3.7142e10</td><td>1.1474e10</td><td>78.17209</td><td>48.552982</td></tr><tr><td>2009</td><td>3749</td><td>425</td><td>451</td><td>14</td><td>58</td><td>55776</td><td>33.574466</td><td>8.4809e10</td><td>1.5704e11</td><td>5.4989e9</td><td>55.810668</td><td>66.495286</td></tr><tr><td>2019</td><td>3841</td><td>62</td><td>264</td><td>10</td><td>150</td><td>267852</td><td>24.904248</td><td>2.2678e10</td><td>1.0313e11</td><td>2.1863e10</td><td>78.553714</td><td>28.807251</td></tr><tr><td>2002</td><td>1704</td><td>458</td><td>463</td><td>10</td><td>74</td><td>654162</td><td>46.975827</td><td>3.4537e10</td><td>1.1121e11</td><td>4.0983e10</td><td>70.427548</td><td>38.746268</td></tr></tbody></table></div>"
      ],
      "text/plain": [
       "shape: (5, 13)\n",
       "┌─────┬─────┬─────┬────────┬───────┬───────┬───────┬───────┬───────┬───────┬───────┬───────┬───────┐\n",
       "│ Yea ┆ Num ┆ Num ┆ Number ┆ Globa ┆ Unive ┆ Numbe ┆ Marke ┆ R&D   ┆ Tech  ┆ Ventu ┆ Inter ┆ 5G    │\n",
       "│ r   ┆ ber ┆ ber ┆ of Sta ┆ l Inn ┆ rsity ┆ r of  ┆ t     ┆ Inves ┆ Expor ┆ re    ┆ net   ┆ Netwo │\n",
       "│ --- ┆ of  ┆ of  ┆ rtups  ┆ ovati ┆ Resea ┆ Tech  ┆ Share ┆ tment ┆ ts    ┆ Capit ┆ Penet ┆ rk    │\n",
       "│ i64 ┆ Pat ┆ Tec ┆ ---    ┆ on    ┆ rch   ┆ Worke ┆ (%)   ┆ (in   ┆ (in   ┆ al    ┆ ratio ┆ Cover │\n",
       "│     ┆ ent ┆ h   ┆ i64    ┆ Ranki ┆ Colla ┆ rs    ┆ ---   ┆ USD)  ┆ USD)  ┆ Fundi ┆ n (%) ┆ age   │\n",
       "│     ┆ s   ┆ Com ┆        ┆ ng    ┆ borat ┆ ---   ┆ f64   ┆ ---   ┆ ---   ┆ ng    ┆ ---   ┆ (%)   │\n",
       "│     ┆ Fil ┆ pan ┆        ┆ ---   ┆ …     ┆ i64   ┆       ┆ f64   ┆ f64   ┆ (in   ┆ f64   ┆ ---   │\n",
       "│     ┆ ed  ┆ ies ┆        ┆ i64   ┆ ---   ┆       ┆       ┆       ┆       ┆ US…   ┆       ┆ f64   │\n",
       "│     ┆ (An ┆ --- ┆        ┆       ┆ i64   ┆       ┆       ┆       ┆       ┆ ---   ┆       ┆       │\n",
       "│     ┆ nua ┆ i64 ┆        ┆       ┆       ┆       ┆       ┆       ┆       ┆ f64   ┆       ┆       │\n",
       "│     ┆ …   ┆     ┆        ┆       ┆       ┆       ┆       ┆       ┆       ┆       ┆       ┆       │\n",
       "│     ┆ --- ┆     ┆        ┆       ┆       ┆       ┆       ┆       ┆       ┆       ┆       ┆       │\n",
       "│     ┆ i64 ┆     ┆        ┆       ┆       ┆       ┆       ┆       ┆       ┆       ┆       ┆       │\n",
       "╞═════╪═════╪═════╪════════╪═══════╪═══════╪═══════╪═══════╪═══════╪═══════╪═══════╪═══════╪═══════╡\n",
       "│ 200 ┆ 141 ┆ 878 ┆ 166    ┆ 11    ┆ 50    ┆ 62122 ┆ 22.27 ┆ 8.377 ┆ 3.503 ┆ 4.502 ┆ 57.08 ┆ 82.24 │\n",
       "│ 1   ┆ 5   ┆     ┆        ┆       ┆       ┆ 1     ┆ 9014  ┆ 2e10  ┆ 2e10  ┆ 7e10  ┆ 8673  ┆ 0272  │\n",
       "│ 201 ┆ 789 ┆ 364 ┆ 217    ┆ 14    ┆ 134   ┆ 43192 ┆ 31.89 ┆ 3.551 ┆ 3.714 ┆ 1.147 ┆ 78.17 ┆ 48.55 │\n",
       "│ 1   ┆ 9   ┆     ┆        ┆       ┆       ┆ 8     ┆ 9013  ┆ 1e10  ┆ 2e10  ┆ 4e10  ┆ 209   ┆ 2982  │\n",
       "│ 200 ┆ 374 ┆ 425 ┆ 451    ┆ 14    ┆ 58    ┆ 55776 ┆ 33.57 ┆ 8.480 ┆ 1.570 ┆ 5.498 ┆ 55.81 ┆ 66.49 │\n",
       "│ 9   ┆ 9   ┆     ┆        ┆       ┆       ┆       ┆ 4466  ┆ 9e10  ┆ 4e11  ┆ 9e9   ┆ 0668  ┆ 5286  │\n",
       "│ 201 ┆ 384 ┆ 62  ┆ 264    ┆ 10    ┆ 150   ┆ 26785 ┆ 24.90 ┆ 2.267 ┆ 1.031 ┆ 2.186 ┆ 78.55 ┆ 28.80 │\n",
       "│ 9   ┆ 1   ┆     ┆        ┆       ┆       ┆ 2     ┆ 4248  ┆ 8e10  ┆ 3e11  ┆ 3e10  ┆ 3714  ┆ 7251  │\n",
       "│ 200 ┆ 170 ┆ 458 ┆ 463    ┆ 10    ┆ 74    ┆ 65416 ┆ 46.97 ┆ 3.453 ┆ 1.112 ┆ 4.098 ┆ 70.42 ┆ 38.74 │\n",
       "│ 2   ┆ 4   ┆     ┆        ┆       ┆       ┆ 2     ┆ 5827  ┆ 7e10  ┆ 1e11  ┆ 3e10  ┆ 7548  ┆ 6268  │\n",
       "└─────┴─────┴─────┴────────┴───────┴───────┴───────┴───────┴───────┴───────┴───────┴───────┴───────┘"
      ]
     },
     "execution_count": 246,
     "metadata": {},
     "output_type": "execute_result"
    }
   ],
   "source": [
    "import polars.selectors as cs\n",
    "\n",
    "df.select(cs.integer(), cs.float()).head()"
   ]
  },
  {
   "cell_type": "code",
   "execution_count": 247,
   "metadata": {},
   "outputs": [
    {
     "data": {
      "text/html": [
       "<div><style>\n",
       ".dataframe > thead > tr,\n",
       ".dataframe > tbody > tr {\n",
       "  text-align: right;\n",
       "  white-space: pre-wrap;\n",
       "}\n",
       "</style>\n",
       "<small>shape: (5, 2)</small><table border=\"1\" class=\"dataframe\"><thead><tr><th>Country</th><th>Year</th></tr><tr><td>str</td><td>i64</td></tr></thead><tbody><tr><td>&quot;China&quot;</td><td>2001</td></tr><tr><td>&quot;Japan&quot;</td><td>2011</td></tr><tr><td>&quot;Japan&quot;</td><td>2009</td></tr><tr><td>&quot;Japan&quot;</td><td>2019</td></tr><tr><td>&quot;China&quot;</td><td>2002</td></tr></tbody></table></div>"
      ],
      "text/plain": [
       "shape: (5, 2)\n",
       "┌─────────┬──────┐\n",
       "│ Country ┆ Year │\n",
       "│ ---     ┆ ---  │\n",
       "│ str     ┆ i64  │\n",
       "╞═════════╪══════╡\n",
       "│ China   ┆ 2001 │\n",
       "│ Japan   ┆ 2011 │\n",
       "│ Japan   ┆ 2009 │\n",
       "│ Japan   ┆ 2019 │\n",
       "│ China   ┆ 2002 │\n",
       "└─────────┴──────┘"
      ]
     },
     "execution_count": 247,
     "metadata": {},
     "output_type": "execute_result"
    }
   ],
   "source": [
    "df.select(cs.alpha()).head()"
   ]
  },
  {
   "cell_type": "code",
   "execution_count": 248,
   "metadata": {},
   "outputs": [
    {
     "data": {
      "text/html": [
       "<div><style>\n",
       ".dataframe > thead > tr,\n",
       ".dataframe > tbody > tr {\n",
       "  text-align: right;\n",
       "  white-space: pre-wrap;\n",
       "}\n",
       "</style>\n",
       "<small>shape: (5, 14)</small><table border=\"1\" class=\"dataframe\"><thead><tr><th>Country</th><th>Year</th><th>Market Share (%)</th><th>R&amp;D Investment (in USD)</th><th>Number of Patents Filed (Annual)</th><th>Number of Tech Companies</th><th>Tech Exports (in USD)</th><th>Number of Startups</th><th>Venture Capital Funding (in USD)</th><th>Global Innovation Ranking</th><th>Internet Penetration (%)</th><th>5G Network Coverage (%)</th><th>University Research Collaborations</th><th>Number of Tech Workers</th></tr><tr><td>str</td><td>i64</td><td>f64</td><td>f64</td><td>i64</td><td>i64</td><td>f64</td><td>i64</td><td>f64</td><td>i64</td><td>f64</td><td>f64</td><td>i64</td><td>i64</td></tr></thead><tbody><tr><td>&quot;Japan&quot;</td><td>2009</td><td>11.609168</td><td>2.9461e10</td><td>6109</td><td>344</td><td>1.7429e11</td><td>266</td><td>1.6119e10</td><td>10</td><td>91.894161</td><td>75.248011</td><td>167</td><td>987638</td></tr><tr><td>&quot;China&quot;</td><td>2014</td><td>14.201946</td><td>6.3964e10</td><td>9533</td><td>1213</td><td>1.7788e11</td><td>415</td><td>6.5236e9</td><td>4</td><td>76.078491</td><td>49.148527</td><td>35</td><td>742341</td></tr><tr><td>&quot;China&quot;</td><td>2022</td><td>28.643274</td><td>1.8465e10</td><td>7276</td><td>848</td><td>3.8790e10</td><td>416</td><td>3.8980e10</td><td>2</td><td>66.952614</td><td>40.572915</td><td>47</td><td>78086</td></tr><tr><td>&quot;China&quot;</td><td>2015</td><td>7.287168</td><td>6.8658e10</td><td>2188</td><td>1613</td><td>1.0133e11</td><td>289</td><td>1.6534e10</td><td>7</td><td>57.349375</td><td>62.643775</td><td>74</td><td>833753</td></tr><tr><td>&quot;China&quot;</td><td>2010</td><td>8.358039</td><td>7.4172e10</td><td>170</td><td>1400</td><td>1.5758e11</td><td>93</td><td>3.3179e10</td><td>18</td><td>65.9991</td><td>64.264034</td><td>74</td><td>891046</td></tr></tbody></table></div>"
      ],
      "text/plain": [
       "shape: (5, 14)\n",
       "┌─────┬─────┬─────┬─────┬─────┬─────┬─────┬────────┬───────┬───────┬───────┬───────┬───────┬───────┐\n",
       "│ Cou ┆ Yea ┆ Mar ┆ R&D ┆ Num ┆ Num ┆ Tec ┆ Number ┆ Ventu ┆ Globa ┆ Inter ┆ 5G    ┆ Unive ┆ Numbe │\n",
       "│ ntr ┆ r   ┆ ket ┆ Inv ┆ ber ┆ ber ┆ h   ┆ of Sta ┆ re    ┆ l Inn ┆ net   ┆ Netwo ┆ rsity ┆ r of  │\n",
       "│ y   ┆ --- ┆ Sha ┆ est ┆ of  ┆ of  ┆ Exp ┆ rtups  ┆ Capit ┆ ovati ┆ Penet ┆ rk    ┆ Resea ┆ Tech  │\n",
       "│ --- ┆ i64 ┆ re  ┆ men ┆ Pat ┆ Tec ┆ ort ┆ ---    ┆ al    ┆ on    ┆ ratio ┆ Cover ┆ rch   ┆ Worke │\n",
       "│ str ┆     ┆ (%) ┆ t   ┆ ent ┆ h   ┆ s   ┆ i64    ┆ Fundi ┆ Ranki ┆ n (%) ┆ age   ┆ Colla ┆ rs    │\n",
       "│     ┆     ┆ --- ┆ (in ┆ s   ┆ Com ┆ (in ┆        ┆ ng    ┆ ng    ┆ ---   ┆ (%)   ┆ borat ┆ ---   │\n",
       "│     ┆     ┆ f64 ┆ USD ┆ Fil ┆ pan ┆ USD ┆        ┆ (in   ┆ ---   ┆ f64   ┆ ---   ┆ …     ┆ i64   │\n",
       "│     ┆     ┆     ┆ )   ┆ ed  ┆ ies ┆ )   ┆        ┆ US…   ┆ i64   ┆       ┆ f64   ┆ ---   ┆       │\n",
       "│     ┆     ┆     ┆ --- ┆ (An ┆ --- ┆ --- ┆        ┆ ---   ┆       ┆       ┆       ┆ i64   ┆       │\n",
       "│     ┆     ┆     ┆ f64 ┆ nua ┆ i64 ┆ f64 ┆        ┆ f64   ┆       ┆       ┆       ┆       ┆       │\n",
       "│     ┆     ┆     ┆     ┆ …   ┆     ┆     ┆        ┆       ┆       ┆       ┆       ┆       ┆       │\n",
       "│     ┆     ┆     ┆     ┆ --- ┆     ┆     ┆        ┆       ┆       ┆       ┆       ┆       ┆       │\n",
       "│     ┆     ┆     ┆     ┆ i64 ┆     ┆     ┆        ┆       ┆       ┆       ┆       ┆       ┆       │\n",
       "╞═════╪═════╪═════╪═════╪═════╪═════╪═════╪════════╪═══════╪═══════╪═══════╪═══════╪═══════╪═══════╡\n",
       "│ Jap ┆ 200 ┆ 11. ┆ 2.9 ┆ 610 ┆ 344 ┆ 1.7 ┆ 266    ┆ 1.611 ┆ 10    ┆ 91.89 ┆ 75.24 ┆ 167   ┆ 98763 │\n",
       "│ an  ┆ 9   ┆ 609 ┆ 461 ┆ 9   ┆     ┆ 429 ┆        ┆ 9e10  ┆       ┆ 4161  ┆ 8011  ┆       ┆ 8     │\n",
       "│     ┆     ┆ 168 ┆ e10 ┆     ┆     ┆ e11 ┆        ┆       ┆       ┆       ┆       ┆       ┆       │\n",
       "│ Chi ┆ 201 ┆ 14. ┆ 6.3 ┆ 953 ┆ 121 ┆ 1.7 ┆ 415    ┆ 6.523 ┆ 4     ┆ 76.07 ┆ 49.14 ┆ 35    ┆ 74234 │\n",
       "│ na  ┆ 4   ┆ 201 ┆ 964 ┆ 3   ┆ 3   ┆ 788 ┆        ┆ 6e9   ┆       ┆ 8491  ┆ 8527  ┆       ┆ 1     │\n",
       "│     ┆     ┆ 946 ┆ e10 ┆     ┆     ┆ e11 ┆        ┆       ┆       ┆       ┆       ┆       ┆       │\n",
       "│ Chi ┆ 202 ┆ 28. ┆ 1.8 ┆ 727 ┆ 848 ┆ 3.8 ┆ 416    ┆ 3.898 ┆ 2     ┆ 66.95 ┆ 40.57 ┆ 47    ┆ 78086 │\n",
       "│ na  ┆ 2   ┆ 643 ┆ 465 ┆ 6   ┆     ┆ 790 ┆        ┆ 0e10  ┆       ┆ 2614  ┆ 2915  ┆       ┆       │\n",
       "│     ┆     ┆ 274 ┆ e10 ┆     ┆     ┆ e10 ┆        ┆       ┆       ┆       ┆       ┆       ┆       │\n",
       "│ Chi ┆ 201 ┆ 7.2 ┆ 6.8 ┆ 218 ┆ 161 ┆ 1.0 ┆ 289    ┆ 1.653 ┆ 7     ┆ 57.34 ┆ 62.64 ┆ 74    ┆ 83375 │\n",
       "│ na  ┆ 5   ┆ 871 ┆ 658 ┆ 8   ┆ 3   ┆ 133 ┆        ┆ 4e10  ┆       ┆ 9375  ┆ 3775  ┆       ┆ 3     │\n",
       "│     ┆     ┆ 68  ┆ e10 ┆     ┆     ┆ e11 ┆        ┆       ┆       ┆       ┆       ┆       ┆       │\n",
       "│ Chi ┆ 201 ┆ 8.3 ┆ 7.4 ┆ 170 ┆ 140 ┆ 1.5 ┆ 93     ┆ 3.317 ┆ 18    ┆ 65.99 ┆ 64.26 ┆ 74    ┆ 89104 │\n",
       "│ na  ┆ 0   ┆ 580 ┆ 172 ┆     ┆ 0   ┆ 758 ┆        ┆ 9e10  ┆       ┆ 91    ┆ 4034  ┆       ┆ 6     │\n",
       "│     ┆     ┆ 39  ┆ e10 ┆     ┆     ┆ e11 ┆        ┆       ┆       ┆       ┆       ┆       ┆       │\n",
       "└─────┴─────┴─────┴─────┴─────┴─────┴─────┴────────┴───────┴───────┴───────┴───────┴───────┴───────┘"
      ]
     },
     "execution_count": 248,
     "metadata": {},
     "output_type": "execute_result"
    }
   ],
   "source": [
    "df.select(cs.by_name(\"Country\") | cs.numeric()).sample(5)"
   ]
  },
  {
   "cell_type": "code",
   "execution_count": 249,
   "metadata": {},
   "outputs": [
    {
     "data": {
      "text/html": [
       "<div><style>\n",
       ".dataframe > thead > tr,\n",
       ".dataframe > tbody > tr {\n",
       "  text-align: right;\n",
       "  white-space: pre-wrap;\n",
       "}\n",
       "</style>\n",
       "<small>shape: (5, 3)</small><table border=\"1\" class=\"dataframe\"><thead><tr><th>Country</th><th>Tech Sector</th><th>Top Tech Products Exported</th></tr><tr><td>str</td><td>str</td><td>str</td></tr></thead><tbody><tr><td>&quot;China&quot;</td><td>&quot;Software&quot;</td><td>&quot;Robots&quot;</td></tr><tr><td>&quot;Japan&quot;</td><td>&quot;Semiconductor&quot;</td><td>&quot;5G Equipment&quot;</td></tr><tr><td>&quot;Japan&quot;</td><td>&quot;Robotics&quot;</td><td>&quot;Semiconductors&quot;</td></tr><tr><td>&quot;Japan&quot;</td><td>&quot;Cloud Computing&quot;</td><td>&quot;Robots&quot;</td></tr><tr><td>&quot;China&quot;</td><td>&quot;Robotics&quot;</td><td>&quot;AI Chips&quot;</td></tr></tbody></table></div>"
      ],
      "text/plain": [
       "shape: (5, 3)\n",
       "┌─────────┬─────────────────┬────────────────────────────┐\n",
       "│ Country ┆ Tech Sector     ┆ Top Tech Products Exported │\n",
       "│ ---     ┆ ---             ┆ ---                        │\n",
       "│ str     ┆ str             ┆ str                        │\n",
       "╞═════════╪═════════════════╪════════════════════════════╡\n",
       "│ China   ┆ Software        ┆ Robots                     │\n",
       "│ Japan   ┆ Semiconductor   ┆ 5G Equipment               │\n",
       "│ Japan   ┆ Robotics        ┆ Semiconductors             │\n",
       "│ Japan   ┆ Cloud Computing ┆ Robots                     │\n",
       "│ China   ┆ Robotics        ┆ AI Chips                   │\n",
       "└─────────┴─────────────────┴────────────────────────────┘"
      ]
     },
     "execution_count": 249,
     "metadata": {},
     "output_type": "execute_result"
    }
   ],
   "source": [
    "df.select(~cs.numeric()).head()"
   ]
  },
  {
   "cell_type": "code",
   "execution_count": 250,
   "metadata": {},
   "outputs": [
    {
     "data": {
      "text/html": [
       "<div><style>\n",
       ".dataframe > thead > tr,\n",
       ".dataframe > tbody > tr {\n",
       "  text-align: right;\n",
       "  white-space: pre-wrap;\n",
       "}\n",
       "</style>\n",
       "<small>shape: (5, 15)</small><table border=\"1\" class=\"dataframe\"><thead><tr><th>Year</th><th>Tech Sector</th><th>Market Share (%)</th><th>R&amp;D Investment (in USD)</th><th>Number of Patents Filed (Annual)</th><th>Number of Tech Companies</th><th>Tech Exports (in USD)</th><th>Number of Startups</th><th>Venture Capital Funding (in USD)</th><th>Global Innovation Ranking</th><th>Internet Penetration (%)</th><th>5G Network Coverage (%)</th><th>University Research Collaborations</th><th>Top Tech Products Exported</th><th>Number of Tech Workers</th></tr><tr><td>i64</td><td>str</td><td>f64</td><td>f64</td><td>i64</td><td>i64</td><td>f64</td><td>i64</td><td>f64</td><td>i64</td><td>f64</td><td>f64</td><td>i64</td><td>str</td><td>i64</td></tr></thead><tbody><tr><td>2001</td><td>&quot;Software&quot;</td><td>22.279014</td><td>8.3772e10</td><td>1415</td><td>878</td><td>3.5032e10</td><td>166</td><td>4.5027e10</td><td>11</td><td>57.088673</td><td>82.240272</td><td>50</td><td>&quot;Robots&quot;</td><td>621221</td></tr><tr><td>2011</td><td>&quot;Semiconductor&quot;</td><td>31.899013</td><td>3.5511e10</td><td>7899</td><td>364</td><td>3.7142e10</td><td>217</td><td>1.1474e10</td><td>14</td><td>78.17209</td><td>48.552982</td><td>134</td><td>&quot;5G Equipment&quot;</td><td>431928</td></tr><tr><td>2009</td><td>&quot;Robotics&quot;</td><td>33.574466</td><td>8.4809e10</td><td>3749</td><td>425</td><td>1.5704e11</td><td>451</td><td>5.4989e9</td><td>14</td><td>55.810668</td><td>66.495286</td><td>58</td><td>&quot;Semiconductors&quot;</td><td>55776</td></tr><tr><td>2019</td><td>&quot;Cloud Computing&quot;</td><td>24.904248</td><td>2.2678e10</td><td>3841</td><td>62</td><td>1.0313e11</td><td>264</td><td>2.1863e10</td><td>10</td><td>78.553714</td><td>28.807251</td><td>150</td><td>&quot;Robots&quot;</td><td>267852</td></tr><tr><td>2002</td><td>&quot;Robotics&quot;</td><td>46.975827</td><td>3.4537e10</td><td>1704</td><td>458</td><td>1.1121e11</td><td>463</td><td>4.0983e10</td><td>10</td><td>70.427548</td><td>38.746268</td><td>74</td><td>&quot;AI Chips&quot;</td><td>654162</td></tr></tbody></table></div>"
      ],
      "text/plain": [
       "shape: (5, 15)\n",
       "┌─────┬─────┬─────┬─────┬─────┬─────┬─────┬─────┬─────┬─────┬─────┬────────┬───────┬───────┬───────┐\n",
       "│ Yea ┆ Tec ┆ Mar ┆ R&D ┆ Num ┆ Num ┆ Tec ┆ Num ┆ Ven ┆ Glo ┆ Int ┆ 5G Net ┆ Unive ┆ Top   ┆ Numbe │\n",
       "│ r   ┆ h   ┆ ket ┆ Inv ┆ ber ┆ ber ┆ h   ┆ ber ┆ tur ┆ bal ┆ ern ┆ work   ┆ rsity ┆ Tech  ┆ r of  │\n",
       "│ --- ┆ Sec ┆ Sha ┆ est ┆ of  ┆ of  ┆ Exp ┆ of  ┆ e   ┆ Inn ┆ et  ┆ Covera ┆ Resea ┆ Produ ┆ Tech  │\n",
       "│ i64 ┆ tor ┆ re  ┆ men ┆ Pat ┆ Tec ┆ ort ┆ Sta ┆ Cap ┆ ova ┆ Pen ┆ ge (%) ┆ rch   ┆ cts   ┆ Worke │\n",
       "│     ┆ --- ┆ (%) ┆ t   ┆ ent ┆ h   ┆ s   ┆ rtu ┆ ita ┆ tio ┆ etr ┆ ---    ┆ Colla ┆ Expor ┆ rs    │\n",
       "│     ┆ str ┆ --- ┆ (in ┆ s   ┆ Com ┆ (in ┆ ps  ┆ l   ┆ n   ┆ ati ┆ f64    ┆ borat ┆ ted   ┆ ---   │\n",
       "│     ┆     ┆ f64 ┆ USD ┆ Fil ┆ pan ┆ USD ┆ --- ┆ Fun ┆ Ran ┆ on  ┆        ┆ …     ┆ ---   ┆ i64   │\n",
       "│     ┆     ┆     ┆ )   ┆ ed  ┆ ies ┆ )   ┆ i64 ┆ din ┆ kin ┆ (%) ┆        ┆ ---   ┆ str   ┆       │\n",
       "│     ┆     ┆     ┆ --- ┆ (An ┆ --- ┆ --- ┆     ┆ g   ┆ g   ┆ --- ┆        ┆ i64   ┆       ┆       │\n",
       "│     ┆     ┆     ┆ f64 ┆ nua ┆ i64 ┆ f64 ┆     ┆ (in ┆ --- ┆ f64 ┆        ┆       ┆       ┆       │\n",
       "│     ┆     ┆     ┆     ┆ …   ┆     ┆     ┆     ┆ US… ┆ i64 ┆     ┆        ┆       ┆       ┆       │\n",
       "│     ┆     ┆     ┆     ┆ --- ┆     ┆     ┆     ┆ --- ┆     ┆     ┆        ┆       ┆       ┆       │\n",
       "│     ┆     ┆     ┆     ┆ i64 ┆     ┆     ┆     ┆ f64 ┆     ┆     ┆        ┆       ┆       ┆       │\n",
       "╞═════╪═════╪═════╪═════╪═════╪═════╪═════╪═════╪═════╪═════╪═════╪════════╪═══════╪═══════╪═══════╡\n",
       "│ 200 ┆ Sof ┆ 22. ┆ 8.3 ┆ 141 ┆ 878 ┆ 3.5 ┆ 166 ┆ 4.5 ┆ 11  ┆ 57. ┆ 82.240 ┆ 50    ┆ Robot ┆ 62122 │\n",
       "│ 1   ┆ twa ┆ 279 ┆ 772 ┆ 5   ┆     ┆ 032 ┆     ┆ 027 ┆     ┆ 088 ┆ 272    ┆       ┆ s     ┆ 1     │\n",
       "│     ┆ re  ┆ 014 ┆ e10 ┆     ┆     ┆ e10 ┆     ┆ e10 ┆     ┆ 673 ┆        ┆       ┆       ┆       │\n",
       "│ 201 ┆ Sem ┆ 31. ┆ 3.5 ┆ 789 ┆ 364 ┆ 3.7 ┆ 217 ┆ 1.1 ┆ 14  ┆ 78. ┆ 48.552 ┆ 134   ┆ 5G    ┆ 43192 │\n",
       "│ 1   ┆ ico ┆ 899 ┆ 511 ┆ 9   ┆     ┆ 142 ┆     ┆ 474 ┆     ┆ 172 ┆ 982    ┆       ┆ Equip ┆ 8     │\n",
       "│     ┆ ndu ┆ 013 ┆ e10 ┆     ┆     ┆ e10 ┆     ┆ e10 ┆     ┆ 09  ┆        ┆       ┆ ment  ┆       │\n",
       "│     ┆ cto ┆     ┆     ┆     ┆     ┆     ┆     ┆     ┆     ┆     ┆        ┆       ┆       ┆       │\n",
       "│     ┆ r   ┆     ┆     ┆     ┆     ┆     ┆     ┆     ┆     ┆     ┆        ┆       ┆       ┆       │\n",
       "│ 200 ┆ Rob ┆ 33. ┆ 8.4 ┆ 374 ┆ 425 ┆ 1.5 ┆ 451 ┆ 5.4 ┆ 14  ┆ 55. ┆ 66.495 ┆ 58    ┆ Semic ┆ 55776 │\n",
       "│ 9   ┆ oti ┆ 574 ┆ 809 ┆ 9   ┆     ┆ 704 ┆     ┆ 989 ┆     ┆ 810 ┆ 286    ┆       ┆ onduc ┆       │\n",
       "│     ┆ cs  ┆ 466 ┆ e10 ┆     ┆     ┆ e11 ┆     ┆ e9  ┆     ┆ 668 ┆        ┆       ┆ tors  ┆       │\n",
       "│ 201 ┆ Clo ┆ 24. ┆ 2.2 ┆ 384 ┆ 62  ┆ 1.0 ┆ 264 ┆ 2.1 ┆ 10  ┆ 78. ┆ 28.807 ┆ 150   ┆ Robot ┆ 26785 │\n",
       "│ 9   ┆ ud  ┆ 904 ┆ 678 ┆ 1   ┆     ┆ 313 ┆     ┆ 863 ┆     ┆ 553 ┆ 251    ┆       ┆ s     ┆ 2     │\n",
       "│     ┆ Com ┆ 248 ┆ e10 ┆     ┆     ┆ e11 ┆     ┆ e10 ┆     ┆ 714 ┆        ┆       ┆       ┆       │\n",
       "│     ┆ put ┆     ┆     ┆     ┆     ┆     ┆     ┆     ┆     ┆     ┆        ┆       ┆       ┆       │\n",
       "│     ┆ ing ┆     ┆     ┆     ┆     ┆     ┆     ┆     ┆     ┆     ┆        ┆       ┆       ┆       │\n",
       "│ 200 ┆ Rob ┆ 46. ┆ 3.4 ┆ 170 ┆ 458 ┆ 1.1 ┆ 463 ┆ 4.0 ┆ 10  ┆ 70. ┆ 38.746 ┆ 74    ┆ AI    ┆ 65416 │\n",
       "│ 2   ┆ oti ┆ 975 ┆ 537 ┆ 4   ┆     ┆ 121 ┆     ┆ 983 ┆     ┆ 427 ┆ 268    ┆       ┆ Chips ┆ 2     │\n",
       "│     ┆ cs  ┆ 827 ┆ e10 ┆     ┆     ┆ e11 ┆     ┆ e10 ┆     ┆ 548 ┆        ┆       ┆       ┆       │\n",
       "└─────┴─────┴─────┴─────┴─────┴─────┴─────┴─────┴─────┴─────┴─────┴────────┴───────┴───────┴───────┘"
      ]
     },
     "execution_count": 250,
     "metadata": {},
     "output_type": "execute_result"
    }
   ],
   "source": [
    "df.select(cs.all() - cs.first()).head()"
   ]
  },
  {
   "cell_type": "code",
   "execution_count": 251,
   "metadata": {},
   "outputs": [
    {
     "data": {
      "text/html": [
       "<div><style>\n",
       ".dataframe > thead > tr,\n",
       ".dataframe > tbody > tr {\n",
       "  text-align: right;\n",
       "  white-space: pre-wrap;\n",
       "}\n",
       "</style>\n",
       "<small>shape: (5, 4)</small><table border=\"1\" class=\"dataframe\"><thead><tr><th>Number of Patents Filed (Annual)</th><th>Number of Tech Companies</th><th>Number of Startups</th><th>Number of Tech Workers</th></tr><tr><td>i64</td><td>i64</td><td>i64</td><td>i64</td></tr></thead><tbody><tr><td>1415</td><td>878</td><td>166</td><td>621221</td></tr><tr><td>7899</td><td>364</td><td>217</td><td>431928</td></tr><tr><td>3749</td><td>425</td><td>451</td><td>55776</td></tr><tr><td>3841</td><td>62</td><td>264</td><td>267852</td></tr><tr><td>1704</td><td>458</td><td>463</td><td>654162</td></tr></tbody></table></div>"
      ],
      "text/plain": [
       "shape: (5, 4)\n",
       "┌───────────────────────────────────┬────────────────┬────────────────────┬────────────────────────┐\n",
       "│ Number of Patents Filed (Annua…   ┆ Number of Tech ┆ Number of Startups ┆ Number of Tech Workers │\n",
       "│ ---                               ┆ Companies      ┆ ---                ┆ ---                    │\n",
       "│ i64                               ┆ ---            ┆ i64                ┆ i64                    │\n",
       "│                                   ┆ i64            ┆                    ┆                        │\n",
       "╞═══════════════════════════════════╪════════════════╪════════════════════╪════════════════════════╡\n",
       "│ 1415                              ┆ 878            ┆ 166                ┆ 621221                 │\n",
       "│ 7899                              ┆ 364            ┆ 217                ┆ 431928                 │\n",
       "│ 3749                              ┆ 425            ┆ 451                ┆ 55776                  │\n",
       "│ 3841                              ┆ 62             ┆ 264                ┆ 267852                 │\n",
       "│ 1704                              ┆ 458            ┆ 463                ┆ 654162                 │\n",
       "└───────────────────────────────────┴────────────────┴────────────────────┴────────────────────────┘"
      ]
     },
     "execution_count": 251,
     "metadata": {},
     "output_type": "execute_result"
    }
   ],
   "source": [
    "df.select(cs.contains(\"Number\")).head()"
   ]
  },
  {
   "cell_type": "code",
   "execution_count": 252,
   "metadata": {},
   "outputs": [
    {
     "data": {
      "text/html": [
       "<div><style>\n",
       ".dataframe > thead > tr,\n",
       ".dataframe > tbody > tr {\n",
       "  text-align: right;\n",
       "  white-space: pre-wrap;\n",
       "}\n",
       "</style>\n",
       "<small>shape: (5, 14)</small><table border=\"1\" class=\"dataframe\"><thead><tr><th>Tech Sector</th><th>Market Share (%)</th><th>R&amp;D Investment (in USD)</th><th>Number of Patents Filed (Annual)</th><th>Number of Tech Companies</th><th>Tech Exports (in USD)</th><th>Number of Startups</th><th>Venture Capital Funding (in USD)</th><th>Global Innovation Ranking</th><th>Internet Penetration (%)</th><th>5G Network Coverage (%)</th><th>University Research Collaborations</th><th>Top Tech Products Exported</th><th>Number of Tech Workers</th></tr><tr><td>str</td><td>f64</td><td>f64</td><td>i64</td><td>i64</td><td>f64</td><td>i64</td><td>f64</td><td>i64</td><td>f64</td><td>f64</td><td>i64</td><td>str</td><td>i64</td></tr></thead><tbody><tr><td>&quot;Software&quot;</td><td>22.279014</td><td>8.3772e10</td><td>1415</td><td>878</td><td>3.5032e10</td><td>166</td><td>4.5027e10</td><td>11</td><td>57.088673</td><td>82.240272</td><td>50</td><td>&quot;Robots&quot;</td><td>621221</td></tr><tr><td>&quot;Semiconductor&quot;</td><td>31.899013</td><td>3.5511e10</td><td>7899</td><td>364</td><td>3.7142e10</td><td>217</td><td>1.1474e10</td><td>14</td><td>78.17209</td><td>48.552982</td><td>134</td><td>&quot;5G Equipment&quot;</td><td>431928</td></tr><tr><td>&quot;Robotics&quot;</td><td>33.574466</td><td>8.4809e10</td><td>3749</td><td>425</td><td>1.5704e11</td><td>451</td><td>5.4989e9</td><td>14</td><td>55.810668</td><td>66.495286</td><td>58</td><td>&quot;Semiconductors&quot;</td><td>55776</td></tr><tr><td>&quot;Cloud Computing&quot;</td><td>24.904248</td><td>2.2678e10</td><td>3841</td><td>62</td><td>1.0313e11</td><td>264</td><td>2.1863e10</td><td>10</td><td>78.553714</td><td>28.807251</td><td>150</td><td>&quot;Robots&quot;</td><td>267852</td></tr><tr><td>&quot;Robotics&quot;</td><td>46.975827</td><td>3.4537e10</td><td>1704</td><td>458</td><td>1.1121e11</td><td>463</td><td>4.0983e10</td><td>10</td><td>70.427548</td><td>38.746268</td><td>74</td><td>&quot;AI Chips&quot;</td><td>654162</td></tr></tbody></table></div>"
      ],
      "text/plain": [
       "shape: (5, 14)\n",
       "┌─────┬─────┬─────┬─────┬─────┬─────┬─────┬────────┬───────┬───────┬───────┬───────┬───────┬───────┐\n",
       "│ Tec ┆ Mar ┆ R&D ┆ Num ┆ Num ┆ Tec ┆ Num ┆ Ventur ┆ Globa ┆ Inter ┆ 5G    ┆ Unive ┆ Top   ┆ Numbe │\n",
       "│ h   ┆ ket ┆ Inv ┆ ber ┆ ber ┆ h   ┆ ber ┆ e Capi ┆ l Inn ┆ net   ┆ Netwo ┆ rsity ┆ Tech  ┆ r of  │\n",
       "│ Sec ┆ Sha ┆ est ┆ of  ┆ of  ┆ Exp ┆ of  ┆ tal    ┆ ovati ┆ Penet ┆ rk    ┆ Resea ┆ Produ ┆ Tech  │\n",
       "│ tor ┆ re  ┆ men ┆ Pat ┆ Tec ┆ ort ┆ Sta ┆ Fundin ┆ on    ┆ ratio ┆ Cover ┆ rch   ┆ cts   ┆ Worke │\n",
       "│ --- ┆ (%) ┆ t   ┆ ent ┆ h   ┆ s   ┆ rtu ┆ g (in  ┆ Ranki ┆ n (%) ┆ age   ┆ Colla ┆ Expor ┆ rs    │\n",
       "│ str ┆ --- ┆ (in ┆ s   ┆ Com ┆ (in ┆ ps  ┆ US…    ┆ ng    ┆ ---   ┆ (%)   ┆ borat ┆ ted   ┆ ---   │\n",
       "│     ┆ f64 ┆ USD ┆ Fil ┆ pan ┆ USD ┆ --- ┆ ---    ┆ ---   ┆ f64   ┆ ---   ┆ …     ┆ ---   ┆ i64   │\n",
       "│     ┆     ┆ )   ┆ ed  ┆ ies ┆ )   ┆ i64 ┆ f64    ┆ i64   ┆       ┆ f64   ┆ ---   ┆ str   ┆       │\n",
       "│     ┆     ┆ --- ┆ (An ┆ --- ┆ --- ┆     ┆        ┆       ┆       ┆       ┆ i64   ┆       ┆       │\n",
       "│     ┆     ┆ f64 ┆ nua ┆ i64 ┆ f64 ┆     ┆        ┆       ┆       ┆       ┆       ┆       ┆       │\n",
       "│     ┆     ┆     ┆ …   ┆     ┆     ┆     ┆        ┆       ┆       ┆       ┆       ┆       ┆       │\n",
       "│     ┆     ┆     ┆ --- ┆     ┆     ┆     ┆        ┆       ┆       ┆       ┆       ┆       ┆       │\n",
       "│     ┆     ┆     ┆ i64 ┆     ┆     ┆     ┆        ┆       ┆       ┆       ┆       ┆       ┆       │\n",
       "╞═════╪═════╪═════╪═════╪═════╪═════╪═════╪════════╪═══════╪═══════╪═══════╪═══════╪═══════╪═══════╡\n",
       "│ Sof ┆ 22. ┆ 8.3 ┆ 141 ┆ 878 ┆ 3.5 ┆ 166 ┆ 4.5027 ┆ 11    ┆ 57.08 ┆ 82.24 ┆ 50    ┆ Robot ┆ 62122 │\n",
       "│ twa ┆ 279 ┆ 772 ┆ 5   ┆     ┆ 032 ┆     ┆ e10    ┆       ┆ 8673  ┆ 0272  ┆       ┆ s     ┆ 1     │\n",
       "│ re  ┆ 014 ┆ e10 ┆     ┆     ┆ e10 ┆     ┆        ┆       ┆       ┆       ┆       ┆       ┆       │\n",
       "│ Sem ┆ 31. ┆ 3.5 ┆ 789 ┆ 364 ┆ 3.7 ┆ 217 ┆ 1.1474 ┆ 14    ┆ 78.17 ┆ 48.55 ┆ 134   ┆ 5G    ┆ 43192 │\n",
       "│ ico ┆ 899 ┆ 511 ┆ 9   ┆     ┆ 142 ┆     ┆ e10    ┆       ┆ 209   ┆ 2982  ┆       ┆ Equip ┆ 8     │\n",
       "│ ndu ┆ 013 ┆ e10 ┆     ┆     ┆ e10 ┆     ┆        ┆       ┆       ┆       ┆       ┆ ment  ┆       │\n",
       "│ cto ┆     ┆     ┆     ┆     ┆     ┆     ┆        ┆       ┆       ┆       ┆       ┆       ┆       │\n",
       "│ r   ┆     ┆     ┆     ┆     ┆     ┆     ┆        ┆       ┆       ┆       ┆       ┆       ┆       │\n",
       "│ Rob ┆ 33. ┆ 8.4 ┆ 374 ┆ 425 ┆ 1.5 ┆ 451 ┆ 5.4989 ┆ 14    ┆ 55.81 ┆ 66.49 ┆ 58    ┆ Semic ┆ 55776 │\n",
       "│ oti ┆ 574 ┆ 809 ┆ 9   ┆     ┆ 704 ┆     ┆ e9     ┆       ┆ 0668  ┆ 5286  ┆       ┆ onduc ┆       │\n",
       "│ cs  ┆ 466 ┆ e10 ┆     ┆     ┆ e11 ┆     ┆        ┆       ┆       ┆       ┆       ┆ tors  ┆       │\n",
       "│ Clo ┆ 24. ┆ 2.2 ┆ 384 ┆ 62  ┆ 1.0 ┆ 264 ┆ 2.1863 ┆ 10    ┆ 78.55 ┆ 28.80 ┆ 150   ┆ Robot ┆ 26785 │\n",
       "│ ud  ┆ 904 ┆ 678 ┆ 1   ┆     ┆ 313 ┆     ┆ e10    ┆       ┆ 3714  ┆ 7251  ┆       ┆ s     ┆ 2     │\n",
       "│ Com ┆ 248 ┆ e10 ┆     ┆     ┆ e11 ┆     ┆        ┆       ┆       ┆       ┆       ┆       ┆       │\n",
       "│ put ┆     ┆     ┆     ┆     ┆     ┆     ┆        ┆       ┆       ┆       ┆       ┆       ┆       │\n",
       "│ ing ┆     ┆     ┆     ┆     ┆     ┆     ┆        ┆       ┆       ┆       ┆       ┆       ┆       │\n",
       "│ Rob ┆ 46. ┆ 3.4 ┆ 170 ┆ 458 ┆ 1.1 ┆ 463 ┆ 4.0983 ┆ 10    ┆ 70.42 ┆ 38.74 ┆ 74    ┆ AI    ┆ 65416 │\n",
       "│ oti ┆ 975 ┆ 537 ┆ 4   ┆     ┆ 121 ┆     ┆ e10    ┆       ┆ 7548  ┆ 6268  ┆       ┆ Chips ┆ 2     │\n",
       "│ cs  ┆ 827 ┆ e10 ┆     ┆     ┆ e11 ┆     ┆        ┆       ┆       ┆       ┆       ┆       ┆       │\n",
       "└─────┴─────┴─────┴─────┴─────┴─────┴─────┴────────┴───────┴───────┴───────┴───────┴───────┴───────┘"
      ]
     },
     "execution_count": 252,
     "metadata": {},
     "output_type": "execute_result"
    }
   ],
   "source": [
    "df.select(cs.matches(\".* .*\")).head() # Toda coluna que tiver um espaço no nome"
   ]
  },
  {
   "cell_type": "code",
   "execution_count": 253,
   "metadata": {},
   "outputs": [
    {
     "data": {
      "text/html": [
       "<div><style>\n",
       ".dataframe > thead > tr,\n",
       ".dataframe > tbody > tr {\n",
       "  text-align: right;\n",
       "  white-space: pre-wrap;\n",
       "}\n",
       "</style>\n",
       "<small>shape: (0, 0)</small><table border=\"1\" class=\"dataframe\"><thead><tr></tr><tr></tr></thead><tbody></tbody></table></div>"
      ],
      "text/plain": [
       "shape: (0, 0)\n",
       "┌┐\n",
       "╞╡\n",
       "└┘"
      ]
     },
     "execution_count": 253,
     "metadata": {},
     "output_type": "execute_result"
    }
   ],
   "source": [
    "df.select(cs.temporal())"
   ]
  },
  {
   "cell_type": "markdown",
   "metadata": {},
   "source": [
    "### Reading files with similar names"
   ]
  },
  {
   "cell_type": "code",
   "execution_count": 254,
   "metadata": {},
   "outputs": [],
   "source": [
    "# for i in range(5):\n",
    "#     df.write_csv(f\"data/data_teste_{i}.csv\")"
   ]
  },
  {
   "cell_type": "code",
   "execution_count": 329,
   "metadata": {},
   "outputs": [
    {
     "data": {
      "text/plain": [
       "(1000, 16)"
      ]
     },
     "execution_count": 329,
     "metadata": {},
     "output_type": "execute_result"
    }
   ],
   "source": [
    "df.shape"
   ]
  },
  {
   "cell_type": "code",
   "execution_count": 330,
   "metadata": {},
   "outputs": [
    {
     "data": {
      "text/plain": [
       "(5000, 16)"
      ]
     },
     "execution_count": 330,
     "metadata": {},
     "output_type": "execute_result"
    }
   ],
   "source": [
    "# Lendo diversos arquivos com nome igual\n",
    "df = pl.read_csv('data/data_teste_*.csv')\n",
    "df.shape"
   ]
  },
  {
   "cell_type": "markdown",
   "metadata": {},
   "source": [
    "### Downcast"
   ]
  },
  {
   "cell_type": "code",
   "execution_count": 256,
   "metadata": {},
   "outputs": [
    {
     "data": {
      "text/html": [
       "<div><style>\n",
       ".dataframe > thead > tr,\n",
       ".dataframe > tbody > tr {\n",
       "  text-align: right;\n",
       "  white-space: pre-wrap;\n",
       "}\n",
       "</style>\n",
       "<small>shape: (5, 16)</small><table border=\"1\" class=\"dataframe\"><thead><tr><th>Country</th><th>Year</th><th>Tech Sector</th><th>Market Share (%)</th><th>R&amp;D Investment (in USD)</th><th>Number of Patents Filed (Annual)</th><th>Number of Tech Companies</th><th>Tech Exports (in USD)</th><th>Number of Startups</th><th>Venture Capital Funding (in USD)</th><th>Global Innovation Ranking</th><th>Internet Penetration (%)</th><th>5G Network Coverage (%)</th><th>University Research Collaborations</th><th>Top Tech Products Exported</th><th>Number of Tech Workers</th></tr><tr><td>str</td><td>i16</td><td>str</td><td>f64</td><td>f64</td><td>i64</td><td>i64</td><td>f64</td><td>i16</td><td>f64</td><td>i64</td><td>f64</td><td>f64</td><td>i64</td><td>str</td><td>i64</td></tr></thead><tbody><tr><td>&quot;China&quot;</td><td>2001</td><td>&quot;Software&quot;</td><td>22.279014</td><td>8.3772e10</td><td>1415</td><td>878</td><td>3.5032e10</td><td>166</td><td>4.5027e10</td><td>11</td><td>57.088673</td><td>82.240272</td><td>50</td><td>&quot;Robots&quot;</td><td>621221</td></tr><tr><td>&quot;Japan&quot;</td><td>2011</td><td>&quot;Semiconductor&quot;</td><td>31.899013</td><td>3.5511e10</td><td>7899</td><td>364</td><td>3.7142e10</td><td>217</td><td>1.1474e10</td><td>14</td><td>78.17209</td><td>48.552982</td><td>134</td><td>&quot;5G Equipment&quot;</td><td>431928</td></tr><tr><td>&quot;Japan&quot;</td><td>2009</td><td>&quot;Robotics&quot;</td><td>33.574466</td><td>8.4809e10</td><td>3749</td><td>425</td><td>1.5704e11</td><td>451</td><td>5.4989e9</td><td>14</td><td>55.810668</td><td>66.495286</td><td>58</td><td>&quot;Semiconductors&quot;</td><td>55776</td></tr><tr><td>&quot;Japan&quot;</td><td>2019</td><td>&quot;Cloud Computing&quot;</td><td>24.904248</td><td>2.2678e10</td><td>3841</td><td>62</td><td>1.0313e11</td><td>264</td><td>2.1863e10</td><td>10</td><td>78.553714</td><td>28.807251</td><td>150</td><td>&quot;Robots&quot;</td><td>267852</td></tr><tr><td>&quot;China&quot;</td><td>2002</td><td>&quot;Robotics&quot;</td><td>46.975827</td><td>3.4537e10</td><td>1704</td><td>458</td><td>1.1121e11</td><td>463</td><td>4.0983e10</td><td>10</td><td>70.427548</td><td>38.746268</td><td>74</td><td>&quot;AI Chips&quot;</td><td>654162</td></tr></tbody></table></div>"
      ],
      "text/plain": [
       "shape: (5, 16)\n",
       "┌─────┬─────┬─────┬─────┬─────┬─────┬─────┬─────┬─────┬─────┬─────┬─────┬─────┬─────┬─────┬────────┐\n",
       "│ Cou ┆ Yea ┆ Tec ┆ Mar ┆ R&D ┆ Num ┆ Num ┆ Tec ┆ Num ┆ Ven ┆ Glo ┆ Int ┆ 5G  ┆ Uni ┆ Top ┆ Number │\n",
       "│ ntr ┆ r   ┆ h   ┆ ket ┆ Inv ┆ ber ┆ ber ┆ h   ┆ ber ┆ tur ┆ bal ┆ ern ┆ Net ┆ ver ┆ Tec ┆ of     │\n",
       "│ y   ┆ --- ┆ Sec ┆ Sha ┆ est ┆ of  ┆ of  ┆ Exp ┆ of  ┆ e   ┆ Inn ┆ et  ┆ wor ┆ sit ┆ h   ┆ Tech   │\n",
       "│ --- ┆ i16 ┆ tor ┆ re  ┆ men ┆ Pat ┆ Tec ┆ ort ┆ Sta ┆ Cap ┆ ova ┆ Pen ┆ k   ┆ y   ┆ Pro ┆ Worker │\n",
       "│ str ┆     ┆ --- ┆ (%) ┆ t   ┆ ent ┆ h   ┆ s   ┆ rtu ┆ ita ┆ tio ┆ etr ┆ Cov ┆ Res ┆ duc ┆ s      │\n",
       "│     ┆     ┆ str ┆ --- ┆ (in ┆ s   ┆ Com ┆ (in ┆ ps  ┆ l   ┆ n   ┆ ati ┆ era ┆ ear ┆ ts  ┆ ---    │\n",
       "│     ┆     ┆     ┆ f64 ┆ USD ┆ Fil ┆ pan ┆ USD ┆ --- ┆ Fun ┆ Ran ┆ on  ┆ ge  ┆ ch  ┆ Exp ┆ i64    │\n",
       "│     ┆     ┆     ┆     ┆ )   ┆ ed  ┆ ies ┆ )   ┆ i16 ┆ din ┆ kin ┆ (%) ┆ (%) ┆ Col ┆ ort ┆        │\n",
       "│     ┆     ┆     ┆     ┆ --- ┆ (An ┆ --- ┆ --- ┆     ┆ g   ┆ g   ┆ --- ┆ --- ┆ lab ┆ ed  ┆        │\n",
       "│     ┆     ┆     ┆     ┆ f64 ┆ nua ┆ i64 ┆ f64 ┆     ┆ (in ┆ --- ┆ f64 ┆ f64 ┆ ora ┆ --- ┆        │\n",
       "│     ┆     ┆     ┆     ┆     ┆ …   ┆     ┆     ┆     ┆ US… ┆ i64 ┆     ┆     ┆ t…  ┆ str ┆        │\n",
       "│     ┆     ┆     ┆     ┆     ┆ --- ┆     ┆     ┆     ┆ --- ┆     ┆     ┆     ┆ --- ┆     ┆        │\n",
       "│     ┆     ┆     ┆     ┆     ┆ i64 ┆     ┆     ┆     ┆ f64 ┆     ┆     ┆     ┆ i64 ┆     ┆        │\n",
       "╞═════╪═════╪═════╪═════╪═════╪═════╪═════╪═════╪═════╪═════╪═════╪═════╪═════╪═════╪═════╪════════╡\n",
       "│ Chi ┆ 200 ┆ Sof ┆ 22. ┆ 8.3 ┆ 141 ┆ 878 ┆ 3.5 ┆ 166 ┆ 4.5 ┆ 11  ┆ 57. ┆ 82. ┆ 50  ┆ Rob ┆ 621221 │\n",
       "│ na  ┆ 1   ┆ twa ┆ 279 ┆ 772 ┆ 5   ┆     ┆ 032 ┆     ┆ 027 ┆     ┆ 088 ┆ 240 ┆     ┆ ots ┆        │\n",
       "│     ┆     ┆ re  ┆ 014 ┆ e10 ┆     ┆     ┆ e10 ┆     ┆ e10 ┆     ┆ 673 ┆ 272 ┆     ┆     ┆        │\n",
       "│ Jap ┆ 201 ┆ Sem ┆ 31. ┆ 3.5 ┆ 789 ┆ 364 ┆ 3.7 ┆ 217 ┆ 1.1 ┆ 14  ┆ 78. ┆ 48. ┆ 134 ┆ 5G  ┆ 431928 │\n",
       "│ an  ┆ 1   ┆ ico ┆ 899 ┆ 511 ┆ 9   ┆     ┆ 142 ┆     ┆ 474 ┆     ┆ 172 ┆ 552 ┆     ┆ Equ ┆        │\n",
       "│     ┆     ┆ ndu ┆ 013 ┆ e10 ┆     ┆     ┆ e10 ┆     ┆ e10 ┆     ┆ 09  ┆ 982 ┆     ┆ ipm ┆        │\n",
       "│     ┆     ┆ cto ┆     ┆     ┆     ┆     ┆     ┆     ┆     ┆     ┆     ┆     ┆     ┆ ent ┆        │\n",
       "│     ┆     ┆ r   ┆     ┆     ┆     ┆     ┆     ┆     ┆     ┆     ┆     ┆     ┆     ┆     ┆        │\n",
       "│ Jap ┆ 200 ┆ Rob ┆ 33. ┆ 8.4 ┆ 374 ┆ 425 ┆ 1.5 ┆ 451 ┆ 5.4 ┆ 14  ┆ 55. ┆ 66. ┆ 58  ┆ Sem ┆ 55776  │\n",
       "│ an  ┆ 9   ┆ oti ┆ 574 ┆ 809 ┆ 9   ┆     ┆ 704 ┆     ┆ 989 ┆     ┆ 810 ┆ 495 ┆     ┆ ico ┆        │\n",
       "│     ┆     ┆ cs  ┆ 466 ┆ e10 ┆     ┆     ┆ e11 ┆     ┆ e9  ┆     ┆ 668 ┆ 286 ┆     ┆ ndu ┆        │\n",
       "│     ┆     ┆     ┆     ┆     ┆     ┆     ┆     ┆     ┆     ┆     ┆     ┆     ┆     ┆ cto ┆        │\n",
       "│     ┆     ┆     ┆     ┆     ┆     ┆     ┆     ┆     ┆     ┆     ┆     ┆     ┆     ┆ rs  ┆        │\n",
       "│ Jap ┆ 201 ┆ Clo ┆ 24. ┆ 2.2 ┆ 384 ┆ 62  ┆ 1.0 ┆ 264 ┆ 2.1 ┆ 10  ┆ 78. ┆ 28. ┆ 150 ┆ Rob ┆ 267852 │\n",
       "│ an  ┆ 9   ┆ ud  ┆ 904 ┆ 678 ┆ 1   ┆     ┆ 313 ┆     ┆ 863 ┆     ┆ 553 ┆ 807 ┆     ┆ ots ┆        │\n",
       "│     ┆     ┆ Com ┆ 248 ┆ e10 ┆     ┆     ┆ e11 ┆     ┆ e10 ┆     ┆ 714 ┆ 251 ┆     ┆     ┆        │\n",
       "│     ┆     ┆ put ┆     ┆     ┆     ┆     ┆     ┆     ┆     ┆     ┆     ┆     ┆     ┆     ┆        │\n",
       "│     ┆     ┆ ing ┆     ┆     ┆     ┆     ┆     ┆     ┆     ┆     ┆     ┆     ┆     ┆     ┆        │\n",
       "│ Chi ┆ 200 ┆ Rob ┆ 46. ┆ 3.4 ┆ 170 ┆ 458 ┆ 1.1 ┆ 463 ┆ 4.0 ┆ 10  ┆ 70. ┆ 38. ┆ 74  ┆ AI  ┆ 654162 │\n",
       "│ na  ┆ 2   ┆ oti ┆ 975 ┆ 537 ┆ 4   ┆     ┆ 121 ┆     ┆ 983 ┆     ┆ 427 ┆ 746 ┆     ┆ Chi ┆        │\n",
       "│     ┆     ┆ cs  ┆ 827 ┆ e10 ┆     ┆     ┆ e11 ┆     ┆ e10 ┆     ┆ 548 ┆ 268 ┆     ┆ ps  ┆        │\n",
       "└─────┴─────┴─────┴─────┴─────┴─────┴─────┴─────┴─────┴─────┴─────┴─────┴─────┴─────┴─────┴────────┘"
      ]
     },
     "execution_count": 256,
     "metadata": {},
     "output_type": "execute_result"
    }
   ],
   "source": [
    "# downcast\n",
    "# to improve the memory usage, downcast is recommended\n",
    "df.with_columns(\n",
    "    pl.col('Year').cast(pl.Int16).alias('Year'),\n",
    "    pl.col('Number of Startups').cast(pl.Int16).alias('Number of Startups')\n",
    ").head()"
   ]
  },
  {
   "cell_type": "code",
   "execution_count": 257,
   "metadata": {},
   "outputs": [
    {
     "data": {
      "text/html": [
       "<div><style>\n",
       ".dataframe > thead > tr,\n",
       ".dataframe > tbody > tr {\n",
       "  text-align: right;\n",
       "  white-space: pre-wrap;\n",
       "}\n",
       "</style>\n",
       "<small>shape: (5, 16)</small><table border=\"1\" class=\"dataframe\"><thead><tr><th>Country</th><th>Year</th><th>Tech Sector</th><th>Market Share (%)</th><th>R&amp;D Investment (in USD)</th><th>Number of Patents Filed (Annual)</th><th>Number of Tech Companies</th><th>Tech Exports (in USD)</th><th>Number of Startups</th><th>Venture Capital Funding (in USD)</th><th>Global Innovation Ranking</th><th>Internet Penetration (%)</th><th>5G Network Coverage (%)</th><th>University Research Collaborations</th><th>Top Tech Products Exported</th><th>Number of Tech Workers</th></tr><tr><td>str</td><td>i16</td><td>str</td><td>f32</td><td>f32</td><td>i16</td><td>i16</td><td>f32</td><td>i16</td><td>f32</td><td>i8</td><td>f32</td><td>f32</td><td>i16</td><td>str</td><td>i32</td></tr></thead><tbody><tr><td>&quot;China&quot;</td><td>2001</td><td>&quot;Software&quot;</td><td>22.279015</td><td>8.3772e10</td><td>1415</td><td>878</td><td>3.5032e10</td><td>166</td><td>4.5027e10</td><td>11</td><td>57.088673</td><td>82.240273</td><td>50</td><td>&quot;Robots&quot;</td><td>621221</td></tr><tr><td>&quot;Japan&quot;</td><td>2011</td><td>&quot;Semiconductor&quot;</td><td>31.899012</td><td>3.5511e10</td><td>7899</td><td>364</td><td>3.7142e10</td><td>217</td><td>1.1474e10</td><td>14</td><td>78.172089</td><td>48.552982</td><td>134</td><td>&quot;5G Equipment&quot;</td><td>431928</td></tr><tr><td>&quot;Japan&quot;</td><td>2009</td><td>&quot;Robotics&quot;</td><td>33.574467</td><td>8.4809e10</td><td>3749</td><td>425</td><td>1.5704e11</td><td>451</td><td>5.4989e9</td><td>14</td><td>55.810669</td><td>66.495285</td><td>58</td><td>&quot;Semiconductors&quot;</td><td>55776</td></tr><tr><td>&quot;Japan&quot;</td><td>2019</td><td>&quot;Cloud Computing&quot;</td><td>24.904249</td><td>2.2678e10</td><td>3841</td><td>62</td><td>1.0313e11</td><td>264</td><td>2.1863e10</td><td>10</td><td>78.553711</td><td>28.807251</td><td>150</td><td>&quot;Robots&quot;</td><td>267852</td></tr><tr><td>&quot;China&quot;</td><td>2002</td><td>&quot;Robotics&quot;</td><td>46.975826</td><td>3.4537e10</td><td>1704</td><td>458</td><td>1.1121e11</td><td>463</td><td>4.0983e10</td><td>10</td><td>70.427551</td><td>38.746269</td><td>74</td><td>&quot;AI Chips&quot;</td><td>654162</td></tr></tbody></table></div>"
      ],
      "text/plain": [
       "shape: (5, 16)\n",
       "┌─────┬─────┬─────┬─────┬─────┬─────┬─────┬─────┬─────┬─────┬─────┬─────┬─────┬─────┬─────┬────────┐\n",
       "│ Cou ┆ Yea ┆ Tec ┆ Mar ┆ R&D ┆ Num ┆ Num ┆ Tec ┆ Num ┆ Ven ┆ Glo ┆ Int ┆ 5G  ┆ Uni ┆ Top ┆ Number │\n",
       "│ ntr ┆ r   ┆ h   ┆ ket ┆ Inv ┆ ber ┆ ber ┆ h   ┆ ber ┆ tur ┆ bal ┆ ern ┆ Net ┆ ver ┆ Tec ┆ of     │\n",
       "│ y   ┆ --- ┆ Sec ┆ Sha ┆ est ┆ of  ┆ of  ┆ Exp ┆ of  ┆ e   ┆ Inn ┆ et  ┆ wor ┆ sit ┆ h   ┆ Tech   │\n",
       "│ --- ┆ i16 ┆ tor ┆ re  ┆ men ┆ Pat ┆ Tec ┆ ort ┆ Sta ┆ Cap ┆ ova ┆ Pen ┆ k   ┆ y   ┆ Pro ┆ Worker │\n",
       "│ str ┆     ┆ --- ┆ (%) ┆ t   ┆ ent ┆ h   ┆ s   ┆ rtu ┆ ita ┆ tio ┆ etr ┆ Cov ┆ Res ┆ duc ┆ s      │\n",
       "│     ┆     ┆ str ┆ --- ┆ (in ┆ s   ┆ Com ┆ (in ┆ ps  ┆ l   ┆ n   ┆ ati ┆ era ┆ ear ┆ ts  ┆ ---    │\n",
       "│     ┆     ┆     ┆ f32 ┆ USD ┆ Fil ┆ pan ┆ USD ┆ --- ┆ Fun ┆ Ran ┆ on  ┆ ge  ┆ ch  ┆ Exp ┆ i32    │\n",
       "│     ┆     ┆     ┆     ┆ )   ┆ ed  ┆ ies ┆ )   ┆ i16 ┆ din ┆ kin ┆ (%) ┆ (%) ┆ Col ┆ ort ┆        │\n",
       "│     ┆     ┆     ┆     ┆ --- ┆ (An ┆ --- ┆ --- ┆     ┆ g   ┆ g   ┆ --- ┆ --- ┆ lab ┆ ed  ┆        │\n",
       "│     ┆     ┆     ┆     ┆ f32 ┆ nua ┆ i16 ┆ f32 ┆     ┆ (in ┆ --- ┆ f32 ┆ f32 ┆ ora ┆ --- ┆        │\n",
       "│     ┆     ┆     ┆     ┆     ┆ …   ┆     ┆     ┆     ┆ US… ┆ i8  ┆     ┆     ┆ t…  ┆ str ┆        │\n",
       "│     ┆     ┆     ┆     ┆     ┆ --- ┆     ┆     ┆     ┆ --- ┆     ┆     ┆     ┆ --- ┆     ┆        │\n",
       "│     ┆     ┆     ┆     ┆     ┆ i16 ┆     ┆     ┆     ┆ f32 ┆     ┆     ┆     ┆ i16 ┆     ┆        │\n",
       "╞═════╪═════╪═════╪═════╪═════╪═════╪═════╪═════╪═════╪═════╪═════╪═════╪═════╪═════╪═════╪════════╡\n",
       "│ Chi ┆ 200 ┆ Sof ┆ 22. ┆ 8.3 ┆ 141 ┆ 878 ┆ 3.5 ┆ 166 ┆ 4.5 ┆ 11  ┆ 57. ┆ 82. ┆ 50  ┆ Rob ┆ 621221 │\n",
       "│ na  ┆ 1   ┆ twa ┆ 279 ┆ 772 ┆ 5   ┆     ┆ 032 ┆     ┆ 027 ┆     ┆ 088 ┆ 240 ┆     ┆ ots ┆        │\n",
       "│     ┆     ┆ re  ┆ 015 ┆ e10 ┆     ┆     ┆ e10 ┆     ┆ e10 ┆     ┆ 673 ┆ 273 ┆     ┆     ┆        │\n",
       "│ Jap ┆ 201 ┆ Sem ┆ 31. ┆ 3.5 ┆ 789 ┆ 364 ┆ 3.7 ┆ 217 ┆ 1.1 ┆ 14  ┆ 78. ┆ 48. ┆ 134 ┆ 5G  ┆ 431928 │\n",
       "│ an  ┆ 1   ┆ ico ┆ 899 ┆ 511 ┆ 9   ┆     ┆ 142 ┆     ┆ 474 ┆     ┆ 172 ┆ 552 ┆     ┆ Equ ┆        │\n",
       "│     ┆     ┆ ndu ┆ 012 ┆ e10 ┆     ┆     ┆ e10 ┆     ┆ e10 ┆     ┆ 089 ┆ 982 ┆     ┆ ipm ┆        │\n",
       "│     ┆     ┆ cto ┆     ┆     ┆     ┆     ┆     ┆     ┆     ┆     ┆     ┆     ┆     ┆ ent ┆        │\n",
       "│     ┆     ┆ r   ┆     ┆     ┆     ┆     ┆     ┆     ┆     ┆     ┆     ┆     ┆     ┆     ┆        │\n",
       "│ Jap ┆ 200 ┆ Rob ┆ 33. ┆ 8.4 ┆ 374 ┆ 425 ┆ 1.5 ┆ 451 ┆ 5.4 ┆ 14  ┆ 55. ┆ 66. ┆ 58  ┆ Sem ┆ 55776  │\n",
       "│ an  ┆ 9   ┆ oti ┆ 574 ┆ 809 ┆ 9   ┆     ┆ 704 ┆     ┆ 989 ┆     ┆ 810 ┆ 495 ┆     ┆ ico ┆        │\n",
       "│     ┆     ┆ cs  ┆ 467 ┆ e10 ┆     ┆     ┆ e11 ┆     ┆ e9  ┆     ┆ 669 ┆ 285 ┆     ┆ ndu ┆        │\n",
       "│     ┆     ┆     ┆     ┆     ┆     ┆     ┆     ┆     ┆     ┆     ┆     ┆     ┆     ┆ cto ┆        │\n",
       "│     ┆     ┆     ┆     ┆     ┆     ┆     ┆     ┆     ┆     ┆     ┆     ┆     ┆     ┆ rs  ┆        │\n",
       "│ Jap ┆ 201 ┆ Clo ┆ 24. ┆ 2.2 ┆ 384 ┆ 62  ┆ 1.0 ┆ 264 ┆ 2.1 ┆ 10  ┆ 78. ┆ 28. ┆ 150 ┆ Rob ┆ 267852 │\n",
       "│ an  ┆ 9   ┆ ud  ┆ 904 ┆ 678 ┆ 1   ┆     ┆ 313 ┆     ┆ 863 ┆     ┆ 553 ┆ 807 ┆     ┆ ots ┆        │\n",
       "│     ┆     ┆ Com ┆ 249 ┆ e10 ┆     ┆     ┆ e11 ┆     ┆ e10 ┆     ┆ 711 ┆ 251 ┆     ┆     ┆        │\n",
       "│     ┆     ┆ put ┆     ┆     ┆     ┆     ┆     ┆     ┆     ┆     ┆     ┆     ┆     ┆     ┆        │\n",
       "│     ┆     ┆ ing ┆     ┆     ┆     ┆     ┆     ┆     ┆     ┆     ┆     ┆     ┆     ┆     ┆        │\n",
       "│ Chi ┆ 200 ┆ Rob ┆ 46. ┆ 3.4 ┆ 170 ┆ 458 ┆ 1.1 ┆ 463 ┆ 4.0 ┆ 10  ┆ 70. ┆ 38. ┆ 74  ┆ AI  ┆ 654162 │\n",
       "│ na  ┆ 2   ┆ oti ┆ 975 ┆ 537 ┆ 4   ┆     ┆ 121 ┆     ┆ 983 ┆     ┆ 427 ┆ 746 ┆     ┆ Chi ┆        │\n",
       "│     ┆     ┆ cs  ┆ 826 ┆ e10 ┆     ┆     ┆ e11 ┆     ┆ e10 ┆     ┆ 551 ┆ 269 ┆     ┆ ps  ┆        │\n",
       "└─────┴─────┴─────┴─────┴─────┴─────┴─────┴─────┴─────┴─────┴─────┴─────┴─────┴─────┴─────┴────────┘"
      ]
     },
     "execution_count": 257,
     "metadata": {},
     "output_type": "execute_result"
    }
   ],
   "source": [
    "df.with_columns(\n",
    "    pl.all().shrink_dtype()\n",
    ").head()"
   ]
  },
  {
   "cell_type": "code",
   "execution_count": 355,
   "metadata": {},
   "outputs": [
    {
     "data": {
      "text/html": [
       "<div><style>\n",
       ".dataframe > thead > tr,\n",
       ".dataframe > tbody > tr {\n",
       "  text-align: right;\n",
       "  white-space: pre-wrap;\n",
       "}\n",
       "</style>\n",
       "<small>shape: (5, 5)</small><table border=\"1\" class=\"dataframe\"><thead><tr><th>customer_id</th><th>customer_unique_id</th><th>customer_zip_code_prefix</th><th>customer_city</th><th>customer_state</th></tr><tr><td>str</td><td>str</td><td>i64</td><td>str</td><td>str</td></tr></thead><tbody><tr><td>&quot;06b8999e2fba1a1fbc88172c00ba8b…</td><td>&quot;861eff4711a542e4b93843c6dd7feb…</td><td>14409</td><td>&quot;franca&quot;</td><td>&quot;SP&quot;</td></tr><tr><td>&quot;18955e83d337fd6b2def6b18a428ac…</td><td>&quot;290c77bc529b7ac935b93aa66c333d…</td><td>9790</td><td>&quot;sao bernardo do campo&quot;</td><td>&quot;SP&quot;</td></tr><tr><td>&quot;4e7b3e00288586ebd08712fdd0374a…</td><td>&quot;060e732b5b29e8181a18229c7b0b2b…</td><td>1151</td><td>&quot;sao paulo&quot;</td><td>&quot;SP&quot;</td></tr><tr><td>&quot;b2b6027bc5c5109e529d4dc6358b12…</td><td>&quot;259dac757896d24d7702b9acbbff3f…</td><td>8775</td><td>&quot;mogi das cruzes&quot;</td><td>&quot;SP&quot;</td></tr><tr><td>&quot;4f2d8ab171c80ec8364f7c12e35b23…</td><td>&quot;345ecd01c38d18a9036ed96c73b8d0…</td><td>13056</td><td>&quot;campinas&quot;</td><td>&quot;SP&quot;</td></tr></tbody></table></div>"
      ],
      "text/plain": [
       "shape: (5, 5)\n",
       "┌────────────────────┬────────────────────┬───────────────────┬───────────────────┬────────────────┐\n",
       "│ customer_id        ┆ customer_unique_id ┆ customer_zip_code ┆ customer_city     ┆ customer_state │\n",
       "│ ---                ┆ ---                ┆ _prefix           ┆ ---               ┆ ---            │\n",
       "│ str                ┆ str                ┆ ---               ┆ str               ┆ str            │\n",
       "│                    ┆                    ┆ i64               ┆                   ┆                │\n",
       "╞════════════════════╪════════════════════╪═══════════════════╪═══════════════════╪════════════════╡\n",
       "│ 06b8999e2fba1a1fbc ┆ 861eff4711a542e4b9 ┆ 14409             ┆ franca            ┆ SP             │\n",
       "│ 88172c00ba8b…      ┆ 3843c6dd7feb…      ┆                   ┆                   ┆                │\n",
       "│ 18955e83d337fd6b2d ┆ 290c77bc529b7ac935 ┆ 9790              ┆ sao bernardo do   ┆ SP             │\n",
       "│ ef6b18a428ac…      ┆ b93aa66c333d…      ┆                   ┆ campo             ┆                │\n",
       "│ 4e7b3e00288586ebd0 ┆ 060e732b5b29e8181a ┆ 1151              ┆ sao paulo         ┆ SP             │\n",
       "│ 8712fdd0374a…      ┆ 18229c7b0b2b…      ┆                   ┆                   ┆                │\n",
       "│ b2b6027bc5c5109e52 ┆ 259dac757896d24d77 ┆ 8775              ┆ mogi das cruzes   ┆ SP             │\n",
       "│ 9d4dc6358b12…      ┆ 02b9acbbff3f…      ┆                   ┆                   ┆                │\n",
       "│ 4f2d8ab171c80ec836 ┆ 345ecd01c38d18a903 ┆ 13056             ┆ campinas          ┆ SP             │\n",
       "│ 4f7c12e35b23…      ┆ 6ed96c73b8d0…      ┆                   ┆                   ┆                │\n",
       "└────────────────────┴────────────────────┴───────────────────┴───────────────────┴────────────────┘"
      ]
     },
     "execution_count": 355,
     "metadata": {},
     "output_type": "execute_result"
    }
   ],
   "source": [
    "customers.head()"
   ]
  },
  {
   "cell_type": "code",
   "execution_count": 356,
   "metadata": {},
   "outputs": [
    {
     "data": {
      "text/html": [
       "<div><style>\n",
       ".dataframe > thead > tr,\n",
       ".dataframe > tbody > tr {\n",
       "  text-align: right;\n",
       "  white-space: pre-wrap;\n",
       "}\n",
       "</style>\n",
       "<small>shape: (5, 5)</small><table border=\"1\" class=\"dataframe\"><thead><tr><th>customer_id</th><th>customer_unique_id</th><th>customer_zip_code_prefix</th><th>customer_city</th><th>customer_state</th></tr><tr><td>str</td><td>str</td><td>i32</td><td>str</td><td>cat</td></tr></thead><tbody><tr><td>&quot;06b8999e2fba1a1fbc88172c00ba8b…</td><td>&quot;861eff4711a542e4b93843c6dd7feb…</td><td>14409</td><td>&quot;franca&quot;</td><td>&quot;SP&quot;</td></tr><tr><td>&quot;18955e83d337fd6b2def6b18a428ac…</td><td>&quot;290c77bc529b7ac935b93aa66c333d…</td><td>9790</td><td>&quot;sao bernardo do campo&quot;</td><td>&quot;SP&quot;</td></tr><tr><td>&quot;4e7b3e00288586ebd08712fdd0374a…</td><td>&quot;060e732b5b29e8181a18229c7b0b2b…</td><td>1151</td><td>&quot;sao paulo&quot;</td><td>&quot;SP&quot;</td></tr><tr><td>&quot;b2b6027bc5c5109e529d4dc6358b12…</td><td>&quot;259dac757896d24d7702b9acbbff3f…</td><td>8775</td><td>&quot;mogi das cruzes&quot;</td><td>&quot;SP&quot;</td></tr><tr><td>&quot;4f2d8ab171c80ec8364f7c12e35b23…</td><td>&quot;345ecd01c38d18a9036ed96c73b8d0…</td><td>13056</td><td>&quot;campinas&quot;</td><td>&quot;SP&quot;</td></tr></tbody></table></div>"
      ],
      "text/plain": [
       "shape: (5, 5)\n",
       "┌────────────────────┬────────────────────┬───────────────────┬───────────────────┬────────────────┐\n",
       "│ customer_id        ┆ customer_unique_id ┆ customer_zip_code ┆ customer_city     ┆ customer_state │\n",
       "│ ---                ┆ ---                ┆ _prefix           ┆ ---               ┆ ---            │\n",
       "│ str                ┆ str                ┆ ---               ┆ str               ┆ cat            │\n",
       "│                    ┆                    ┆ i32               ┆                   ┆                │\n",
       "╞════════════════════╪════════════════════╪═══════════════════╪═══════════════════╪════════════════╡\n",
       "│ 06b8999e2fba1a1fbc ┆ 861eff4711a542e4b9 ┆ 14409             ┆ franca            ┆ SP             │\n",
       "│ 88172c00ba8b…      ┆ 3843c6dd7feb…      ┆                   ┆                   ┆                │\n",
       "│ 18955e83d337fd6b2d ┆ 290c77bc529b7ac935 ┆ 9790              ┆ sao bernardo do   ┆ SP             │\n",
       "│ ef6b18a428ac…      ┆ b93aa66c333d…      ┆                   ┆ campo             ┆                │\n",
       "│ 4e7b3e00288586ebd0 ┆ 060e732b5b29e8181a ┆ 1151              ┆ sao paulo         ┆ SP             │\n",
       "│ 8712fdd0374a…      ┆ 18229c7b0b2b…      ┆                   ┆                   ┆                │\n",
       "│ b2b6027bc5c5109e52 ┆ 259dac757896d24d77 ┆ 8775              ┆ mogi das cruzes   ┆ SP             │\n",
       "│ 9d4dc6358b12…      ┆ 02b9acbbff3f…      ┆                   ┆                   ┆                │\n",
       "│ 4f2d8ab171c80ec836 ┆ 345ecd01c38d18a903 ┆ 13056             ┆ campinas          ┆ SP             │\n",
       "│ 4f7c12e35b23…      ┆ 6ed96c73b8d0…      ┆                   ┆                   ┆                │\n",
       "└────────────────────┴────────────────────┴───────────────────┴───────────────────┴────────────────┘"
      ]
     },
     "execution_count": 356,
     "metadata": {},
     "output_type": "execute_result"
    }
   ],
   "source": [
    "customers.with_columns(\n",
    "    pl.col([\"customer_id\", \"customer_unique_id\", \"customer_zip_code_prefix\", \"customer_city\"]).shrink_dtype(),\n",
    "    pl.col('customer_state').cast(pl.Categorical)\n",
    ").head()"
   ]
  },
  {
   "cell_type": "markdown",
   "metadata": {},
   "source": [
    "### Datetime Conversion\n",
    "#### Parametro ``Strict = False`` trasforma o valor que não pode ser transformado em ``null`` ao invés de retornar erro caso não seja possível converter algum valor"
   ]
  },
  {
   "cell_type": "code",
   "execution_count": 258,
   "metadata": {},
   "outputs": [
    {
     "data": {
      "text/html": [
       "<div><style>\n",
       ".dataframe > thead > tr,\n",
       ".dataframe > tbody > tr {\n",
       "  text-align: right;\n",
       "  white-space: pre-wrap;\n",
       "}\n",
       "</style>\n",
       "<small>shape: (7, 9)</small><table border=\"1\" class=\"dataframe\"><thead><tr><th>order_id</th><th>customer_id</th><th>order_status</th><th>order_purchase_timestamp</th><th>order_approved_at</th><th>order_delivered_carrier_date</th><th>order_delivered_customer_date</th><th>order_estimated_delivery_date</th><th>date_to_int</th></tr><tr><td>str</td><td>str</td><td>str</td><td>str</td><td>date</td><td>str</td><td>str</td><td>str</td><td>i16</td></tr></thead><tbody><tr><td>&quot;e481f51cbdc54678b7cc49136f2d6a…</td><td>&quot;9ef432eb6251297304e76186b10a92…</td><td>&quot;delivered&quot;</td><td>&quot;2017-10-02 10:56:33&quot;</td><td>2017-10-02</td><td>&quot;2017-10-04 19:55:00&quot;</td><td>&quot;2017-10-10 21:25:13&quot;</td><td>&quot;2017-10-18 00:00:00&quot;</td><td>17441</td></tr><tr><td>&quot;53cdb2fc8bc7dce0b6741e21502734…</td><td>&quot;b0830fb4747a6c6d20dea0b8c802d7…</td><td>&quot;delivered&quot;</td><td>&quot;2018-07-24 20:41:37&quot;</td><td>2018-07-26</td><td>&quot;2018-07-26 14:31:00&quot;</td><td>&quot;2018-08-07 15:27:45&quot;</td><td>&quot;2018-08-13 00:00:00&quot;</td><td>17736</td></tr><tr><td>&quot;47770eb9100c2d0c44946d9cf07ec6…</td><td>&quot;41ce2a54c0b03bf3443c3d931a3670…</td><td>&quot;delivered&quot;</td><td>&quot;2018-08-08 08:38:49&quot;</td><td>2018-08-08</td><td>&quot;2018-08-08 13:50:00&quot;</td><td>&quot;2018-08-17 18:06:29&quot;</td><td>&quot;2018-09-04 00:00:00&quot;</td><td>17751</td></tr><tr><td>&quot;949d5b44dbf5de918fe9c16f97b45f…</td><td>&quot;f88197465ea7920adcdbec7375364d…</td><td>&quot;delivered&quot;</td><td>&quot;2017-11-18 19:28:06&quot;</td><td>2017-11-18</td><td>&quot;2017-11-22 13:39:59&quot;</td><td>&quot;2017-12-02 00:28:42&quot;</td><td>&quot;2017-12-15 00:00:00&quot;</td><td>17488</td></tr><tr><td>&quot;ad21c59c0840e6cb83a9ceb5573f81…</td><td>&quot;8ab97904e6daea8866dbdbc4fb7aad…</td><td>&quot;delivered&quot;</td><td>&quot;2018-02-13 21:18:39&quot;</td><td>2018-02-13</td><td>&quot;2018-02-14 19:46:34&quot;</td><td>&quot;2018-02-16 18:17:02&quot;</td><td>&quot;2018-02-26 00:00:00&quot;</td><td>17575</td></tr><tr><td>&quot;a4591c265e18cb1dcee52889e2d8ac…</td><td>&quot;503740e9ca751ccdda7ba28e9ab8f6…</td><td>&quot;delivered&quot;</td><td>&quot;2017-07-09 21:57:05&quot;</td><td>2017-07-09</td><td>&quot;2017-07-11 14:58:04&quot;</td><td>&quot;2017-07-26 10:57:55&quot;</td><td>&quot;2017-08-01 00:00:00&quot;</td><td>17356</td></tr><tr><td>&quot;136cce7faa42fdb2cefd53fdc79a60…</td><td>&quot;ed0271e0b7da060a393796590e7b73…</td><td>&quot;invoiced&quot;</td><td>&quot;2017-04-11 12:22:08&quot;</td><td>2017-04-13</td><td>null</td><td>null</td><td>&quot;2017-05-09 00:00:00&quot;</td><td>17267</td></tr></tbody></table></div>"
      ],
      "text/plain": [
       "shape: (7, 9)\n",
       "┌──────────┬──────────┬──────────┬──────────┬──────────┬──────────┬──────────┬──────────┬──────────┐\n",
       "│ order_id ┆ customer ┆ order_st ┆ order_pu ┆ order_ap ┆ order_de ┆ order_de ┆ order_es ┆ date_to_ │\n",
       "│ ---      ┆ _id      ┆ atus     ┆ rchase_t ┆ proved_a ┆ livered_ ┆ livered_ ┆ timated_ ┆ int      │\n",
       "│ str      ┆ ---      ┆ ---      ┆ imestamp ┆ t        ┆ carrier_ ┆ customer ┆ delivery ┆ ---      │\n",
       "│          ┆ str      ┆ str      ┆ ---      ┆ ---      ┆ date     ┆ _date    ┆ _date    ┆ i16      │\n",
       "│          ┆          ┆          ┆ str      ┆ date     ┆ ---      ┆ ---      ┆ ---      ┆          │\n",
       "│          ┆          ┆          ┆          ┆          ┆ str      ┆ str      ┆ str      ┆          │\n",
       "╞══════════╪══════════╪══════════╪══════════╪══════════╪══════════╪══════════╪══════════╪══════════╡\n",
       "│ e481f51c ┆ 9ef432eb ┆ delivere ┆ 2017-10- ┆ 2017-10- ┆ 2017-10- ┆ 2017-10- ┆ 2017-10- ┆ 17441    │\n",
       "│ bdc54678 ┆ 62512973 ┆ d        ┆ 02       ┆ 02       ┆ 04       ┆ 10       ┆ 18       ┆          │\n",
       "│ b7cc4913 ┆ 04e76186 ┆          ┆ 10:56:33 ┆          ┆ 19:55:00 ┆ 21:25:13 ┆ 00:00:00 ┆          │\n",
       "│ 6f2d6a…  ┆ b10a92…  ┆          ┆          ┆          ┆          ┆          ┆          ┆          │\n",
       "│ 53cdb2fc ┆ b0830fb4 ┆ delivere ┆ 2018-07- ┆ 2018-07- ┆ 2018-07- ┆ 2018-08- ┆ 2018-08- ┆ 17736    │\n",
       "│ 8bc7dce0 ┆ 747a6c6d ┆ d        ┆ 24       ┆ 26       ┆ 26       ┆ 07       ┆ 13       ┆          │\n",
       "│ b6741e21 ┆ 20dea0b8 ┆          ┆ 20:41:37 ┆          ┆ 14:31:00 ┆ 15:27:45 ┆ 00:00:00 ┆          │\n",
       "│ 502734…  ┆ c802d7…  ┆          ┆          ┆          ┆          ┆          ┆          ┆          │\n",
       "│ 47770eb9 ┆ 41ce2a54 ┆ delivere ┆ 2018-08- ┆ 2018-08- ┆ 2018-08- ┆ 2018-08- ┆ 2018-09- ┆ 17751    │\n",
       "│ 100c2d0c ┆ c0b03bf3 ┆ d        ┆ 08       ┆ 08       ┆ 08       ┆ 17       ┆ 04       ┆          │\n",
       "│ 44946d9c ┆ 443c3d93 ┆          ┆ 08:38:49 ┆          ┆ 13:50:00 ┆ 18:06:29 ┆ 00:00:00 ┆          │\n",
       "│ f07ec6…  ┆ 1a3670…  ┆          ┆          ┆          ┆          ┆          ┆          ┆          │\n",
       "│ 949d5b44 ┆ f8819746 ┆ delivere ┆ 2017-11- ┆ 2017-11- ┆ 2017-11- ┆ 2017-12- ┆ 2017-12- ┆ 17488    │\n",
       "│ dbf5de91 ┆ 5ea7920a ┆ d        ┆ 18       ┆ 18       ┆ 22       ┆ 02       ┆ 15       ┆          │\n",
       "│ 8fe9c16f ┆ dcdbec73 ┆          ┆ 19:28:06 ┆          ┆ 13:39:59 ┆ 00:28:42 ┆ 00:00:00 ┆          │\n",
       "│ 97b45f…  ┆ 75364d…  ┆          ┆          ┆          ┆          ┆          ┆          ┆          │\n",
       "│ ad21c59c ┆ 8ab97904 ┆ delivere ┆ 2018-02- ┆ 2018-02- ┆ 2018-02- ┆ 2018-02- ┆ 2018-02- ┆ 17575    │\n",
       "│ 0840e6cb ┆ e6daea88 ┆ d        ┆ 13       ┆ 13       ┆ 14       ┆ 16       ┆ 26       ┆          │\n",
       "│ 83a9ceb5 ┆ 66dbdbc4 ┆          ┆ 21:18:39 ┆          ┆ 19:46:34 ┆ 18:17:02 ┆ 00:00:00 ┆          │\n",
       "│ 573f81…  ┆ fb7aad…  ┆          ┆          ┆          ┆          ┆          ┆          ┆          │\n",
       "│ a4591c26 ┆ 503740e9 ┆ delivere ┆ 2017-07- ┆ 2017-07- ┆ 2017-07- ┆ 2017-07- ┆ 2017-08- ┆ 17356    │\n",
       "│ 5e18cb1d ┆ ca751ccd ┆ d        ┆ 09       ┆ 09       ┆ 11       ┆ 26       ┆ 01       ┆          │\n",
       "│ cee52889 ┆ da7ba28e ┆          ┆ 21:57:05 ┆          ┆ 14:58:04 ┆ 10:57:55 ┆ 00:00:00 ┆          │\n",
       "│ e2d8ac…  ┆ 9ab8f6…  ┆          ┆          ┆          ┆          ┆          ┆          ┆          │\n",
       "│ 136cce7f ┆ ed0271e0 ┆ invoiced ┆ 2017-04- ┆ 2017-04- ┆ null     ┆ null     ┆ 2017-05- ┆ 17267    │\n",
       "│ aa42fdb2 ┆ b7da060a ┆          ┆ 11       ┆ 13       ┆          ┆          ┆ 09       ┆          │\n",
       "│ cefd53fd ┆ 39379659 ┆          ┆ 12:22:08 ┆          ┆          ┆          ┆ 00:00:00 ┆          │\n",
       "│ c79a60…  ┆ 0e7b73…  ┆          ┆          ┆          ┆          ┆          ┆          ┆          │\n",
       "└──────────┴──────────┴──────────┴──────────┴──────────┴──────────┴──────────┴──────────┴──────────┘"
      ]
     },
     "execution_count": 258,
     "metadata": {},
     "output_type": "execute_result"
    }
   ],
   "source": [
    "orders.with_columns(\n",
    "    pl.col('order_approved_at').str.slice(0,10).cast(pl.Date),\n",
    "    pl.col('order_purchase_timestamp').str.slice(0,10).cast(pl.Date).cast(pl.Int16).alias(\"date_to_int\"),\n",
    ").head(7)"
   ]
  },
  {
   "cell_type": "code",
   "execution_count": 259,
   "metadata": {},
   "outputs": [],
   "source": [
    "orders = orders.with_columns(\n",
    "    pl.col('order_purchase_timestamp').str.strptime(pl.Date, format=\"%Y-%m-%d %H:%M:%S\").alias(\"as\")\n",
    ")"
   ]
  },
  {
   "cell_type": "markdown",
   "metadata": {},
   "source": [
    "1) ^: Indica o início da string.\n",
    "\n",
    "2) .*: Corresponde a qualquer sequência de caracteres (ou nenhuma), exceto uma quebra de linha. Esse padrão \"consome\" qualquer coisa no início da string até o ponto onde encontra \"order\".\n",
    "\n",
    "3) (order): Corresponde especificamente à palavra \"order\" e a coloca em um grupo de captura. O grupo de captura pode ser útil se você quiser apenas extrair a palavra \"order\" da string.\n",
    "\n",
    "4) .*: Após \"order\", novamente corresponde a qualquer sequência de caracteres (ou nenhuma) até o final da string.\n",
    "\n",
    "5) $: Indica o final da string."
   ]
  },
  {
   "cell_type": "markdown",
   "metadata": {},
   "source": [
    "### Filtering Column names"
   ]
  },
  {
   "cell_type": "code",
   "execution_count": 260,
   "metadata": {},
   "outputs": [
    {
     "data": {
      "text/html": [
       "<div><style>\n",
       ".dataframe > thead > tr,\n",
       ".dataframe > tbody > tr {\n",
       "  text-align: right;\n",
       "  white-space: pre-wrap;\n",
       "}\n",
       "</style>\n",
       "<small>shape: (0, 0)</small><table border=\"1\" class=\"dataframe\"><thead><tr></tr><tr></tr></thead><tbody></tbody></table></div>"
      ],
      "text/plain": [
       "shape: (0, 0)\n",
       "┌┐\n",
       "╞╡\n",
       "└┘"
      ]
     },
     "execution_count": 260,
     "metadata": {},
     "output_type": "execute_result"
    }
   ],
   "source": [
    "df.select(\n",
    "    pl.col(\"^.*(order).*$\")\n",
    ").head()"
   ]
  },
  {
   "cell_type": "markdown",
   "metadata": {},
   "source": [
    "### Temporal Wrangling with CS"
   ]
  },
  {
   "cell_type": "code",
   "execution_count": 261,
   "metadata": {},
   "outputs": [
    {
     "data": {
      "text/html": [
       "<div><style>\n",
       ".dataframe > thead > tr,\n",
       ".dataframe > tbody > tr {\n",
       "  text-align: right;\n",
       "  white-space: pre-wrap;\n",
       "}\n",
       "</style>\n",
       "<small>shape: (5, 1)</small><table border=\"1\" class=\"dataframe\"><thead><tr><th>as</th></tr><tr><td>date</td></tr></thead><tbody><tr><td>2017-10-02</td></tr><tr><td>2018-07-24</td></tr><tr><td>2018-08-08</td></tr><tr><td>2017-11-18</td></tr><tr><td>2018-02-13</td></tr></tbody></table></div>"
      ],
      "text/plain": [
       "shape: (5, 1)\n",
       "┌────────────┐\n",
       "│ as         │\n",
       "│ ---        │\n",
       "│ date       │\n",
       "╞════════════╡\n",
       "│ 2017-10-02 │\n",
       "│ 2018-07-24 │\n",
       "│ 2018-08-08 │\n",
       "│ 2017-11-18 │\n",
       "│ 2018-02-13 │\n",
       "└────────────┘"
      ]
     },
     "execution_count": 261,
     "metadata": {},
     "output_type": "execute_result"
    }
   ],
   "source": [
    "orders.select(\n",
    "    cs.temporal()\n",
    ").head()"
   ]
  },
  {
   "cell_type": "code",
   "execution_count": 262,
   "metadata": {},
   "outputs": [
    {
     "data": {
      "text/html": [
       "<div><style>\n",
       ".dataframe > thead > tr,\n",
       ".dataframe > tbody > tr {\n",
       "  text-align: right;\n",
       "  white-space: pre-wrap;\n",
       "}\n",
       "</style>\n",
       "<small>shape: (5, 1)</small><table border=\"1\" class=\"dataframe\"><thead><tr><th>as</th></tr><tr><td>str</td></tr></thead><tbody><tr><td>&quot;2017-10-02&quot;</td></tr><tr><td>&quot;2018-07-24&quot;</td></tr><tr><td>&quot;2018-08-08&quot;</td></tr><tr><td>&quot;2017-11-18&quot;</td></tr><tr><td>&quot;2018-02-13&quot;</td></tr></tbody></table></div>"
      ],
      "text/plain": [
       "shape: (5, 1)\n",
       "┌────────────┐\n",
       "│ as         │\n",
       "│ ---        │\n",
       "│ str        │\n",
       "╞════════════╡\n",
       "│ 2017-10-02 │\n",
       "│ 2018-07-24 │\n",
       "│ 2018-08-08 │\n",
       "│ 2017-11-18 │\n",
       "│ 2018-02-13 │\n",
       "└────────────┘"
      ]
     },
     "execution_count": 262,
     "metadata": {},
     "output_type": "execute_result"
    }
   ],
   "source": [
    "orders.select(\n",
    "    cs.temporal().as_expr().dt.to_string(\"%Y-%m-%d\")\n",
    ").head()"
   ]
  },
  {
   "cell_type": "markdown",
   "metadata": {},
   "source": [
    "### Dealing with Strings"
   ]
  },
  {
   "cell_type": "code",
   "execution_count": 276,
   "metadata": {},
   "outputs": [
    {
     "data": {
      "text/html": [
       "<div><style>\n",
       ".dataframe > thead > tr,\n",
       ".dataframe > tbody > tr {\n",
       "  text-align: right;\n",
       "  white-space: pre-wrap;\n",
       "}\n",
       "</style>\n",
       "<small>shape: (5, 7)</small><table border=\"1\" class=\"dataframe\"><thead><tr><th>customer_id</th><th>customer_unique_id</th><th>customer_zip_code_prefix</th><th>customer_city</th><th>customer_state</th><th>customer_city_byte_count</th><th>customer_city_len_chars</th></tr><tr><td>str</td><td>str</td><td>i64</td><td>str</td><td>str</td><td>u32</td><td>u32</td></tr></thead><tbody><tr><td>&quot;06b8999e2fba1a1fbc88172c00ba8b…</td><td>&quot;861eff4711a542e4b93843c6dd7feb…</td><td>14409</td><td>&quot;franca&quot;</td><td>&quot;SP&quot;</td><td>6</td><td>6</td></tr><tr><td>&quot;18955e83d337fd6b2def6b18a428ac…</td><td>&quot;290c77bc529b7ac935b93aa66c333d…</td><td>9790</td><td>&quot;sao bernardo do campo&quot;</td><td>&quot;SP&quot;</td><td>21</td><td>21</td></tr><tr><td>&quot;4e7b3e00288586ebd08712fdd0374a…</td><td>&quot;060e732b5b29e8181a18229c7b0b2b…</td><td>1151</td><td>&quot;sao paulo&quot;</td><td>&quot;SP&quot;</td><td>9</td><td>9</td></tr><tr><td>&quot;b2b6027bc5c5109e529d4dc6358b12…</td><td>&quot;259dac757896d24d7702b9acbbff3f…</td><td>8775</td><td>&quot;mogi das cruzes&quot;</td><td>&quot;SP&quot;</td><td>15</td><td>15</td></tr><tr><td>&quot;4f2d8ab171c80ec8364f7c12e35b23…</td><td>&quot;345ecd01c38d18a9036ed96c73b8d0…</td><td>13056</td><td>&quot;campinas&quot;</td><td>&quot;SP&quot;</td><td>8</td><td>8</td></tr></tbody></table></div>"
      ],
      "text/plain": [
       "shape: (5, 7)\n",
       "┌──────────────┬─────────────┬─────────────┬─────────────┬─────────────┬─────────────┬─────────────┐\n",
       "│ customer_id  ┆ customer_un ┆ customer_zi ┆ customer_ci ┆ customer_st ┆ customer_ci ┆ customer_ci │\n",
       "│ ---          ┆ ique_id     ┆ p_code_pref ┆ ty          ┆ ate         ┆ ty_byte_cou ┆ ty_len_char │\n",
       "│ str          ┆ ---         ┆ ix          ┆ ---         ┆ ---         ┆ nt          ┆ s           │\n",
       "│              ┆ str         ┆ ---         ┆ str         ┆ str         ┆ ---         ┆ ---         │\n",
       "│              ┆             ┆ i64         ┆             ┆             ┆ u32         ┆ u32         │\n",
       "╞══════════════╪═════════════╪═════════════╪═════════════╪═════════════╪═════════════╪═════════════╡\n",
       "│ 06b8999e2fba ┆ 861eff4711a ┆ 14409       ┆ franca      ┆ SP          ┆ 6           ┆ 6           │\n",
       "│ 1a1fbc88172c ┆ 542e4b93843 ┆             ┆             ┆             ┆             ┆             │\n",
       "│ 00ba8b…      ┆ c6dd7feb…   ┆             ┆             ┆             ┆             ┆             │\n",
       "│ 18955e83d337 ┆ 290c77bc529 ┆ 9790        ┆ sao         ┆ SP          ┆ 21          ┆ 21          │\n",
       "│ fd6b2def6b18 ┆ b7ac935b93a ┆             ┆ bernardo do ┆             ┆             ┆             │\n",
       "│ a428ac…      ┆ a66c333d…   ┆             ┆ campo       ┆             ┆             ┆             │\n",
       "│ 4e7b3e002885 ┆ 060e732b5b2 ┆ 1151        ┆ sao paulo   ┆ SP          ┆ 9           ┆ 9           │\n",
       "│ 86ebd08712fd ┆ 9e8181a1822 ┆             ┆             ┆             ┆             ┆             │\n",
       "│ d0374a…      ┆ 9c7b0b2b…   ┆             ┆             ┆             ┆             ┆             │\n",
       "│ b2b6027bc5c5 ┆ 259dac75789 ┆ 8775        ┆ mogi das    ┆ SP          ┆ 15          ┆ 15          │\n",
       "│ 109e529d4dc6 ┆ 6d24d7702b9 ┆             ┆ cruzes      ┆             ┆             ┆             │\n",
       "│ 358b12…      ┆ acbbff3f…   ┆             ┆             ┆             ┆             ┆             │\n",
       "│ 4f2d8ab171c8 ┆ 345ecd01c38 ┆ 13056       ┆ campinas    ┆ SP          ┆ 8           ┆ 8           │\n",
       "│ 0ec8364f7c12 ┆ d18a9036ed9 ┆             ┆             ┆             ┆             ┆             │\n",
       "│ e35b23…      ┆ 6c73b8d0…   ┆             ┆             ┆             ┆             ┆             │\n",
       "└──────────────┴─────────────┴─────────────┴─────────────┴─────────────┴─────────────┴─────────────┘"
      ]
     },
     "execution_count": 276,
     "metadata": {},
     "output_type": "execute_result"
    }
   ],
   "source": [
    "customers.select(\n",
    "    pl.all(),\n",
    "    pl.col('customer_city').str.len_bytes().alias('customer_city_byte_count'),\n",
    "    pl.col('customer_city').str.len_chars().alias('customer_city_len_chars'),\n",
    ").head()"
   ]
  },
  {
   "cell_type": "code",
   "execution_count": 290,
   "metadata": {},
   "outputs": [
    {
     "data": {
      "text/html": [
       "<div><style>\n",
       ".dataframe > thead > tr,\n",
       ".dataframe > tbody > tr {\n",
       "  text-align: right;\n",
       "  white-space: pre-wrap;\n",
       "}\n",
       "</style>\n",
       "<small>shape: (5, 5)</small><table border=\"1\" class=\"dataframe\"><thead><tr><th>customer_id</th><th>customer_unique_id</th><th>customer_zip_code_prefix</th><th>customer_city</th><th>customer_state</th></tr><tr><td>str</td><td>str</td><td>i64</td><td>str</td><td>str</td></tr></thead><tbody><tr><td>&quot;06b8999e2fba1a1fbc88172c00ba8b…</td><td>&quot;861eff4711a542e4b93843c6dd7feb…</td><td>14409</td><td>&quot;franca&quot;</td><td>&quot;SP&quot;</td></tr><tr><td>&quot;8392e3d4cfeec63f2a8bfea68bf1f9…</td><td>&quot;fd2d5fdb84e65fa6b54b98b0e2df56…</td><td>59655</td><td>&quot;areia branca&quot;</td><td>&quot;RN&quot;</td></tr><tr><td>&quot;b9885472fa562ddc1cb5333a42b654…</td><td>&quot;2767ebe1fedf70562aa588a37a2308…</td><td>14401</td><td>&quot;franca&quot;</td><td>&quot;SP&quot;</td></tr><tr><td>&quot;5dca924cc99eea2dc5ba40d11ec5dd…</td><td>&quot;2761fee7f378f0a8d7682d8a3fa07a…</td><td>14409</td><td>&quot;franca&quot;</td><td>&quot;SP&quot;</td></tr><tr><td>&quot;de3fa59dd658cd8b47a1634125047c…</td><td>&quot;fa87e5558d2010f19641ca49363d5a…</td><td>14405</td><td>&quot;franca&quot;</td><td>&quot;SP&quot;</td></tr></tbody></table></div>"
      ],
      "text/plain": [
       "shape: (5, 5)\n",
       "┌─────────────────────┬─────────────────────┬─────────────────────┬───────────────┬────────────────┐\n",
       "│ customer_id         ┆ customer_unique_id  ┆ customer_zip_code_p ┆ customer_city ┆ customer_state │\n",
       "│ ---                 ┆ ---                 ┆ refix               ┆ ---           ┆ ---            │\n",
       "│ str                 ┆ str                 ┆ ---                 ┆ str           ┆ str            │\n",
       "│                     ┆                     ┆ i64                 ┆               ┆                │\n",
       "╞═════════════════════╪═════════════════════╪═════════════════════╪═══════════════╪════════════════╡\n",
       "│ 06b8999e2fba1a1fbc8 ┆ 861eff4711a542e4b93 ┆ 14409               ┆ franca        ┆ SP             │\n",
       "│ 8172c00ba8b…        ┆ 843c6dd7feb…        ┆                     ┆               ┆                │\n",
       "│ 8392e3d4cfeec63f2a8 ┆ fd2d5fdb84e65fa6b54 ┆ 59655               ┆ areia branca  ┆ RN             │\n",
       "│ bfea68bf1f9…        ┆ b98b0e2df56…        ┆                     ┆               ┆                │\n",
       "│ b9885472fa562ddc1cb ┆ 2767ebe1fedf70562aa ┆ 14401               ┆ franca        ┆ SP             │\n",
       "│ 5333a42b654…        ┆ 588a37a2308…        ┆                     ┆               ┆                │\n",
       "│ 5dca924cc99eea2dc5b ┆ 2761fee7f378f0a8d76 ┆ 14409               ┆ franca        ┆ SP             │\n",
       "│ a40d11ec5dd…        ┆ 82d8a3fa07a…        ┆                     ┆               ┆                │\n",
       "│ de3fa59dd658cd8b47a ┆ fa87e5558d2010f1964 ┆ 14405               ┆ franca        ┆ SP             │\n",
       "│ 1634125047c…        ┆ 1ca49363d5a…        ┆                     ┆               ┆                │\n",
       "└─────────────────────┴─────────────────────┴─────────────────────┴───────────────┴────────────────┘"
      ]
     },
     "execution_count": 290,
     "metadata": {},
     "output_type": "execute_result"
    }
   ],
   "source": [
    "customers.filter(\n",
    "    pl.col('customer_city').str.contains(\"ranca\")\n",
    ").head()"
   ]
  },
  {
   "cell_type": "code",
   "execution_count": 291,
   "metadata": {},
   "outputs": [
    {
     "data": {
      "text/html": [
       "<div><style>\n",
       ".dataframe > thead > tr,\n",
       ".dataframe > tbody > tr {\n",
       "  text-align: right;\n",
       "  white-space: pre-wrap;\n",
       "}\n",
       "</style>\n",
       "<small>shape: (5, 5)</small><table border=\"1\" class=\"dataframe\"><thead><tr><th>customer_id</th><th>customer_unique_id</th><th>customer_zip_code_prefix</th><th>customer_city</th><th>customer_state</th></tr><tr><td>str</td><td>str</td><td>i64</td><td>str</td><td>str</td></tr></thead><tbody><tr><td>&quot;06b8999e2fba1a1fbc88172c00ba8b…</td><td>&quot;861eff4711a542e4b93843c6dd7feb…</td><td>14409</td><td>&quot;franca&quot;</td><td>&quot;SP&quot;</td></tr><tr><td>&quot;8392e3d4cfeec63f2a8bfea68bf1f9…</td><td>&quot;fd2d5fdb84e65fa6b54b98b0e2df56…</td><td>59655</td><td>&quot;areia branca&quot;</td><td>&quot;RN&quot;</td></tr><tr><td>&quot;b9885472fa562ddc1cb5333a42b654…</td><td>&quot;2767ebe1fedf70562aa588a37a2308…</td><td>14401</td><td>&quot;franca&quot;</td><td>&quot;SP&quot;</td></tr><tr><td>&quot;5dca924cc99eea2dc5ba40d11ec5dd…</td><td>&quot;2761fee7f378f0a8d7682d8a3fa07a…</td><td>14409</td><td>&quot;franca&quot;</td><td>&quot;SP&quot;</td></tr><tr><td>&quot;de3fa59dd658cd8b47a1634125047c…</td><td>&quot;fa87e5558d2010f19641ca49363d5a…</td><td>14405</td><td>&quot;franca&quot;</td><td>&quot;SP&quot;</td></tr></tbody></table></div>"
      ],
      "text/plain": [
       "shape: (5, 5)\n",
       "┌─────────────────────┬─────────────────────┬─────────────────────┬───────────────┬────────────────┐\n",
       "│ customer_id         ┆ customer_unique_id  ┆ customer_zip_code_p ┆ customer_city ┆ customer_state │\n",
       "│ ---                 ┆ ---                 ┆ refix               ┆ ---           ┆ ---            │\n",
       "│ str                 ┆ str                 ┆ ---                 ┆ str           ┆ str            │\n",
       "│                     ┆                     ┆ i64                 ┆               ┆                │\n",
       "╞═════════════════════╪═════════════════════╪═════════════════════╪═══════════════╪════════════════╡\n",
       "│ 06b8999e2fba1a1fbc8 ┆ 861eff4711a542e4b93 ┆ 14409               ┆ franca        ┆ SP             │\n",
       "│ 8172c00ba8b…        ┆ 843c6dd7feb…        ┆                     ┆               ┆                │\n",
       "│ 8392e3d4cfeec63f2a8 ┆ fd2d5fdb84e65fa6b54 ┆ 59655               ┆ areia branca  ┆ RN             │\n",
       "│ bfea68bf1f9…        ┆ b98b0e2df56…        ┆                     ┆               ┆                │\n",
       "│ b9885472fa562ddc1cb ┆ 2767ebe1fedf70562aa ┆ 14401               ┆ franca        ┆ SP             │\n",
       "│ 5333a42b654…        ┆ 588a37a2308…        ┆                     ┆               ┆                │\n",
       "│ 5dca924cc99eea2dc5b ┆ 2761fee7f378f0a8d76 ┆ 14409               ┆ franca        ┆ SP             │\n",
       "│ a40d11ec5dd…        ┆ 82d8a3fa07a…        ┆                     ┆               ┆                │\n",
       "│ de3fa59dd658cd8b47a ┆ fa87e5558d2010f1964 ┆ 14405               ┆ franca        ┆ SP             │\n",
       "│ 1634125047c…        ┆ 1ca49363d5a…        ┆                     ┆               ┆                │\n",
       "└─────────────────────┴─────────────────────┴─────────────────────┴───────────────┴────────────────┘"
      ]
     },
     "execution_count": 291,
     "metadata": {},
     "output_type": "execute_result"
    }
   ],
   "source": [
    "customers.filter(\n",
    "    pl.col('customer_city').str.contains(\".*ranca\")\n",
    ").head()"
   ]
  },
  {
   "cell_type": "code",
   "execution_count": 292,
   "metadata": {},
   "outputs": [
    {
     "data": {
      "text/html": [
       "<div><style>\n",
       ".dataframe > thead > tr,\n",
       ".dataframe > tbody > tr {\n",
       "  text-align: right;\n",
       "  white-space: pre-wrap;\n",
       "}\n",
       "</style>\n",
       "<small>shape: (5, 5)</small><table border=\"1\" class=\"dataframe\"><thead><tr><th>customer_id</th><th>customer_unique_id</th><th>customer_zip_code_prefix</th><th>customer_city</th><th>customer_state</th></tr><tr><td>str</td><td>str</td><td>i64</td><td>str</td><td>str</td></tr></thead><tbody><tr><td>&quot;06b8999e2fba1a1fbc88172c00ba8b…</td><td>&quot;861eff4711a542e4b93843c6dd7feb…</td><td>14409</td><td>&quot;franca&quot;</td><td>&quot;SP&quot;</td></tr><tr><td>&quot;5adf08e34b2e993982a47070956c5c…</td><td>&quot;1175e95fb47ddff9de6b2b06188f7e…</td><td>81560</td><td>&quot;curitiba&quot;</td><td>&quot;PR&quot;</td></tr><tr><td>&quot;237098a64674ae89babdc426746260…</td><td>&quot;4390ddbb6276a66ff1736a6710205d…</td><td>82820</td><td>&quot;curitiba&quot;</td><td>&quot;PR&quot;</td></tr><tr><td>&quot;469634941c27cd844170935a3cf60b…</td><td>&quot;ef07ba9aa5226f77264ffa5762b228…</td><td>81750</td><td>&quot;curitiba&quot;</td><td>&quot;PR&quot;</td></tr><tr><td>&quot;aa0fbd830c89acc3d79d311ff43d09…</td><td>&quot;eabd76f3506262b0db0dda1d48394a…</td><td>80050</td><td>&quot;curitiba&quot;</td><td>&quot;PR&quot;</td></tr></tbody></table></div>"
      ],
      "text/plain": [
       "shape: (5, 5)\n",
       "┌─────────────────────┬─────────────────────┬─────────────────────┬───────────────┬────────────────┐\n",
       "│ customer_id         ┆ customer_unique_id  ┆ customer_zip_code_p ┆ customer_city ┆ customer_state │\n",
       "│ ---                 ┆ ---                 ┆ refix               ┆ ---           ┆ ---            │\n",
       "│ str                 ┆ str                 ┆ ---                 ┆ str           ┆ str            │\n",
       "│                     ┆                     ┆ i64                 ┆               ┆                │\n",
       "╞═════════════════════╪═════════════════════╪═════════════════════╪═══════════════╪════════════════╡\n",
       "│ 06b8999e2fba1a1fbc8 ┆ 861eff4711a542e4b93 ┆ 14409               ┆ franca        ┆ SP             │\n",
       "│ 8172c00ba8b…        ┆ 843c6dd7feb…        ┆                     ┆               ┆                │\n",
       "│ 5adf08e34b2e993982a ┆ 1175e95fb47ddff9de6 ┆ 81560               ┆ curitiba      ┆ PR             │\n",
       "│ 47070956c5c…        ┆ b2b06188f7e…        ┆                     ┆               ┆                │\n",
       "│ 237098a64674ae89bab ┆ 4390ddbb6276a66ff17 ┆ 82820               ┆ curitiba      ┆ PR             │\n",
       "│ dc426746260…        ┆ 36a6710205d…        ┆                     ┆               ┆                │\n",
       "│ 469634941c27cd84417 ┆ ef07ba9aa5226f77264 ┆ 81750               ┆ curitiba      ┆ PR             │\n",
       "│ 0935a3cf60b…        ┆ ffa5762b228…        ┆                     ┆               ┆                │\n",
       "│ aa0fbd830c89acc3d79 ┆ eabd76f3506262b0db0 ┆ 80050               ┆ curitiba      ┆ PR             │\n",
       "│ d311ff43d09…        ┆ dda1d48394a…        ┆                     ┆               ┆                │\n",
       "└─────────────────────┴─────────────────────┴─────────────────────┴───────────────┴────────────────┘"
      ]
     },
     "execution_count": 292,
     "metadata": {},
     "output_type": "execute_result"
    }
   ],
   "source": [
    "customers.filter(\n",
    "    pl.col('customer_city').str.contains_any(['franca', 'curitiba'])\n",
    ").head()"
   ]
  },
  {
   "cell_type": "code",
   "execution_count": 294,
   "metadata": {},
   "outputs": [
    {
     "data": {
      "text/html": [
       "<div><style>\n",
       ".dataframe > thead > tr,\n",
       ".dataframe > tbody > tr {\n",
       "  text-align: right;\n",
       "  white-space: pre-wrap;\n",
       "}\n",
       "</style>\n",
       "<small>shape: (5, 5)</small><table border=\"1\" class=\"dataframe\"><thead><tr><th>customer_id</th><th>customer_unique_id</th><th>customer_zip_code_prefix</th><th>customer_city</th><th>customer_state</th></tr><tr><td>str</td><td>str</td><td>i64</td><td>str</td><td>str</td></tr></thead><tbody><tr><td>&quot;8392e3d4cfeec63f2a8bfea68bf1f9…</td><td>&quot;fd2d5fdb84e65fa6b54b98b0e2df56…</td><td>59655</td><td>&quot;areia branca&quot;</td><td>&quot;RN&quot;</td></tr><tr><td>&quot;5e81e1b0b6164c14269bb934e9c43c…</td><td>&quot;008f3d5f45a11059239a5c452cd000…</td><td>65920</td><td>&quot;sao pedro da agua branca&quot;</td><td>&quot;MA&quot;</td></tr><tr><td>&quot;ca1a44b35b3b2c450ebb9ce015d623…</td><td>&quot;c1d7876f48d03563c6a9ef4288adf9…</td><td>57490</td><td>&quot;agua branca&quot;</td><td>&quot;AL&quot;</td></tr><tr><td>&quot;dd6343f8e0969d29f4949a663a7ecb…</td><td>&quot;da0e3f29a7dc99277ff6054ca9a1e0…</td><td>64460</td><td>&quot;agua branca&quot;</td><td>&quot;PI&quot;</td></tr><tr><td>&quot;d016bd90f904bbf7b11789bb7b3a98…</td><td>&quot;8624a656262fffbb3e9101a760d8e7…</td><td>12380</td><td>&quot;santa branca&quot;</td><td>&quot;SP&quot;</td></tr></tbody></table></div>"
      ],
      "text/plain": [
       "shape: (5, 5)\n",
       "┌────────────────────┬────────────────────┬───────────────────┬───────────────────┬────────────────┐\n",
       "│ customer_id        ┆ customer_unique_id ┆ customer_zip_code ┆ customer_city     ┆ customer_state │\n",
       "│ ---                ┆ ---                ┆ _prefix           ┆ ---               ┆ ---            │\n",
       "│ str                ┆ str                ┆ ---               ┆ str               ┆ str            │\n",
       "│                    ┆                    ┆ i64               ┆                   ┆                │\n",
       "╞════════════════════╪════════════════════╪═══════════════════╪═══════════════════╪════════════════╡\n",
       "│ 8392e3d4cfeec63f2a ┆ fd2d5fdb84e65fa6b5 ┆ 59655             ┆ areia branca      ┆ RN             │\n",
       "│ 8bfea68bf1f9…      ┆ 4b98b0e2df56…      ┆                   ┆                   ┆                │\n",
       "│ 5e81e1b0b6164c1426 ┆ 008f3d5f45a1105923 ┆ 65920             ┆ sao pedro da agua ┆ MA             │\n",
       "│ 9bb934e9c43c…      ┆ 9a5c452cd000…      ┆                   ┆ branca            ┆                │\n",
       "│ ca1a44b35b3b2c450e ┆ c1d7876f48d03563c6 ┆ 57490             ┆ agua branca       ┆ AL             │\n",
       "│ bb9ce015d623…      ┆ a9ef4288adf9…      ┆                   ┆                   ┆                │\n",
       "│ dd6343f8e0969d29f4 ┆ da0e3f29a7dc99277f ┆ 64460             ┆ agua branca       ┆ PI             │\n",
       "│ 949a663a7ecb…      ┆ f6054ca9a1e0…      ┆                   ┆                   ┆                │\n",
       "│ d016bd90f904bbf7b1 ┆ 8624a656262fffbb3e ┆ 12380             ┆ santa branca      ┆ SP             │\n",
       "│ 1789bb7b3a98…      ┆ 9101a760d8e7…      ┆                   ┆                   ┆                │\n",
       "└────────────────────┴────────────────────┴───────────────────┴───────────────────┴────────────────┘"
      ]
     },
     "execution_count": 294,
     "metadata": {},
     "output_type": "execute_result"
    }
   ],
   "source": [
    "customers.filter(\n",
    "    pl.col('customer_city').str.ends_with(\"branca\")\n",
    ").head()"
   ]
  },
  {
   "cell_type": "code",
   "execution_count": 296,
   "metadata": {},
   "outputs": [
    {
     "data": {
      "text/html": [
       "<div><style>\n",
       ".dataframe > thead > tr,\n",
       ".dataframe > tbody > tr {\n",
       "  text-align: right;\n",
       "  white-space: pre-wrap;\n",
       "}\n",
       "</style>\n",
       "<small>shape: (5, 5)</small><table border=\"1\" class=\"dataframe\"><thead><tr><th>customer_id</th><th>customer_unique_id</th><th>customer_zip_code_prefix</th><th>customer_city</th><th>customer_state</th></tr><tr><td>str</td><td>str</td><td>i64</td><td>str</td><td>str</td></tr></thead><tbody><tr><td>&quot;5adf08e34b2e993982a47070956c5c…</td><td>&quot;1175e95fb47ddff9de6b2b06188f7e…</td><td>81560</td><td>&quot;curitiba&quot;</td><td>&quot;PR&quot;</td></tr><tr><td>&quot;237098a64674ae89babdc426746260…</td><td>&quot;4390ddbb6276a66ff1736a6710205d…</td><td>82820</td><td>&quot;curitiba&quot;</td><td>&quot;PR&quot;</td></tr><tr><td>&quot;469634941c27cd844170935a3cf60b…</td><td>&quot;ef07ba9aa5226f77264ffa5762b228…</td><td>81750</td><td>&quot;curitiba&quot;</td><td>&quot;PR&quot;</td></tr><tr><td>&quot;aa0fbd830c89acc3d79d311ff43d09…</td><td>&quot;eabd76f3506262b0db0dda1d48394a…</td><td>80050</td><td>&quot;curitiba&quot;</td><td>&quot;PR&quot;</td></tr><tr><td>&quot;689ebb659ed83d0b534412e001e246…</td><td>&quot;272d474dde8221c368c57511d91502…</td><td>78015</td><td>&quot;cuiaba&quot;</td><td>&quot;MT&quot;</td></tr></tbody></table></div>"
      ],
      "text/plain": [
       "shape: (5, 5)\n",
       "┌─────────────────────┬─────────────────────┬─────────────────────┬───────────────┬────────────────┐\n",
       "│ customer_id         ┆ customer_unique_id  ┆ customer_zip_code_p ┆ customer_city ┆ customer_state │\n",
       "│ ---                 ┆ ---                 ┆ refix               ┆ ---           ┆ ---            │\n",
       "│ str                 ┆ str                 ┆ ---                 ┆ str           ┆ str            │\n",
       "│                     ┆                     ┆ i64                 ┆               ┆                │\n",
       "╞═════════════════════╪═════════════════════╪═════════════════════╪═══════════════╪════════════════╡\n",
       "│ 5adf08e34b2e993982a ┆ 1175e95fb47ddff9de6 ┆ 81560               ┆ curitiba      ┆ PR             │\n",
       "│ 47070956c5c…        ┆ b2b06188f7e…        ┆                     ┆               ┆                │\n",
       "│ 237098a64674ae89bab ┆ 4390ddbb6276a66ff17 ┆ 82820               ┆ curitiba      ┆ PR             │\n",
       "│ dc426746260…        ┆ 36a6710205d…        ┆                     ┆               ┆                │\n",
       "│ 469634941c27cd84417 ┆ ef07ba9aa5226f77264 ┆ 81750               ┆ curitiba      ┆ PR             │\n",
       "│ 0935a3cf60b…        ┆ ffa5762b228…        ┆                     ┆               ┆                │\n",
       "│ aa0fbd830c89acc3d79 ┆ eabd76f3506262b0db0 ┆ 80050               ┆ curitiba      ┆ PR             │\n",
       "│ d311ff43d09…        ┆ dda1d48394a…        ┆                     ┆               ┆                │\n",
       "│ 689ebb659ed83d0b534 ┆ 272d474dde8221c368c ┆ 78015               ┆ cuiaba        ┆ MT             │\n",
       "│ 412e001e246…        ┆ 57511d91502…        ┆                     ┆               ┆                │\n",
       "└─────────────────────┴─────────────────────┴─────────────────────┴───────────────┴────────────────┘"
      ]
     },
     "execution_count": 296,
     "metadata": {},
     "output_type": "execute_result"
    }
   ],
   "source": [
    "customers.filter(\n",
    "    pl.col('customer_city').str.starts_with(\"cu\")\n",
    ").head()"
   ]
  },
  {
   "cell_type": "code",
   "execution_count": 298,
   "metadata": {},
   "outputs": [
    {
     "data": {
      "text/html": [
       "<div><style>\n",
       ".dataframe > thead > tr,\n",
       ".dataframe > tbody > tr {\n",
       "  text-align: right;\n",
       "  white-space: pre-wrap;\n",
       "}\n",
       "</style>\n",
       "<small>shape: (3, 3)</small><table border=\"1\" class=\"dataframe\"><thead><tr><th>candidate</th><th>referer</th><th>error</th></tr><tr><td>str</td><td>str</td><td>str</td></tr></thead><tbody><tr><td>null</td><td>&quot;unknown&quot;</td><td>&quot;404&quot;</td></tr><tr><td>&quot;messi&quot;</td><td>&quot;polars&quot;</td><td>null</td></tr><tr><td>&quot;ronaldo&quot;</td><td>&quot;polars&quot;</td><td>null</td></tr></tbody></table></div>"
      ],
      "text/plain": [
       "shape: (3, 3)\n",
       "┌───────────┬─────────┬───────┐\n",
       "│ candidate ┆ referer ┆ error │\n",
       "│ ---       ┆ ---     ┆ ---   │\n",
       "│ str       ┆ str     ┆ str   │\n",
       "╞═══════════╪═════════╪═══════╡\n",
       "│ null      ┆ unknown ┆ 404   │\n",
       "│ messi     ┆ polars  ┆ null  │\n",
       "│ ronaldo   ┆ polars  ┆ null  │\n",
       "└───────────┴─────────┴───────┘"
      ]
     },
     "execution_count": 298,
     "metadata": {},
     "output_type": "execute_result"
    }
   ],
   "source": [
    "sample = pl.DataFrame(\n",
    "     {\n",
    "         \"url\": [\n",
    "             \"http://vote.com/ballon_dor?error=404&ref=unknown\",\n",
    "             \"http://vote.com/ballon_dor?ref=polars&candidate=messi\",\n",
    "             \"http://vote.com/ballon_dor?candidate=ronaldo&ref=polars\",\n",
    "         ]\n",
    "     }\n",
    " )\n",
    "\n",
    "sample.select(\n",
    "     pl.col(\"url\").str.extract(r\"candidate=(\\w+)\", 1).alias(\"candidate\"),\n",
    "     pl.col(\"url\").str.extract(r\"ref=(\\w+)\", 1).alias(\"referer\"),\n",
    "     pl.col(\"url\").str.extract(r\"error=(\\w+)\", 1).alias(\"error\"),\n",
    " )"
   ]
  },
  {
   "cell_type": "code",
   "execution_count": 299,
   "metadata": {},
   "outputs": [
    {
     "data": {
      "text/html": [
       "<div><style>\n",
       ".dataframe > thead > tr,\n",
       ".dataframe > tbody > tr {\n",
       "  text-align: right;\n",
       "  white-space: pre-wrap;\n",
       "}\n",
       "</style>\n",
       "<small>shape: (3,)</small><table border=\"1\" class=\"dataframe\"><thead><tr><th>email_parts</th></tr><tr><td>list[str]</td></tr></thead><tbody><tr><td>[&quot;real.email&quot;, &quot;spam.com&quot;]</td></tr><tr><td>[&quot;some_account&quot;, &quot;somewhere.net&quot;]</td></tr><tr><td>[&quot;abc.def.ghi.jkl&quot;, &quot;uvw.xyz.co.uk&quot;]</td></tr></tbody></table></div>"
      ],
      "text/plain": [
       "shape: (3,)\n",
       "Series: 'email_parts' [list[str]]\n",
       "[\n",
       "\t[\"real.email\", \"spam.com\"]\n",
       "\t[\"some_account\", \"somewhere.net\"]\n",
       "\t[\"abc.def.ghi.jkl\", \"uvw.xyz.co.uk\"]\n",
       "]"
      ]
     },
     "execution_count": 299,
     "metadata": {},
     "output_type": "execute_result"
    }
   ],
   "source": [
    "s = pl.Series(\n",
    "    name=\"email\",\n",
    "    values=[\n",
    "        \"real.email@spam.com\",\n",
    "        \"some_account@somewhere.net\",\n",
    "        \"abc.def.ghi.jkl@uvw.xyz.co.uk\",\n",
    "    ],\n",
    ")\n",
    "# extract name/domain parts from email, using verbose regex\n",
    "s.str.extract_all(\n",
    "    r\"\"\"(?xi)   # activate 'verbose' and 'case-insensitive' flags\n",
    "      [         # (start character group)\n",
    "        A-Z     # letters\n",
    "        0-9     # digits\n",
    "        ._%+\\-  # special chars\n",
    "      ]         # (end character group)\n",
    "      +         # 'one or more' quantifier\n",
    "    \"\"\"\n",
    ").alias(\"email_parts\")"
   ]
  },
  {
   "cell_type": "code",
   "execution_count": 303,
   "metadata": {},
   "outputs": [
    {
     "data": {
      "text/html": [
       "<div><style>\n",
       ".dataframe > thead > tr,\n",
       ".dataframe > tbody > tr {\n",
       "  text-align: right;\n",
       "  white-space: pre-wrap;\n",
       "}\n",
       "</style>\n",
       "<small>shape: (5, 5)</small><table border=\"1\" class=\"dataframe\"><thead><tr><th>customer_id</th><th>customer_unique_id</th><th>customer_zip_code_prefix</th><th>customer_city</th><th>customer_state</th></tr><tr><td>str</td><td>str</td><td>i64</td><td>str</td><td>str</td></tr></thead><tbody><tr><td>&quot;06b8999e2fba1a1fbc88172c00ba8b…</td><td>&quot;861eff4711a542e4b93843c6dd7feb…</td><td>14409</td><td>&quot;Franca&quot;</td><td>&quot;sampaulo&quot;</td></tr><tr><td>&quot;18955e83d337fd6b2def6b18a428ac…</td><td>&quot;290c77bc529b7ac935b93aa66c333d…</td><td>9790</td><td>&quot;Sao Bernardo Do Campo&quot;</td><td>&quot;sampaulo&quot;</td></tr><tr><td>&quot;4e7b3e00288586ebd08712fdd0374a…</td><td>&quot;060e732b5b29e8181a18229c7b0b2b…</td><td>1151</td><td>&quot;Sao Paulo&quot;</td><td>&quot;sampaulo&quot;</td></tr><tr><td>&quot;b2b6027bc5c5109e529d4dc6358b12…</td><td>&quot;259dac757896d24d7702b9acbbff3f…</td><td>8775</td><td>&quot;Mogi Das Cruzes&quot;</td><td>&quot;sampaulo&quot;</td></tr><tr><td>&quot;4f2d8ab171c80ec8364f7c12e35b23…</td><td>&quot;345ecd01c38d18a9036ed96c73b8d0…</td><td>13056</td><td>&quot;Campinas&quot;</td><td>&quot;sampaulo&quot;</td></tr></tbody></table></div>"
      ],
      "text/plain": [
       "shape: (5, 5)\n",
       "┌────────────────────┬────────────────────┬───────────────────┬───────────────────┬────────────────┐\n",
       "│ customer_id        ┆ customer_unique_id ┆ customer_zip_code ┆ customer_city     ┆ customer_state │\n",
       "│ ---                ┆ ---                ┆ _prefix           ┆ ---               ┆ ---            │\n",
       "│ str                ┆ str                ┆ ---               ┆ str               ┆ str            │\n",
       "│                    ┆                    ┆ i64               ┆                   ┆                │\n",
       "╞════════════════════╪════════════════════╪═══════════════════╪═══════════════════╪════════════════╡\n",
       "│ 06b8999e2fba1a1fbc ┆ 861eff4711a542e4b9 ┆ 14409             ┆ Franca            ┆ sampaulo       │\n",
       "│ 88172c00ba8b…      ┆ 3843c6dd7feb…      ┆                   ┆                   ┆                │\n",
       "│ 18955e83d337fd6b2d ┆ 290c77bc529b7ac935 ┆ 9790              ┆ Sao Bernardo Do   ┆ sampaulo       │\n",
       "│ ef6b18a428ac…      ┆ b93aa66c333d…      ┆                   ┆ Campo             ┆                │\n",
       "│ 4e7b3e00288586ebd0 ┆ 060e732b5b29e8181a ┆ 1151              ┆ Sao Paulo         ┆ sampaulo       │\n",
       "│ 8712fdd0374a…      ┆ 18229c7b0b2b…      ┆                   ┆                   ┆                │\n",
       "│ b2b6027bc5c5109e52 ┆ 259dac757896d24d77 ┆ 8775              ┆ Mogi Das Cruzes   ┆ sampaulo       │\n",
       "│ 9d4dc6358b12…      ┆ 02b9acbbff3f…      ┆                   ┆                   ┆                │\n",
       "│ 4f2d8ab171c80ec836 ┆ 345ecd01c38d18a903 ┆ 13056             ┆ Campinas          ┆ sampaulo       │\n",
       "│ 4f7c12e35b23…      ┆ 6ed96c73b8d0…      ┆                   ┆                   ┆                │\n",
       "└────────────────────┴────────────────────┴───────────────────┴───────────────────┴────────────────┘"
      ]
     },
     "execution_count": 303,
     "metadata": {},
     "output_type": "execute_result"
    }
   ],
   "source": [
    "customers.with_columns(\n",
    "    pl.col('customer_city').str.to_titlecase(),\n",
    "    pl.col('customer_state').str.replace('SP','sampaulo')\n",
    ").head()"
   ]
  },
  {
   "cell_type": "code",
   "execution_count": 319,
   "metadata": {},
   "outputs": [
    {
     "data": {
      "text/html": [
       "<div><style>\n",
       ".dataframe > thead > tr,\n",
       ".dataframe > tbody > tr {\n",
       "  text-align: right;\n",
       "  white-space: pre-wrap;\n",
       "}\n",
       "</style>\n",
       "<small>shape: (5, 11)</small><table border=\"1\" class=\"dataframe\"><thead><tr><th>ID</th><th>AS_OF_DATE</th><th>DESCRIPTION</th><th>ADDRESS</th><th>PHONE1</th><th>PHONE2</th><th>PHONE3</th><th>EMAIL</th><th>STATUS</th><th>TYPE</th><th>CATEGORY</th></tr><tr><td>i64</td><td>datetime[μs]</td><td>str</td><td>list[str]</td><td>list[i64]</td><td>str</td><td>list[str]</td><td>str</td><td>str</td><td>str</td><td>i64</td></tr></thead><tbody><tr><td>100</td><td>2022-01-01 00:00:00</td><td>&quot;Customer 1&quot;</td><td>[&quot;Address 1a, Address 1b&quot;]</td><td>[100100, 100200]</td><td>&quot;100100 | 100200&quot;</td><td>[&quot;100100 | 100200 | 100300 | 100400 | 100500&quot;]</td><td>&quot;1a@email 1b@email&quot;</td><td>&quot;Active&quot;</td><td>&quot;Corp&quot;</td><td>1100</td></tr><tr><td>110</td><td>2022-01-01 00:00:00</td><td>&quot;Customer 2&quot;</td><td>[&quot;Address 2a, Address 2b&quot;]</td><td>[200100, 200200]</td><td>&quot;200100 | 200200&quot;</td><td>[&quot;200100 | 200200 | 200300 | 200400 | 200500&quot;]</td><td>&quot;2a@email 2b@email&quot;</td><td>&quot;Active&quot;</td><td>&quot;Gov&quot;</td><td>2100</td></tr><tr><td>120</td><td>2022-01-01 00:00:00</td><td>&quot;Customer 3&quot;</td><td>[&quot;Address 3a, Address 3b&quot;]</td><td>[300100, 300200]</td><td>&quot;300100 | 300200&quot;</td><td>[&quot;300100 | 300200 | 300300 | 300400 | 300500&quot;]</td><td>&quot;3a@email 3b@email&quot;</td><td>&quot;Active&quot;</td><td>&quot;Individual&quot;</td><td>1100</td></tr><tr><td>130</td><td>2022-01-01 00:00:00</td><td>&quot;Customer 4&quot;</td><td>[&quot;Address 4a, Address 4b&quot;]</td><td>[400100, 400200]</td><td>&quot;400100 | 400200&quot;</td><td>[&quot;400100 | 300200 | 400300 | 400400 | 400500&quot;]</td><td>&quot;4a@email 4b@email&quot;</td><td>&quot;Active&quot;</td><td>&quot;Corp&quot;</td><td>1500</td></tr><tr><td>140</td><td>2022-01-01 00:00:00</td><td>&quot;Customer 5&quot;</td><td>[&quot;Address 5a, Address 5b&quot;]</td><td>[500100, 500200]</td><td>&quot;500100 | 500200&quot;</td><td>[&quot;500100 | 500200 | 500300 | 500400 | 500500&quot;]</td><td>&quot;5a@email 5b@email donotreply@e…</td><td>&quot;Active&quot;</td><td>&quot;Gov&quot;</td><td>1500</td></tr></tbody></table></div>"
      ],
      "text/plain": [
       "shape: (5, 11)\n",
       "┌─────┬─────────┬─────────┬─────────┬────────┬────────┬────────┬────────┬────────┬────────┬────────┐\n",
       "│ ID  ┆ AS_OF_D ┆ DESCRIP ┆ ADDRESS ┆ PHONE1 ┆ PHONE2 ┆ PHONE3 ┆ EMAIL  ┆ STATUS ┆ TYPE   ┆ CATEGO │\n",
       "│ --- ┆ ATE     ┆ TION    ┆ ---     ┆ ---    ┆ ---    ┆ ---    ┆ ---    ┆ ---    ┆ ---    ┆ RY     │\n",
       "│ i64 ┆ ---     ┆ ---     ┆ list[st ┆ list[i ┆ str    ┆ list[s ┆ str    ┆ str    ┆ str    ┆ ---    │\n",
       "│     ┆ datetim ┆ str     ┆ r]      ┆ 64]    ┆        ┆ tr]    ┆        ┆        ┆        ┆ i64    │\n",
       "│     ┆ e[μs]   ┆         ┆         ┆        ┆        ┆        ┆        ┆        ┆        ┆        │\n",
       "╞═════╪═════════╪═════════╪═════════╪════════╪════════╪════════╪════════╪════════╪════════╪════════╡\n",
       "│ 100 ┆ 2022-01 ┆ Custome ┆ [\"Addre ┆ [10010 ┆ 100100 ┆ [\"1001 ┆ 1a@ema ┆ Active ┆ Corp   ┆ 1100   │\n",
       "│     ┆ -01 00: ┆ r 1     ┆ ss 1a,  ┆ 0, 100 ┆ |      ┆ 00 |   ┆ il 1b@ ┆        ┆        ┆        │\n",
       "│     ┆ 00:00   ┆         ┆ Address ┆ 200]   ┆ 100200 ┆ 100200 ┆ email  ┆        ┆        ┆        │\n",
       "│     ┆         ┆         ┆ 1b\"]    ┆        ┆        ┆ |      ┆        ┆        ┆        ┆        │\n",
       "│     ┆         ┆         ┆         ┆        ┆        ┆ 100300 ┆        ┆        ┆        ┆        │\n",
       "│     ┆         ┆         ┆         ┆        ┆        ┆ | 1…   ┆        ┆        ┆        ┆        │\n",
       "│ 110 ┆ 2022-01 ┆ Custome ┆ [\"Addre ┆ [20010 ┆ 200100 ┆ [\"2001 ┆ 2a@ema ┆ Active ┆ Gov    ┆ 2100   │\n",
       "│     ┆ -01 00: ┆ r 2     ┆ ss 2a,  ┆ 0, 200 ┆ |      ┆ 00 |   ┆ il 2b@ ┆        ┆        ┆        │\n",
       "│     ┆ 00:00   ┆         ┆ Address ┆ 200]   ┆ 200200 ┆ 200200 ┆ email  ┆        ┆        ┆        │\n",
       "│     ┆         ┆         ┆ 2b\"]    ┆        ┆        ┆ |      ┆        ┆        ┆        ┆        │\n",
       "│     ┆         ┆         ┆         ┆        ┆        ┆ 200300 ┆        ┆        ┆        ┆        │\n",
       "│     ┆         ┆         ┆         ┆        ┆        ┆ | 2…   ┆        ┆        ┆        ┆        │\n",
       "│ 120 ┆ 2022-01 ┆ Custome ┆ [\"Addre ┆ [30010 ┆ 300100 ┆ [\"3001 ┆ 3a@ema ┆ Active ┆ Indivi ┆ 1100   │\n",
       "│     ┆ -01 00: ┆ r 3     ┆ ss 3a,  ┆ 0, 300 ┆ |      ┆ 00 |   ┆ il 3b@ ┆        ┆ dual   ┆        │\n",
       "│     ┆ 00:00   ┆         ┆ Address ┆ 200]   ┆ 300200 ┆ 300200 ┆ email  ┆        ┆        ┆        │\n",
       "│     ┆         ┆         ┆ 3b\"]    ┆        ┆        ┆ |      ┆        ┆        ┆        ┆        │\n",
       "│     ┆         ┆         ┆         ┆        ┆        ┆ 300300 ┆        ┆        ┆        ┆        │\n",
       "│     ┆         ┆         ┆         ┆        ┆        ┆ | 3…   ┆        ┆        ┆        ┆        │\n",
       "│ 130 ┆ 2022-01 ┆ Custome ┆ [\"Addre ┆ [40010 ┆ 400100 ┆ [\"4001 ┆ 4a@ema ┆ Active ┆ Corp   ┆ 1500   │\n",
       "│     ┆ -01 00: ┆ r 4     ┆ ss 4a,  ┆ 0, 400 ┆ |      ┆ 00 |   ┆ il 4b@ ┆        ┆        ┆        │\n",
       "│     ┆ 00:00   ┆         ┆ Address ┆ 200]   ┆ 400200 ┆ 300200 ┆ email  ┆        ┆        ┆        │\n",
       "│     ┆         ┆         ┆ 4b\"]    ┆        ┆        ┆ |      ┆        ┆        ┆        ┆        │\n",
       "│     ┆         ┆         ┆         ┆        ┆        ┆ 400300 ┆        ┆        ┆        ┆        │\n",
       "│     ┆         ┆         ┆         ┆        ┆        ┆ | 4…   ┆        ┆        ┆        ┆        │\n",
       "│ 140 ┆ 2022-01 ┆ Custome ┆ [\"Addre ┆ [50010 ┆ 500100 ┆ [\"5001 ┆ 5a@ema ┆ Active ┆ Gov    ┆ 1500   │\n",
       "│     ┆ -01 00: ┆ r 5     ┆ ss 5a,  ┆ 0, 500 ┆ |      ┆ 00 |   ┆ il 5b@ ┆        ┆        ┆        │\n",
       "│     ┆ 00:00   ┆         ┆ Address ┆ 200]   ┆ 500200 ┆ 500200 ┆ email  ┆        ┆        ┆        │\n",
       "│     ┆         ┆         ┆ 5b\"]    ┆        ┆        ┆ |      ┆ donotr ┆        ┆        ┆        │\n",
       "│     ┆         ┆         ┆         ┆        ┆        ┆ 500300 ┆ eply@e ┆        ┆        ┆        │\n",
       "│     ┆         ┆         ┆         ┆        ┆        ┆ | 5…   ┆ …      ┆        ┆        ┆        │\n",
       "└─────┴─────────┴─────────┴─────────┴────────┴────────┴────────┴────────┴────────┴────────┴────────┘"
      ]
     },
     "execution_count": 319,
     "metadata": {},
     "output_type": "execute_result"
    }
   ],
   "source": [
    "import random\n",
    "from datetime import datetime\n",
    "\n",
    "category = pl.DataFrame({\n",
    " \"ID\": list(range(1000, 2500, 100)),\n",
    " \"AS_OF_DATE\" : datetime(2022, 1, 1),\n",
    " \"DESCRIPTION\" : [\"Rx\",\"Material\",\"Consulting\",\"Construction\",\n",
    " \"un-assigned\"] * 3,\n",
    " \"REGION\": [\"Region A\",\"Region B\",\"Region C\"] * 5,\n",
    " \"STATUS\" : \"Active\",\n",
    " \"CLASSIFICATION\" : [\"Rx\",\"Material\", \"Services\",\"Constructions\",\n",
    " \"OTHERS\"] * 3,\n",
    " \"TYPE\" : [\"R\",\"M\",\"S\",\"C\",\"O\"] * 3,\n",
    "})\n",
    "\n",
    "customer = pl.DataFrame({\n",
    " \"ID\": list(range(100, 250, 10)),\n",
    " \"AS_OF_DATE\" : datetime(2022, 1, 1),\n",
    " \"DESCRIPTION\" : [\"Customer 1\",\"Customer 2\",\"Customer 3\",\"Customer 4\",\"Customer 5\"] * 3,\n",
    " \"ADDRESS\" : [[\"Address 1a, Address 1b\"],[\"Address 2a, Address 2b\"],\n",
    " [\"Address 3a, Address 3b\"],[\"Address 4a, Address 4b\"],\n",
    " [\"Address 5a, Address 5b\"]] * 3,\n",
    " \"PHONE1\" : [[100100,100200],[200100,200200],[300100,300200],\n",
    " [400100,400200],[500100,500200]] * 3,\n",
    " \"PHONE2\" : [\"100100 | 100200\",\"200100 | 200200\",\"300100 | 300200\",\n",
    " \"400100 | 400200\",\"500100 | 500200\"] * 3,\n",
    " \"PHONE3\" : [[\"100100 | 100200 | 100300 | 100400 | 100500\"],\n",
    " [\"200100 | 200200 | 200300 | 200400 | 200500\"],\n",
    " [\"300100 | 300200 | 300300 | 300400 | 300500\"],\n",
    " [\"400100 | 300200 | 400300 | 400400 | 400500\"],\n",
    " [\"500100 | 500200 | 500300 | 500400 | 500500\"],\n",
    " ]\n",
    " * 3,\n",
    " \"EMAIL\" : [\"1a@email 1b@email\",\"2a@email 2b@email\",\"3a@email 3b@email\",\n",
    " \"4a@email 4b@email\",\"5a@email 5b@email donotreply@email\"] * 3,\n",
    " \"STATUS\" : \"Active\",\n",
    " \"TYPE\" : [\"Corp\",\"Gov\",\"Individual\"] * 5,\n",
    " \"CATEGORY\" : random.choices(category[\"ID\"], k=15),\n",
    "})\n",
    "customer.head()"
   ]
  },
  {
   "cell_type": "code",
   "execution_count": 320,
   "metadata": {},
   "outputs": [
    {
     "data": {
      "text/html": [
       "<div><style>\n",
       ".dataframe > thead > tr,\n",
       ".dataframe > tbody > tr {\n",
       "  text-align: right;\n",
       "  white-space: pre-wrap;\n",
       "}\n",
       "</style>\n",
       "<small>shape: (15, 8)</small><table border=\"1\" class=\"dataframe\"><thead><tr><th>ID</th><th>DESCRIPTION</th><th>PHONE1</th><th>Phone1_Int_to-Str</th><th>PHONE2</th><th>PHONE2_new</th><th>PHONE3</th><th>new</th></tr><tr><td>i64</td><td>str</td><td>list[i64]</td><td>list[str]</td><td>str</td><td>list[str]</td><td>list[str]</td><td>list[str]</td></tr></thead><tbody><tr><td>100</td><td>&quot;Customer 1&quot;</td><td>[100100, 100200]</td><td>[&quot;100100&quot;, &quot;100200&quot;]</td><td>&quot;100100 | 100200&quot;</td><td>[&quot;100100&quot;, &quot;100200&quot;]</td><td>[&quot;100100 | 100200 | 100300 | 100400 | 100500&quot;]</td><td>[&quot;100100&quot;, &quot;100200&quot;, … &quot;100500&quot;]</td></tr><tr><td>110</td><td>&quot;Customer 2&quot;</td><td>[200100, 200200]</td><td>[&quot;200100&quot;, &quot;200200&quot;]</td><td>&quot;200100 | 200200&quot;</td><td>[&quot;200100&quot;, &quot;200200&quot;]</td><td>[&quot;200100 | 200200 | 200300 | 200400 | 200500&quot;]</td><td>[&quot;200100&quot;, &quot;200200&quot;, … &quot;200500&quot;]</td></tr><tr><td>120</td><td>&quot;Customer 3&quot;</td><td>[300100, 300200]</td><td>[&quot;300100&quot;, &quot;300200&quot;]</td><td>&quot;300100 | 300200&quot;</td><td>[&quot;300100&quot;, &quot;300200&quot;]</td><td>[&quot;300100 | 300200 | 300300 | 300400 | 300500&quot;]</td><td>[&quot;300100&quot;, &quot;300200&quot;, … &quot;300500&quot;]</td></tr><tr><td>130</td><td>&quot;Customer 4&quot;</td><td>[400100, 400200]</td><td>[&quot;400100&quot;, &quot;400200&quot;]</td><td>&quot;400100 | 400200&quot;</td><td>[&quot;400100&quot;, &quot;400200&quot;]</td><td>[&quot;400100 | 300200 | 400300 | 400400 | 400500&quot;]</td><td>[&quot;400100&quot;, &quot;300200&quot;, … &quot;400500&quot;]</td></tr><tr><td>140</td><td>&quot;Customer 5&quot;</td><td>[500100, 500200]</td><td>[&quot;500100&quot;, &quot;500200&quot;]</td><td>&quot;500100 | 500200&quot;</td><td>[&quot;500100&quot;, &quot;500200&quot;]</td><td>[&quot;500100 | 500200 | 500300 | 500400 | 500500&quot;]</td><td>[&quot;500100&quot;, &quot;500200&quot;, … &quot;500500&quot;]</td></tr><tr><td>150</td><td>&quot;Customer 1&quot;</td><td>[100100, 100200]</td><td>[&quot;100100&quot;, &quot;100200&quot;]</td><td>&quot;100100 | 100200&quot;</td><td>[&quot;100100&quot;, &quot;100200&quot;]</td><td>[&quot;100100 | 100200 | 100300 | 100400 | 100500&quot;]</td><td>[&quot;100100&quot;, &quot;100200&quot;, … &quot;100500&quot;]</td></tr><tr><td>160</td><td>&quot;Customer 2&quot;</td><td>[200100, 200200]</td><td>[&quot;200100&quot;, &quot;200200&quot;]</td><td>&quot;200100 | 200200&quot;</td><td>[&quot;200100&quot;, &quot;200200&quot;]</td><td>[&quot;200100 | 200200 | 200300 | 200400 | 200500&quot;]</td><td>[&quot;200100&quot;, &quot;200200&quot;, … &quot;200500&quot;]</td></tr><tr><td>170</td><td>&quot;Customer 3&quot;</td><td>[300100, 300200]</td><td>[&quot;300100&quot;, &quot;300200&quot;]</td><td>&quot;300100 | 300200&quot;</td><td>[&quot;300100&quot;, &quot;300200&quot;]</td><td>[&quot;300100 | 300200 | 300300 | 300400 | 300500&quot;]</td><td>[&quot;300100&quot;, &quot;300200&quot;, … &quot;300500&quot;]</td></tr><tr><td>180</td><td>&quot;Customer 4&quot;</td><td>[400100, 400200]</td><td>[&quot;400100&quot;, &quot;400200&quot;]</td><td>&quot;400100 | 400200&quot;</td><td>[&quot;400100&quot;, &quot;400200&quot;]</td><td>[&quot;400100 | 300200 | 400300 | 400400 | 400500&quot;]</td><td>[&quot;400100&quot;, &quot;300200&quot;, … &quot;400500&quot;]</td></tr><tr><td>190</td><td>&quot;Customer 5&quot;</td><td>[500100, 500200]</td><td>[&quot;500100&quot;, &quot;500200&quot;]</td><td>&quot;500100 | 500200&quot;</td><td>[&quot;500100&quot;, &quot;500200&quot;]</td><td>[&quot;500100 | 500200 | 500300 | 500400 | 500500&quot;]</td><td>[&quot;500100&quot;, &quot;500200&quot;, … &quot;500500&quot;]</td></tr><tr><td>200</td><td>&quot;Customer 1&quot;</td><td>[100100, 100200]</td><td>[&quot;100100&quot;, &quot;100200&quot;]</td><td>&quot;100100 | 100200&quot;</td><td>[&quot;100100&quot;, &quot;100200&quot;]</td><td>[&quot;100100 | 100200 | 100300 | 100400 | 100500&quot;]</td><td>[&quot;100100&quot;, &quot;100200&quot;, … &quot;100500&quot;]</td></tr><tr><td>210</td><td>&quot;Customer 2&quot;</td><td>[200100, 200200]</td><td>[&quot;200100&quot;, &quot;200200&quot;]</td><td>&quot;200100 | 200200&quot;</td><td>[&quot;200100&quot;, &quot;200200&quot;]</td><td>[&quot;200100 | 200200 | 200300 | 200400 | 200500&quot;]</td><td>[&quot;200100&quot;, &quot;200200&quot;, … &quot;200500&quot;]</td></tr><tr><td>220</td><td>&quot;Customer 3&quot;</td><td>[300100, 300200]</td><td>[&quot;300100&quot;, &quot;300200&quot;]</td><td>&quot;300100 | 300200&quot;</td><td>[&quot;300100&quot;, &quot;300200&quot;]</td><td>[&quot;300100 | 300200 | 300300 | 300400 | 300500&quot;]</td><td>[&quot;300100&quot;, &quot;300200&quot;, … &quot;300500&quot;]</td></tr><tr><td>230</td><td>&quot;Customer 4&quot;</td><td>[400100, 400200]</td><td>[&quot;400100&quot;, &quot;400200&quot;]</td><td>&quot;400100 | 400200&quot;</td><td>[&quot;400100&quot;, &quot;400200&quot;]</td><td>[&quot;400100 | 300200 | 400300 | 400400 | 400500&quot;]</td><td>[&quot;400100&quot;, &quot;300200&quot;, … &quot;400500&quot;]</td></tr><tr><td>240</td><td>&quot;Customer 5&quot;</td><td>[500100, 500200]</td><td>[&quot;500100&quot;, &quot;500200&quot;]</td><td>&quot;500100 | 500200&quot;</td><td>[&quot;500100&quot;, &quot;500200&quot;]</td><td>[&quot;500100 | 500200 | 500300 | 500400 | 500500&quot;]</td><td>[&quot;500100&quot;, &quot;500200&quot;, … &quot;500500&quot;]</td></tr></tbody></table></div>"
      ],
      "text/plain": [
       "shape: (15, 8)\n",
       "┌─────┬─────────────┬─────────────┬────────────┬────────────┬────────────┬────────────┬────────────┐\n",
       "│ ID  ┆ DESCRIPTION ┆ PHONE1      ┆ Phone1_Int ┆ PHONE2     ┆ PHONE2_new ┆ PHONE3     ┆ new        │\n",
       "│ --- ┆ ---         ┆ ---         ┆ _to-Str    ┆ ---        ┆ ---        ┆ ---        ┆ ---        │\n",
       "│ i64 ┆ str         ┆ list[i64]   ┆ ---        ┆ str        ┆ list[str]  ┆ list[str]  ┆ list[str]  │\n",
       "│     ┆             ┆             ┆ list[str]  ┆            ┆            ┆            ┆            │\n",
       "╞═════╪═════════════╪═════════════╪════════════╪════════════╪════════════╪════════════╪════════════╡\n",
       "│ 100 ┆ Customer 1  ┆ [100100,    ┆ [\"100100\", ┆ 100100 |   ┆ [\"100100\", ┆ [\"100100 | ┆ [\"100100\", │\n",
       "│     ┆             ┆ 100200]     ┆ \"100200\"]  ┆ 100200     ┆ \"100200\"]  ┆ 100200 |   ┆ \"100200\",  │\n",
       "│     ┆             ┆             ┆            ┆            ┆            ┆ 100300 |   ┆ … \"100500… │\n",
       "│     ┆             ┆             ┆            ┆            ┆            ┆ 1…         ┆            │\n",
       "│ 110 ┆ Customer 2  ┆ [200100,    ┆ [\"200100\", ┆ 200100 |   ┆ [\"200100\", ┆ [\"200100 | ┆ [\"200100\", │\n",
       "│     ┆             ┆ 200200]     ┆ \"200200\"]  ┆ 200200     ┆ \"200200\"]  ┆ 200200 |   ┆ \"200200\",  │\n",
       "│     ┆             ┆             ┆            ┆            ┆            ┆ 200300 |   ┆ … \"200500… │\n",
       "│     ┆             ┆             ┆            ┆            ┆            ┆ 2…         ┆            │\n",
       "│ 120 ┆ Customer 3  ┆ [300100,    ┆ [\"300100\", ┆ 300100 |   ┆ [\"300100\", ┆ [\"300100 | ┆ [\"300100\", │\n",
       "│     ┆             ┆ 300200]     ┆ \"300200\"]  ┆ 300200     ┆ \"300200\"]  ┆ 300200 |   ┆ \"300200\",  │\n",
       "│     ┆             ┆             ┆            ┆            ┆            ┆ 300300 |   ┆ … \"300500… │\n",
       "│     ┆             ┆             ┆            ┆            ┆            ┆ 3…         ┆            │\n",
       "│ 130 ┆ Customer 4  ┆ [400100,    ┆ [\"400100\", ┆ 400100 |   ┆ [\"400100\", ┆ [\"400100 | ┆ [\"400100\", │\n",
       "│     ┆             ┆ 400200]     ┆ \"400200\"]  ┆ 400200     ┆ \"400200\"]  ┆ 300200 |   ┆ \"300200\",  │\n",
       "│     ┆             ┆             ┆            ┆            ┆            ┆ 400300 |   ┆ … \"400500… │\n",
       "│     ┆             ┆             ┆            ┆            ┆            ┆ 4…         ┆            │\n",
       "│ 140 ┆ Customer 5  ┆ [500100,    ┆ [\"500100\", ┆ 500100 |   ┆ [\"500100\", ┆ [\"500100 | ┆ [\"500100\", │\n",
       "│     ┆             ┆ 500200]     ┆ \"500200\"]  ┆ 500200     ┆ \"500200\"]  ┆ 500200 |   ┆ \"500200\",  │\n",
       "│     ┆             ┆             ┆            ┆            ┆            ┆ 500300 |   ┆ … \"500500… │\n",
       "│     ┆             ┆             ┆            ┆            ┆            ┆ 5…         ┆            │\n",
       "│ 150 ┆ Customer 1  ┆ [100100,    ┆ [\"100100\", ┆ 100100 |   ┆ [\"100100\", ┆ [\"100100 | ┆ [\"100100\", │\n",
       "│     ┆             ┆ 100200]     ┆ \"100200\"]  ┆ 100200     ┆ \"100200\"]  ┆ 100200 |   ┆ \"100200\",  │\n",
       "│     ┆             ┆             ┆            ┆            ┆            ┆ 100300 |   ┆ … \"100500… │\n",
       "│     ┆             ┆             ┆            ┆            ┆            ┆ 1…         ┆            │\n",
       "│ 160 ┆ Customer 2  ┆ [200100,    ┆ [\"200100\", ┆ 200100 |   ┆ [\"200100\", ┆ [\"200100 | ┆ [\"200100\", │\n",
       "│     ┆             ┆ 200200]     ┆ \"200200\"]  ┆ 200200     ┆ \"200200\"]  ┆ 200200 |   ┆ \"200200\",  │\n",
       "│     ┆             ┆             ┆            ┆            ┆            ┆ 200300 |   ┆ … \"200500… │\n",
       "│     ┆             ┆             ┆            ┆            ┆            ┆ 2…         ┆            │\n",
       "│ 170 ┆ Customer 3  ┆ [300100,    ┆ [\"300100\", ┆ 300100 |   ┆ [\"300100\", ┆ [\"300100 | ┆ [\"300100\", │\n",
       "│     ┆             ┆ 300200]     ┆ \"300200\"]  ┆ 300200     ┆ \"300200\"]  ┆ 300200 |   ┆ \"300200\",  │\n",
       "│     ┆             ┆             ┆            ┆            ┆            ┆ 300300 |   ┆ … \"300500… │\n",
       "│     ┆             ┆             ┆            ┆            ┆            ┆ 3…         ┆            │\n",
       "│ 180 ┆ Customer 4  ┆ [400100,    ┆ [\"400100\", ┆ 400100 |   ┆ [\"400100\", ┆ [\"400100 | ┆ [\"400100\", │\n",
       "│     ┆             ┆ 400200]     ┆ \"400200\"]  ┆ 400200     ┆ \"400200\"]  ┆ 300200 |   ┆ \"300200\",  │\n",
       "│     ┆             ┆             ┆            ┆            ┆            ┆ 400300 |   ┆ … \"400500… │\n",
       "│     ┆             ┆             ┆            ┆            ┆            ┆ 4…         ┆            │\n",
       "│ 190 ┆ Customer 5  ┆ [500100,    ┆ [\"500100\", ┆ 500100 |   ┆ [\"500100\", ┆ [\"500100 | ┆ [\"500100\", │\n",
       "│     ┆             ┆ 500200]     ┆ \"500200\"]  ┆ 500200     ┆ \"500200\"]  ┆ 500200 |   ┆ \"500200\",  │\n",
       "│     ┆             ┆             ┆            ┆            ┆            ┆ 500300 |   ┆ … \"500500… │\n",
       "│     ┆             ┆             ┆            ┆            ┆            ┆ 5…         ┆            │\n",
       "│ 200 ┆ Customer 1  ┆ [100100,    ┆ [\"100100\", ┆ 100100 |   ┆ [\"100100\", ┆ [\"100100 | ┆ [\"100100\", │\n",
       "│     ┆             ┆ 100200]     ┆ \"100200\"]  ┆ 100200     ┆ \"100200\"]  ┆ 100200 |   ┆ \"100200\",  │\n",
       "│     ┆             ┆             ┆            ┆            ┆            ┆ 100300 |   ┆ … \"100500… │\n",
       "│     ┆             ┆             ┆            ┆            ┆            ┆ 1…         ┆            │\n",
       "│ 210 ┆ Customer 2  ┆ [200100,    ┆ [\"200100\", ┆ 200100 |   ┆ [\"200100\", ┆ [\"200100 | ┆ [\"200100\", │\n",
       "│     ┆             ┆ 200200]     ┆ \"200200\"]  ┆ 200200     ┆ \"200200\"]  ┆ 200200 |   ┆ \"200200\",  │\n",
       "│     ┆             ┆             ┆            ┆            ┆            ┆ 200300 |   ┆ … \"200500… │\n",
       "│     ┆             ┆             ┆            ┆            ┆            ┆ 2…         ┆            │\n",
       "│ 220 ┆ Customer 3  ┆ [300100,    ┆ [\"300100\", ┆ 300100 |   ┆ [\"300100\", ┆ [\"300100 | ┆ [\"300100\", │\n",
       "│     ┆             ┆ 300200]     ┆ \"300200\"]  ┆ 300200     ┆ \"300200\"]  ┆ 300200 |   ┆ \"300200\",  │\n",
       "│     ┆             ┆             ┆            ┆            ┆            ┆ 300300 |   ┆ … \"300500… │\n",
       "│     ┆             ┆             ┆            ┆            ┆            ┆ 3…         ┆            │\n",
       "│ 230 ┆ Customer 4  ┆ [400100,    ┆ [\"400100\", ┆ 400100 |   ┆ [\"400100\", ┆ [\"400100 | ┆ [\"400100\", │\n",
       "│     ┆             ┆ 400200]     ┆ \"400200\"]  ┆ 400200     ┆ \"400200\"]  ┆ 300200 |   ┆ \"300200\",  │\n",
       "│     ┆             ┆             ┆            ┆            ┆            ┆ 400300 |   ┆ … \"400500… │\n",
       "│     ┆             ┆             ┆            ┆            ┆            ┆ 4…         ┆            │\n",
       "│ 240 ┆ Customer 5  ┆ [500100,    ┆ [\"500100\", ┆ 500100 |   ┆ [\"500100\", ┆ [\"500100 | ┆ [\"500100\", │\n",
       "│     ┆             ┆ 500200]     ┆ \"500200\"]  ┆ 500200     ┆ \"500200\"]  ┆ 500200 |   ┆ \"500200\",  │\n",
       "│     ┆             ┆             ┆            ┆            ┆            ┆ 500300 |   ┆ … \"500500… │\n",
       "│     ┆             ┆             ┆            ┆            ┆            ┆ 5…         ┆            │\n",
       "└─────┴─────────────┴─────────────┴────────────┴────────────┴────────────┴────────────┴────────────┘"
      ]
     },
     "execution_count": 320,
     "metadata": {},
     "output_type": "execute_result"
    }
   ],
   "source": [
    "out = customer.select(\n",
    " pl.col(\"ID\"),\n",
    " pl.col(\"DESCRIPTION\"),\n",
    " pl.col(\"PHONE1\"),\n",
    " pl.col(\"PHONE1\").cast(pl.List(pl.Utf8)).alias(\"Phone1_Int_to-Str\"),\n",
    " pl.col(\"PHONE2\"),\n",
    " pl.col(\"PHONE2\").str.split(\" | \").alias(\"PHONE2_new\"),\n",
    " pl.col(\"PHONE3\"),\n",
    " pl.col(\"PHONE3\").explode().str.split(\" | \").alias(\"new\"),\n",
    ")\n",
    "out"
   ]
  },
  {
   "cell_type": "code",
   "execution_count": 321,
   "metadata": {},
   "outputs": [
    {
     "data": {
      "text/html": [
       "<div><style>\n",
       ".dataframe > thead > tr,\n",
       ".dataframe > tbody > tr {\n",
       "  text-align: right;\n",
       "  white-space: pre-wrap;\n",
       "}\n",
       "</style>\n",
       "<small>shape: (30, 3)</small><table border=\"1\" class=\"dataframe\"><thead><tr><th>ID</th><th>DESCRIPTION</th><th>Phone1_Int_to-Str</th></tr><tr><td>i64</td><td>str</td><td>str</td></tr></thead><tbody><tr><td>100</td><td>&quot;Customer 1&quot;</td><td>&quot;100100&quot;</td></tr><tr><td>100</td><td>&quot;Customer 1&quot;</td><td>&quot;100200&quot;</td></tr><tr><td>110</td><td>&quot;Customer 2&quot;</td><td>&quot;200100&quot;</td></tr><tr><td>110</td><td>&quot;Customer 2&quot;</td><td>&quot;200200&quot;</td></tr><tr><td>120</td><td>&quot;Customer 3&quot;</td><td>&quot;300100&quot;</td></tr><tr><td>120</td><td>&quot;Customer 3&quot;</td><td>&quot;300200&quot;</td></tr><tr><td>130</td><td>&quot;Customer 4&quot;</td><td>&quot;400100&quot;</td></tr><tr><td>130</td><td>&quot;Customer 4&quot;</td><td>&quot;400200&quot;</td></tr><tr><td>140</td><td>&quot;Customer 5&quot;</td><td>&quot;500100&quot;</td></tr><tr><td>140</td><td>&quot;Customer 5&quot;</td><td>&quot;500200&quot;</td></tr><tr><td>150</td><td>&quot;Customer 1&quot;</td><td>&quot;100100&quot;</td></tr><tr><td>150</td><td>&quot;Customer 1&quot;</td><td>&quot;100200&quot;</td></tr><tr><td>160</td><td>&quot;Customer 2&quot;</td><td>&quot;200100&quot;</td></tr><tr><td>160</td><td>&quot;Customer 2&quot;</td><td>&quot;200200&quot;</td></tr><tr><td>170</td><td>&quot;Customer 3&quot;</td><td>&quot;300100&quot;</td></tr><tr><td>170</td><td>&quot;Customer 3&quot;</td><td>&quot;300200&quot;</td></tr><tr><td>180</td><td>&quot;Customer 4&quot;</td><td>&quot;400100&quot;</td></tr><tr><td>180</td><td>&quot;Customer 4&quot;</td><td>&quot;400200&quot;</td></tr><tr><td>190</td><td>&quot;Customer 5&quot;</td><td>&quot;500100&quot;</td></tr><tr><td>190</td><td>&quot;Customer 5&quot;</td><td>&quot;500200&quot;</td></tr><tr><td>200</td><td>&quot;Customer 1&quot;</td><td>&quot;100100&quot;</td></tr><tr><td>200</td><td>&quot;Customer 1&quot;</td><td>&quot;100200&quot;</td></tr><tr><td>210</td><td>&quot;Customer 2&quot;</td><td>&quot;200100&quot;</td></tr><tr><td>210</td><td>&quot;Customer 2&quot;</td><td>&quot;200200&quot;</td></tr><tr><td>220</td><td>&quot;Customer 3&quot;</td><td>&quot;300100&quot;</td></tr><tr><td>220</td><td>&quot;Customer 3&quot;</td><td>&quot;300200&quot;</td></tr><tr><td>230</td><td>&quot;Customer 4&quot;</td><td>&quot;400100&quot;</td></tr><tr><td>230</td><td>&quot;Customer 4&quot;</td><td>&quot;400200&quot;</td></tr><tr><td>240</td><td>&quot;Customer 5&quot;</td><td>&quot;500100&quot;</td></tr><tr><td>240</td><td>&quot;Customer 5&quot;</td><td>&quot;500200&quot;</td></tr></tbody></table></div>"
      ],
      "text/plain": [
       "shape: (30, 3)\n",
       "┌─────┬─────────────┬───────────────────┐\n",
       "│ ID  ┆ DESCRIPTION ┆ Phone1_Int_to-Str │\n",
       "│ --- ┆ ---         ┆ ---               │\n",
       "│ i64 ┆ str         ┆ str               │\n",
       "╞═════╪═════════════╪═══════════════════╡\n",
       "│ 100 ┆ Customer 1  ┆ 100100            │\n",
       "│ 100 ┆ Customer 1  ┆ 100200            │\n",
       "│ 110 ┆ Customer 2  ┆ 200100            │\n",
       "│ 110 ┆ Customer 2  ┆ 200200            │\n",
       "│ 120 ┆ Customer 3  ┆ 300100            │\n",
       "│ 120 ┆ Customer 3  ┆ 300200            │\n",
       "│ 130 ┆ Customer 4  ┆ 400100            │\n",
       "│ 130 ┆ Customer 4  ┆ 400200            │\n",
       "│ 140 ┆ Customer 5  ┆ 500100            │\n",
       "│ 140 ┆ Customer 5  ┆ 500200            │\n",
       "│ 150 ┆ Customer 1  ┆ 100100            │\n",
       "│ 150 ┆ Customer 1  ┆ 100200            │\n",
       "│ 160 ┆ Customer 2  ┆ 200100            │\n",
       "│ 160 ┆ Customer 2  ┆ 200200            │\n",
       "│ 170 ┆ Customer 3  ┆ 300100            │\n",
       "│ 170 ┆ Customer 3  ┆ 300200            │\n",
       "│ 180 ┆ Customer 4  ┆ 400100            │\n",
       "│ 180 ┆ Customer 4  ┆ 400200            │\n",
       "│ 190 ┆ Customer 5  ┆ 500100            │\n",
       "│ 190 ┆ Customer 5  ┆ 500200            │\n",
       "│ 200 ┆ Customer 1  ┆ 100100            │\n",
       "│ 200 ┆ Customer 1  ┆ 100200            │\n",
       "│ 210 ┆ Customer 2  ┆ 200100            │\n",
       "│ 210 ┆ Customer 2  ┆ 200200            │\n",
       "│ 220 ┆ Customer 3  ┆ 300100            │\n",
       "│ 220 ┆ Customer 3  ┆ 300200            │\n",
       "│ 230 ┆ Customer 4  ┆ 400100            │\n",
       "│ 230 ┆ Customer 4  ┆ 400200            │\n",
       "│ 240 ┆ Customer 5  ┆ 500100            │\n",
       "│ 240 ┆ Customer 5  ┆ 500200            │\n",
       "└─────┴─────────────┴───────────────────┘"
      ]
     },
     "execution_count": 321,
     "metadata": {},
     "output_type": "execute_result"
    }
   ],
   "source": [
    "out = customer.select(\n",
    " pl.col(\"ID\"),\n",
    " pl.col(\"DESCRIPTION\"),\n",
    " pl.col(\"PHONE1\").cast(pl.List(pl.Utf8)).alias(\"Phone1_Int_to-Str\"),\n",
    " ).explode(\"Phone1_Int_to-Str\")\n",
    "out"
   ]
  },
  {
   "cell_type": "markdown",
   "metadata": {},
   "source": [
    "### Struct"
   ]
  },
  {
   "cell_type": "code",
   "execution_count": 342,
   "metadata": {},
   "outputs": [
    {
     "data": {
      "text/html": [
       "<div><style>\n",
       ".dataframe > thead > tr,\n",
       ".dataframe > tbody > tr {\n",
       "  text-align: right;\n",
       "  white-space: pre-wrap;\n",
       "}\n",
       "</style>\n",
       "<small>shape: (5, 1)</small><table border=\"1\" class=\"dataframe\"><thead><tr><th>Country</th></tr><tr><td>struct[16]</td></tr></thead><tbody><tr><td>{&quot;China&quot;,2001,&quot;Software&quot;,22.279014,8.3772e10,1415,878,3.5032e10,166,4.5027e10,11,57.088673,82.240272,50,&quot;Robots&quot;,621221}</td></tr><tr><td>{&quot;Japan&quot;,2011,&quot;Semiconductor&quot;,31.899013,3.5511e10,7899,364,3.7142e10,217,1.1474e10,14,78.17209,48.552982,134,&quot;5G Equipment&quot;,431928}</td></tr><tr><td>{&quot;Japan&quot;,2009,&quot;Robotics&quot;,33.574466,8.4809e10,3749,425,1.5704e11,451,5.4989e9,14,55.810668,66.495286,58,&quot;Semiconductors&quot;,55776}</td></tr><tr><td>{&quot;Japan&quot;,2019,&quot;Cloud Computing&quot;,24.904248,2.2678e10,3841,62,1.0313e11,264,2.1863e10,10,78.553714,28.807251,150,&quot;Robots&quot;,267852}</td></tr><tr><td>{&quot;China&quot;,2002,&quot;Robotics&quot;,46.975827,3.4537e10,1704,458,1.1121e11,463,4.0983e10,10,70.427548,38.746268,74,&quot;AI Chips&quot;,654162}</td></tr></tbody></table></div>"
      ],
      "text/plain": [
       "shape: (5, 1)\n",
       "┌─────────────────────────────────┐\n",
       "│ Country                         │\n",
       "│ ---                             │\n",
       "│ struct[16]                      │\n",
       "╞═════════════════════════════════╡\n",
       "│ {\"China\",2001,\"Software\",22.27… │\n",
       "│ {\"Japan\",2011,\"Semiconductor\",… │\n",
       "│ {\"Japan\",2009,\"Robotics\",33.57… │\n",
       "│ {\"Japan\",2019,\"Cloud Computing… │\n",
       "│ {\"China\",2002,\"Robotics\",46.97… │\n",
       "└─────────────────────────────────┘"
      ]
     },
     "execution_count": 342,
     "metadata": {},
     "output_type": "execute_result"
    }
   ],
   "source": [
    "df.select(\n",
    "    pl.struct(pl.all())\n",
    ").head()"
   ]
  },
  {
   "cell_type": "markdown",
   "metadata": {},
   "source": [
    "### Duplicated"
   ]
  },
  {
   "cell_type": "code",
   "execution_count": 346,
   "metadata": {},
   "outputs": [
    {
     "data": {
      "text/plain": [
       "(5000, 16)"
      ]
     },
     "execution_count": 346,
     "metadata": {},
     "output_type": "execute_result"
    }
   ],
   "source": [
    "df.filter(\n",
    "    pl.struct(pl.all()).is_duplicated()\n",
    ").shape"
   ]
  },
  {
   "cell_type": "markdown",
   "metadata": {},
   "source": [
    "All the rows were duplicated above in the iteration and load the same 5 dfs as they were different"
   ]
  },
  {
   "cell_type": "code",
   "execution_count": 348,
   "metadata": {},
   "outputs": [
    {
     "data": {
      "text/html": [
       "<div><style>\n",
       ".dataframe > thead > tr,\n",
       ".dataframe > tbody > tr {\n",
       "  text-align: right;\n",
       "  white-space: pre-wrap;\n",
       "}\n",
       "</style>\n",
       "<small>shape: (5, 5)</small><table border=\"1\" class=\"dataframe\"><thead><tr><th>customer_id</th><th>customer_unique_id</th><th>customer_zip_code_prefix</th><th>customer_city</th><th>customer_state</th></tr><tr><td>str</td><td>str</td><td>i64</td><td>str</td><td>str</td></tr></thead><tbody><tr><td>&quot;06b8999e2fba1a1fbc88172c00ba8b…</td><td>&quot;861eff4711a542e4b93843c6dd7feb…</td><td>14409</td><td>&quot;franca&quot;</td><td>&quot;SP&quot;</td></tr><tr><td>&quot;18955e83d337fd6b2def6b18a428ac…</td><td>&quot;290c77bc529b7ac935b93aa66c333d…</td><td>9790</td><td>&quot;sao bernardo do campo&quot;</td><td>&quot;SP&quot;</td></tr><tr><td>&quot;4e7b3e00288586ebd08712fdd0374a…</td><td>&quot;060e732b5b29e8181a18229c7b0b2b…</td><td>1151</td><td>&quot;sao paulo&quot;</td><td>&quot;SP&quot;</td></tr><tr><td>&quot;b2b6027bc5c5109e529d4dc6358b12…</td><td>&quot;259dac757896d24d7702b9acbbff3f…</td><td>8775</td><td>&quot;mogi das cruzes&quot;</td><td>&quot;SP&quot;</td></tr><tr><td>&quot;4f2d8ab171c80ec8364f7c12e35b23…</td><td>&quot;345ecd01c38d18a9036ed96c73b8d0…</td><td>13056</td><td>&quot;campinas&quot;</td><td>&quot;SP&quot;</td></tr></tbody></table></div>"
      ],
      "text/plain": [
       "shape: (5, 5)\n",
       "┌────────────────────┬────────────────────┬───────────────────┬───────────────────┬────────────────┐\n",
       "│ customer_id        ┆ customer_unique_id ┆ customer_zip_code ┆ customer_city     ┆ customer_state │\n",
       "│ ---                ┆ ---                ┆ _prefix           ┆ ---               ┆ ---            │\n",
       "│ str                ┆ str                ┆ ---               ┆ str               ┆ str            │\n",
       "│                    ┆                    ┆ i64               ┆                   ┆                │\n",
       "╞════════════════════╪════════════════════╪═══════════════════╪═══════════════════╪════════════════╡\n",
       "│ 06b8999e2fba1a1fbc ┆ 861eff4711a542e4b9 ┆ 14409             ┆ franca            ┆ SP             │\n",
       "│ 88172c00ba8b…      ┆ 3843c6dd7feb…      ┆                   ┆                   ┆                │\n",
       "│ 18955e83d337fd6b2d ┆ 290c77bc529b7ac935 ┆ 9790              ┆ sao bernardo do   ┆ SP             │\n",
       "│ ef6b18a428ac…      ┆ b93aa66c333d…      ┆                   ┆ campo             ┆                │\n",
       "│ 4e7b3e00288586ebd0 ┆ 060e732b5b29e8181a ┆ 1151              ┆ sao paulo         ┆ SP             │\n",
       "│ 8712fdd0374a…      ┆ 18229c7b0b2b…      ┆                   ┆                   ┆                │\n",
       "│ b2b6027bc5c5109e52 ┆ 259dac757896d24d77 ┆ 8775              ┆ mogi das cruzes   ┆ SP             │\n",
       "│ 9d4dc6358b12…      ┆ 02b9acbbff3f…      ┆                   ┆                   ┆                │\n",
       "│ 4f2d8ab171c80ec836 ┆ 345ecd01c38d18a903 ┆ 13056             ┆ campinas          ┆ SP             │\n",
       "│ 4f7c12e35b23…      ┆ 6ed96c73b8d0…      ┆                   ┆                   ┆                │\n",
       "└────────────────────┴────────────────────┴───────────────────┴───────────────────┴────────────────┘"
      ]
     },
     "execution_count": 348,
     "metadata": {},
     "output_type": "execute_result"
    }
   ],
   "source": [
    "customers.head()"
   ]
  },
  {
   "cell_type": "code",
   "execution_count": 351,
   "metadata": {},
   "outputs": [
    {
     "data": {
      "text/html": [
       "<div><style>\n",
       ".dataframe > thead > tr,\n",
       ".dataframe > tbody > tr {\n",
       "  text-align: right;\n",
       "  white-space: pre-wrap;\n",
       "}\n",
       "</style>\n",
       "<small>shape: (5, 5)</small><table border=\"1\" class=\"dataframe\"><thead><tr><th>customer_id</th><th>customer_unique_id</th><th>customer_zip_code_prefix</th><th>customer_city</th><th>customer_state</th></tr><tr><td>str</td><td>str</td><td>i32</td><td>str</td><td>cat</td></tr></thead><tbody><tr><td>&quot;06b8999e2fba1a1fbc88172c00ba8b…</td><td>&quot;861eff4711a542e4b93843c6dd7feb…</td><td>14409</td><td>&quot;franca&quot;</td><td>&quot;SP&quot;</td></tr><tr><td>&quot;18955e83d337fd6b2def6b18a428ac…</td><td>&quot;290c77bc529b7ac935b93aa66c333d…</td><td>9790</td><td>&quot;sao bernardo do campo&quot;</td><td>&quot;SP&quot;</td></tr><tr><td>&quot;4e7b3e00288586ebd08712fdd0374a…</td><td>&quot;060e732b5b29e8181a18229c7b0b2b…</td><td>1151</td><td>&quot;sao paulo&quot;</td><td>&quot;SP&quot;</td></tr><tr><td>&quot;b2b6027bc5c5109e529d4dc6358b12…</td><td>&quot;259dac757896d24d7702b9acbbff3f…</td><td>8775</td><td>&quot;mogi das cruzes&quot;</td><td>&quot;SP&quot;</td></tr><tr><td>&quot;4f2d8ab171c80ec8364f7c12e35b23…</td><td>&quot;345ecd01c38d18a9036ed96c73b8d0…</td><td>13056</td><td>&quot;campinas&quot;</td><td>&quot;SP&quot;</td></tr></tbody></table></div>"
      ],
      "text/plain": [
       "shape: (5, 5)\n",
       "┌────────────────────┬────────────────────┬───────────────────┬───────────────────┬────────────────┐\n",
       "│ customer_id        ┆ customer_unique_id ┆ customer_zip_code ┆ customer_city     ┆ customer_state │\n",
       "│ ---                ┆ ---                ┆ _prefix           ┆ ---               ┆ ---            │\n",
       "│ str                ┆ str                ┆ ---               ┆ str               ┆ cat            │\n",
       "│                    ┆                    ┆ i32               ┆                   ┆                │\n",
       "╞════════════════════╪════════════════════╪═══════════════════╪═══════════════════╪════════════════╡\n",
       "│ 06b8999e2fba1a1fbc ┆ 861eff4711a542e4b9 ┆ 14409             ┆ franca            ┆ SP             │\n",
       "│ 88172c00ba8b…      ┆ 3843c6dd7feb…      ┆                   ┆                   ┆                │\n",
       "│ 18955e83d337fd6b2d ┆ 290c77bc529b7ac935 ┆ 9790              ┆ sao bernardo do   ┆ SP             │\n",
       "│ ef6b18a428ac…      ┆ b93aa66c333d…      ┆                   ┆ campo             ┆                │\n",
       "│ 4e7b3e00288586ebd0 ┆ 060e732b5b29e8181a ┆ 1151              ┆ sao paulo         ┆ SP             │\n",
       "│ 8712fdd0374a…      ┆ 18229c7b0b2b…      ┆                   ┆                   ┆                │\n",
       "│ b2b6027bc5c5109e52 ┆ 259dac757896d24d77 ┆ 8775              ┆ mogi das cruzes   ┆ SP             │\n",
       "│ 9d4dc6358b12…      ┆ 02b9acbbff3f…      ┆                   ┆                   ┆                │\n",
       "│ 4f2d8ab171c80ec836 ┆ 345ecd01c38d18a903 ┆ 13056             ┆ campinas          ┆ SP             │\n",
       "│ 4f7c12e35b23…      ┆ 6ed96c73b8d0…      ┆                   ┆                   ┆                │\n",
       "└────────────────────┴────────────────────┴───────────────────┴───────────────────┴────────────────┘"
      ]
     },
     "execution_count": 351,
     "metadata": {},
     "output_type": "execute_result"
    }
   ],
   "source": []
  }
 ],
 "metadata": {
  "kernelspec": {
   "display_name": ".venv",
   "language": "python",
   "name": "python3"
  },
  "language_info": {
   "codemirror_mode": {
    "name": "ipython",
    "version": 3
   },
   "file_extension": ".py",
   "mimetype": "text/x-python",
   "name": "python",
   "nbconvert_exporter": "python",
   "pygments_lexer": "ipython3",
   "version": "3.12.4"
  }
 },
 "nbformat": 4,
 "nbformat_minor": 2
}
